{
  "nbformat": 4,
  "nbformat_minor": 0,
  "metadata": {
    "colab": {
      "name": "Pandas_Tutorial_EDX.ipynb",
      "provenance": []
    },
    "kernelspec": {
      "name": "python3",
      "display_name": "Python 3"
    }
  },
  "cells": [
    {
      "cell_type": "markdown",
      "metadata": {
        "id": "casJjY0E8FIJ"
      },
      "source": [
        "# 0. Importing Libraries"
      ]
    },
    {
      "cell_type": "code",
      "metadata": {
        "id": "Ggizrd9w4QZm"
      },
      "source": [
        "import numpy as np\n",
        "import pandas as pd\n",
        "import matplotlib.pyplot as plt\n",
        "import seaborn as sns\n",
        "%matplotlib inline"
      ],
      "execution_count": 1,
      "outputs": []
    },
    {
      "cell_type": "markdown",
      "metadata": {
        "id": "_bGDs6pDMmOU"
      },
      "source": [
        "# 1. Importing DataSet\n",
        "- If we wanna define new header, use `header=None`"
      ]
    },
    {
      "cell_type": "code",
      "metadata": {
        "colab": {
          "base_uri": "https://localhost:8080/",
          "height": 0
        },
        "id": "QAbZJsJTKvWV",
        "outputId": "3aa13734-fd7e-4554-d253-28c0f969a78e"
      },
      "source": [
        "url='https://s3-api.us-geo.objectstorage.softlayer.net/cf-courses-data/CognitiveClass/DA0101EN/auto.csv'\n",
        "df=pd.read_csv(url,header=None)\n",
        "df.head()"
      ],
      "execution_count": 2,
      "outputs": [
        {
          "output_type": "execute_result",
          "data": {
            "text/html": [
              "<div>\n",
              "<style scoped>\n",
              "    .dataframe tbody tr th:only-of-type {\n",
              "        vertical-align: middle;\n",
              "    }\n",
              "\n",
              "    .dataframe tbody tr th {\n",
              "        vertical-align: top;\n",
              "    }\n",
              "\n",
              "    .dataframe thead th {\n",
              "        text-align: right;\n",
              "    }\n",
              "</style>\n",
              "<table border=\"1\" class=\"dataframe\">\n",
              "  <thead>\n",
              "    <tr style=\"text-align: right;\">\n",
              "      <th></th>\n",
              "      <th>0</th>\n",
              "      <th>1</th>\n",
              "      <th>2</th>\n",
              "      <th>3</th>\n",
              "      <th>4</th>\n",
              "      <th>5</th>\n",
              "      <th>6</th>\n",
              "      <th>7</th>\n",
              "      <th>8</th>\n",
              "      <th>9</th>\n",
              "      <th>10</th>\n",
              "      <th>11</th>\n",
              "      <th>12</th>\n",
              "      <th>13</th>\n",
              "      <th>14</th>\n",
              "      <th>15</th>\n",
              "      <th>16</th>\n",
              "      <th>17</th>\n",
              "      <th>18</th>\n",
              "      <th>19</th>\n",
              "      <th>20</th>\n",
              "      <th>21</th>\n",
              "      <th>22</th>\n",
              "      <th>23</th>\n",
              "      <th>24</th>\n",
              "      <th>25</th>\n",
              "    </tr>\n",
              "  </thead>\n",
              "  <tbody>\n",
              "    <tr>\n",
              "      <th>0</th>\n",
              "      <td>3</td>\n",
              "      <td>?</td>\n",
              "      <td>alfa-romero</td>\n",
              "      <td>gas</td>\n",
              "      <td>std</td>\n",
              "      <td>two</td>\n",
              "      <td>convertible</td>\n",
              "      <td>rwd</td>\n",
              "      <td>front</td>\n",
              "      <td>88.6</td>\n",
              "      <td>168.8</td>\n",
              "      <td>64.1</td>\n",
              "      <td>48.8</td>\n",
              "      <td>2548</td>\n",
              "      <td>dohc</td>\n",
              "      <td>four</td>\n",
              "      <td>130</td>\n",
              "      <td>mpfi</td>\n",
              "      <td>3.47</td>\n",
              "      <td>2.68</td>\n",
              "      <td>9.0</td>\n",
              "      <td>111</td>\n",
              "      <td>5000</td>\n",
              "      <td>21</td>\n",
              "      <td>27</td>\n",
              "      <td>13495</td>\n",
              "    </tr>\n",
              "    <tr>\n",
              "      <th>1</th>\n",
              "      <td>3</td>\n",
              "      <td>?</td>\n",
              "      <td>alfa-romero</td>\n",
              "      <td>gas</td>\n",
              "      <td>std</td>\n",
              "      <td>two</td>\n",
              "      <td>convertible</td>\n",
              "      <td>rwd</td>\n",
              "      <td>front</td>\n",
              "      <td>88.6</td>\n",
              "      <td>168.8</td>\n",
              "      <td>64.1</td>\n",
              "      <td>48.8</td>\n",
              "      <td>2548</td>\n",
              "      <td>dohc</td>\n",
              "      <td>four</td>\n",
              "      <td>130</td>\n",
              "      <td>mpfi</td>\n",
              "      <td>3.47</td>\n",
              "      <td>2.68</td>\n",
              "      <td>9.0</td>\n",
              "      <td>111</td>\n",
              "      <td>5000</td>\n",
              "      <td>21</td>\n",
              "      <td>27</td>\n",
              "      <td>16500</td>\n",
              "    </tr>\n",
              "    <tr>\n",
              "      <th>2</th>\n",
              "      <td>1</td>\n",
              "      <td>?</td>\n",
              "      <td>alfa-romero</td>\n",
              "      <td>gas</td>\n",
              "      <td>std</td>\n",
              "      <td>two</td>\n",
              "      <td>hatchback</td>\n",
              "      <td>rwd</td>\n",
              "      <td>front</td>\n",
              "      <td>94.5</td>\n",
              "      <td>171.2</td>\n",
              "      <td>65.5</td>\n",
              "      <td>52.4</td>\n",
              "      <td>2823</td>\n",
              "      <td>ohcv</td>\n",
              "      <td>six</td>\n",
              "      <td>152</td>\n",
              "      <td>mpfi</td>\n",
              "      <td>2.68</td>\n",
              "      <td>3.47</td>\n",
              "      <td>9.0</td>\n",
              "      <td>154</td>\n",
              "      <td>5000</td>\n",
              "      <td>19</td>\n",
              "      <td>26</td>\n",
              "      <td>16500</td>\n",
              "    </tr>\n",
              "    <tr>\n",
              "      <th>3</th>\n",
              "      <td>2</td>\n",
              "      <td>164</td>\n",
              "      <td>audi</td>\n",
              "      <td>gas</td>\n",
              "      <td>std</td>\n",
              "      <td>four</td>\n",
              "      <td>sedan</td>\n",
              "      <td>fwd</td>\n",
              "      <td>front</td>\n",
              "      <td>99.8</td>\n",
              "      <td>176.6</td>\n",
              "      <td>66.2</td>\n",
              "      <td>54.3</td>\n",
              "      <td>2337</td>\n",
              "      <td>ohc</td>\n",
              "      <td>four</td>\n",
              "      <td>109</td>\n",
              "      <td>mpfi</td>\n",
              "      <td>3.19</td>\n",
              "      <td>3.40</td>\n",
              "      <td>10.0</td>\n",
              "      <td>102</td>\n",
              "      <td>5500</td>\n",
              "      <td>24</td>\n",
              "      <td>30</td>\n",
              "      <td>13950</td>\n",
              "    </tr>\n",
              "    <tr>\n",
              "      <th>4</th>\n",
              "      <td>2</td>\n",
              "      <td>164</td>\n",
              "      <td>audi</td>\n",
              "      <td>gas</td>\n",
              "      <td>std</td>\n",
              "      <td>four</td>\n",
              "      <td>sedan</td>\n",
              "      <td>4wd</td>\n",
              "      <td>front</td>\n",
              "      <td>99.4</td>\n",
              "      <td>176.6</td>\n",
              "      <td>66.4</td>\n",
              "      <td>54.3</td>\n",
              "      <td>2824</td>\n",
              "      <td>ohc</td>\n",
              "      <td>five</td>\n",
              "      <td>136</td>\n",
              "      <td>mpfi</td>\n",
              "      <td>3.19</td>\n",
              "      <td>3.40</td>\n",
              "      <td>8.0</td>\n",
              "      <td>115</td>\n",
              "      <td>5500</td>\n",
              "      <td>18</td>\n",
              "      <td>22</td>\n",
              "      <td>17450</td>\n",
              "    </tr>\n",
              "  </tbody>\n",
              "</table>\n",
              "</div>"
            ],
            "text/plain": [
              "   0    1            2    3    4     5   ...    20   21    22  23  24     25\n",
              "0   3    ?  alfa-romero  gas  std   two  ...   9.0  111  5000  21  27  13495\n",
              "1   3    ?  alfa-romero  gas  std   two  ...   9.0  111  5000  21  27  16500\n",
              "2   1    ?  alfa-romero  gas  std   two  ...   9.0  154  5000  19  26  16500\n",
              "3   2  164         audi  gas  std  four  ...  10.0  102  5500  24  30  13950\n",
              "4   2  164         audi  gas  std  four  ...   8.0  115  5500  18  22  17450\n",
              "\n",
              "[5 rows x 26 columns]"
            ]
          },
          "metadata": {
            "tags": []
          },
          "execution_count": 2
        }
      ]
    },
    {
      "cell_type": "markdown",
      "metadata": {
        "id": "5Pps9d4sLdvo"
      },
      "source": [
        "# 2. Adding headers (if needed)\n",
        "\n",
        "- Repalce default headers by `df.columns=headers`"
      ]
    },
    {
      "cell_type": "code",
      "metadata": {
        "colab": {
          "base_uri": "https://localhost:8080/",
          "height": 0
        },
        "id": "n5CFcsFdLLAh",
        "outputId": "108a4c67-1096-4532-f437-18f9d70e6d21"
      },
      "source": [
        "headers=[\"symboling\",\"normalized-losses\",\"make\",\"fuel-type\",\"aspiration\", \"num-of-doors\",\"body-style\",\n",
        "         \"drive-wheels\",\"engine-location\",\"wheel-base\", \"length\",\"width\",\"height\",\"curb-weight\",\"engine-type\",\n",
        "         \"num-of-cylinders\", \"engine-size\",\"fuel-system\",\"bore\",\"stroke\",\"compression-ratio\",\"horsepower\",\n",
        "         \"peak-rpm\",\"city-mpg\",\"highway-mpg\",\"price\"]\n",
        "\n",
        "df.columns=headers #replacing defualt header with new headers\n",
        "\n",
        "df.head()"
      ],
      "execution_count": 3,
      "outputs": [
        {
          "output_type": "execute_result",
          "data": {
            "text/html": [
              "<div>\n",
              "<style scoped>\n",
              "    .dataframe tbody tr th:only-of-type {\n",
              "        vertical-align: middle;\n",
              "    }\n",
              "\n",
              "    .dataframe tbody tr th {\n",
              "        vertical-align: top;\n",
              "    }\n",
              "\n",
              "    .dataframe thead th {\n",
              "        text-align: right;\n",
              "    }\n",
              "</style>\n",
              "<table border=\"1\" class=\"dataframe\">\n",
              "  <thead>\n",
              "    <tr style=\"text-align: right;\">\n",
              "      <th></th>\n",
              "      <th>symboling</th>\n",
              "      <th>normalized-losses</th>\n",
              "      <th>make</th>\n",
              "      <th>fuel-type</th>\n",
              "      <th>aspiration</th>\n",
              "      <th>num-of-doors</th>\n",
              "      <th>body-style</th>\n",
              "      <th>drive-wheels</th>\n",
              "      <th>engine-location</th>\n",
              "      <th>wheel-base</th>\n",
              "      <th>length</th>\n",
              "      <th>width</th>\n",
              "      <th>height</th>\n",
              "      <th>curb-weight</th>\n",
              "      <th>engine-type</th>\n",
              "      <th>num-of-cylinders</th>\n",
              "      <th>engine-size</th>\n",
              "      <th>fuel-system</th>\n",
              "      <th>bore</th>\n",
              "      <th>stroke</th>\n",
              "      <th>compression-ratio</th>\n",
              "      <th>horsepower</th>\n",
              "      <th>peak-rpm</th>\n",
              "      <th>city-mpg</th>\n",
              "      <th>highway-mpg</th>\n",
              "      <th>price</th>\n",
              "    </tr>\n",
              "  </thead>\n",
              "  <tbody>\n",
              "    <tr>\n",
              "      <th>0</th>\n",
              "      <td>3</td>\n",
              "      <td>?</td>\n",
              "      <td>alfa-romero</td>\n",
              "      <td>gas</td>\n",
              "      <td>std</td>\n",
              "      <td>two</td>\n",
              "      <td>convertible</td>\n",
              "      <td>rwd</td>\n",
              "      <td>front</td>\n",
              "      <td>88.6</td>\n",
              "      <td>168.8</td>\n",
              "      <td>64.1</td>\n",
              "      <td>48.8</td>\n",
              "      <td>2548</td>\n",
              "      <td>dohc</td>\n",
              "      <td>four</td>\n",
              "      <td>130</td>\n",
              "      <td>mpfi</td>\n",
              "      <td>3.47</td>\n",
              "      <td>2.68</td>\n",
              "      <td>9.0</td>\n",
              "      <td>111</td>\n",
              "      <td>5000</td>\n",
              "      <td>21</td>\n",
              "      <td>27</td>\n",
              "      <td>13495</td>\n",
              "    </tr>\n",
              "    <tr>\n",
              "      <th>1</th>\n",
              "      <td>3</td>\n",
              "      <td>?</td>\n",
              "      <td>alfa-romero</td>\n",
              "      <td>gas</td>\n",
              "      <td>std</td>\n",
              "      <td>two</td>\n",
              "      <td>convertible</td>\n",
              "      <td>rwd</td>\n",
              "      <td>front</td>\n",
              "      <td>88.6</td>\n",
              "      <td>168.8</td>\n",
              "      <td>64.1</td>\n",
              "      <td>48.8</td>\n",
              "      <td>2548</td>\n",
              "      <td>dohc</td>\n",
              "      <td>four</td>\n",
              "      <td>130</td>\n",
              "      <td>mpfi</td>\n",
              "      <td>3.47</td>\n",
              "      <td>2.68</td>\n",
              "      <td>9.0</td>\n",
              "      <td>111</td>\n",
              "      <td>5000</td>\n",
              "      <td>21</td>\n",
              "      <td>27</td>\n",
              "      <td>16500</td>\n",
              "    </tr>\n",
              "    <tr>\n",
              "      <th>2</th>\n",
              "      <td>1</td>\n",
              "      <td>?</td>\n",
              "      <td>alfa-romero</td>\n",
              "      <td>gas</td>\n",
              "      <td>std</td>\n",
              "      <td>two</td>\n",
              "      <td>hatchback</td>\n",
              "      <td>rwd</td>\n",
              "      <td>front</td>\n",
              "      <td>94.5</td>\n",
              "      <td>171.2</td>\n",
              "      <td>65.5</td>\n",
              "      <td>52.4</td>\n",
              "      <td>2823</td>\n",
              "      <td>ohcv</td>\n",
              "      <td>six</td>\n",
              "      <td>152</td>\n",
              "      <td>mpfi</td>\n",
              "      <td>2.68</td>\n",
              "      <td>3.47</td>\n",
              "      <td>9.0</td>\n",
              "      <td>154</td>\n",
              "      <td>5000</td>\n",
              "      <td>19</td>\n",
              "      <td>26</td>\n",
              "      <td>16500</td>\n",
              "    </tr>\n",
              "    <tr>\n",
              "      <th>3</th>\n",
              "      <td>2</td>\n",
              "      <td>164</td>\n",
              "      <td>audi</td>\n",
              "      <td>gas</td>\n",
              "      <td>std</td>\n",
              "      <td>four</td>\n",
              "      <td>sedan</td>\n",
              "      <td>fwd</td>\n",
              "      <td>front</td>\n",
              "      <td>99.8</td>\n",
              "      <td>176.6</td>\n",
              "      <td>66.2</td>\n",
              "      <td>54.3</td>\n",
              "      <td>2337</td>\n",
              "      <td>ohc</td>\n",
              "      <td>four</td>\n",
              "      <td>109</td>\n",
              "      <td>mpfi</td>\n",
              "      <td>3.19</td>\n",
              "      <td>3.40</td>\n",
              "      <td>10.0</td>\n",
              "      <td>102</td>\n",
              "      <td>5500</td>\n",
              "      <td>24</td>\n",
              "      <td>30</td>\n",
              "      <td>13950</td>\n",
              "    </tr>\n",
              "    <tr>\n",
              "      <th>4</th>\n",
              "      <td>2</td>\n",
              "      <td>164</td>\n",
              "      <td>audi</td>\n",
              "      <td>gas</td>\n",
              "      <td>std</td>\n",
              "      <td>four</td>\n",
              "      <td>sedan</td>\n",
              "      <td>4wd</td>\n",
              "      <td>front</td>\n",
              "      <td>99.4</td>\n",
              "      <td>176.6</td>\n",
              "      <td>66.4</td>\n",
              "      <td>54.3</td>\n",
              "      <td>2824</td>\n",
              "      <td>ohc</td>\n",
              "      <td>five</td>\n",
              "      <td>136</td>\n",
              "      <td>mpfi</td>\n",
              "      <td>3.19</td>\n",
              "      <td>3.40</td>\n",
              "      <td>8.0</td>\n",
              "      <td>115</td>\n",
              "      <td>5500</td>\n",
              "      <td>18</td>\n",
              "      <td>22</td>\n",
              "      <td>17450</td>\n",
              "    </tr>\n",
              "  </tbody>\n",
              "</table>\n",
              "</div>"
            ],
            "text/plain": [
              "   symboling normalized-losses         make  ... city-mpg highway-mpg  price\n",
              "0          3                 ?  alfa-romero  ...       21          27  13495\n",
              "1          3                 ?  alfa-romero  ...       21          27  16500\n",
              "2          1                 ?  alfa-romero  ...       19          26  16500\n",
              "3          2               164         audi  ...       24          30  13950\n",
              "4          2               164         audi  ...       18          22  17450\n",
              "\n",
              "[5 rows x 26 columns]"
            ]
          },
          "metadata": {
            "tags": []
          },
          "execution_count": 3
        }
      ]
    },
    {
      "cell_type": "markdown",
      "metadata": {
        "id": "8wR0giRUP3Xp"
      },
      "source": [
        "# 3. Save the neew dataset as CSV in computer \n",
        " - After new defination of headers, save the new dataset as CSV-Fle in computer `df.to_csv(path)` "
      ]
    },
    {
      "cell_type": "code",
      "metadata": {
        "id": "hkcsX4gvO16z"
      },
      "source": [
        "df.to_csv(r'C:\\Users\\Pouria\\Desktop\\Machine Learning\\DataSetsautomobile.csv')"
      ],
      "execution_count": 4,
      "outputs": []
    },
    {
      "cell_type": "markdown",
      "metadata": {
        "id": "iw8qh_CGRZGW"
      },
      "source": [
        "# 4. Getting Started Analyzing Data in Python\n",
        "\n",
        "- Should check:\n",
        "  - Data Types\n",
        "  - Data Distribution \n",
        "\n",
        "- Locate potential issues with the data (e.g. wrong data or wrong data type. **_bore_** is worng data type in this example)\n",
        "\n",
        "\n",
        "---\n",
        "\n",
        "\n",
        "- In pandas, we use `dataframe.dtypes` to check data types "
      ]
    },
    {
      "cell_type": "code",
      "metadata": {
        "colab": {
          "base_uri": "https://localhost:8080/"
        },
        "id": "ltpvcubLQn-y",
        "outputId": "d79b4540-8dd8-4bbb-ee89-3b561ef715e9"
      },
      "source": [
        "df.dtypes"
      ],
      "execution_count": 5,
      "outputs": [
        {
          "output_type": "execute_result",
          "data": {
            "text/plain": [
              "symboling              int64\n",
              "normalized-losses     object\n",
              "make                  object\n",
              "fuel-type             object\n",
              "aspiration            object\n",
              "num-of-doors          object\n",
              "body-style            object\n",
              "drive-wheels          object\n",
              "engine-location       object\n",
              "wheel-base           float64\n",
              "length               float64\n",
              "width                float64\n",
              "height               float64\n",
              "curb-weight            int64\n",
              "engine-type           object\n",
              "num-of-cylinders      object\n",
              "engine-size            int64\n",
              "fuel-system           object\n",
              "bore                  object\n",
              "stroke                object\n",
              "compression-ratio    float64\n",
              "horsepower            object\n",
              "peak-rpm              object\n",
              "city-mpg               int64\n",
              "highway-mpg            int64\n",
              "price                 object\n",
              "dtype: object"
            ]
          },
          "metadata": {
            "tags": []
          },
          "execution_count": 5
        }
      ]
    },
    {
      "cell_type": "markdown",
      "metadata": {
        "id": "mk37rKsx_JPK"
      },
      "source": [
        "#### provide a concise summary of your DataFrame."
      ]
    },
    {
      "cell_type": "code",
      "metadata": {
        "colab": {
          "base_uri": "https://localhost:8080/"
        },
        "id": "D3bGpM3e_Il7",
        "outputId": "bd08ec75-ac98-4e8a-dbf4-26a7a4fcffa3"
      },
      "source": [
        "df.info()"
      ],
      "execution_count": 6,
      "outputs": [
        {
          "output_type": "stream",
          "text": [
            "<class 'pandas.core.frame.DataFrame'>\n",
            "RangeIndex: 205 entries, 0 to 204\n",
            "Data columns (total 26 columns):\n",
            " #   Column             Non-Null Count  Dtype  \n",
            "---  ------             --------------  -----  \n",
            " 0   symboling          205 non-null    int64  \n",
            " 1   normalized-losses  205 non-null    object \n",
            " 2   make               205 non-null    object \n",
            " 3   fuel-type          205 non-null    object \n",
            " 4   aspiration         205 non-null    object \n",
            " 5   num-of-doors       205 non-null    object \n",
            " 6   body-style         205 non-null    object \n",
            " 7   drive-wheels       205 non-null    object \n",
            " 8   engine-location    205 non-null    object \n",
            " 9   wheel-base         205 non-null    float64\n",
            " 10  length             205 non-null    float64\n",
            " 11  width              205 non-null    float64\n",
            " 12  height             205 non-null    float64\n",
            " 13  curb-weight        205 non-null    int64  \n",
            " 14  engine-type        205 non-null    object \n",
            " 15  num-of-cylinders   205 non-null    object \n",
            " 16  engine-size        205 non-null    int64  \n",
            " 17  fuel-system        205 non-null    object \n",
            " 18  bore               205 non-null    object \n",
            " 19  stroke             205 non-null    object \n",
            " 20  compression-ratio  205 non-null    float64\n",
            " 21  horsepower         205 non-null    object \n",
            " 22  peak-rpm           205 non-null    object \n",
            " 23  city-mpg           205 non-null    int64  \n",
            " 24  highway-mpg        205 non-null    int64  \n",
            " 25  price              205 non-null    object \n",
            "dtypes: float64(5), int64(5), object(16)\n",
            "memory usage: 41.8+ KB\n"
          ],
          "name": "stdout"
        }
      ]
    },
    {
      "cell_type": "markdown",
      "metadata": {
        "id": "txVGwQvJjC32"
      },
      "source": [
        "### 4.1 Returns a statistical summary\n",
        "\n",
        "  `df.describe()`\n",
        "* **_Count_** number of terms in the column\n",
        "* **_Mean_** is avarage of column\n",
        "* **_Std_** is standard deviation\n",
        "* **_25% | 50% | 75%_** are boundary of each of the quartiles."
      ]
    },
    {
      "cell_type": "code",
      "metadata": {
        "colab": {
          "base_uri": "https://localhost:8080/",
          "height": 297
        },
        "id": "lNrrVGZghmYx",
        "outputId": "27a4adb7-f98f-4e1d-aecb-7136ce5d9734"
      },
      "source": [
        "df.describe()"
      ],
      "execution_count": 7,
      "outputs": [
        {
          "output_type": "execute_result",
          "data": {
            "text/html": [
              "<div>\n",
              "<style scoped>\n",
              "    .dataframe tbody tr th:only-of-type {\n",
              "        vertical-align: middle;\n",
              "    }\n",
              "\n",
              "    .dataframe tbody tr th {\n",
              "        vertical-align: top;\n",
              "    }\n",
              "\n",
              "    .dataframe thead th {\n",
              "        text-align: right;\n",
              "    }\n",
              "</style>\n",
              "<table border=\"1\" class=\"dataframe\">\n",
              "  <thead>\n",
              "    <tr style=\"text-align: right;\">\n",
              "      <th></th>\n",
              "      <th>symboling</th>\n",
              "      <th>wheel-base</th>\n",
              "      <th>length</th>\n",
              "      <th>width</th>\n",
              "      <th>height</th>\n",
              "      <th>curb-weight</th>\n",
              "      <th>engine-size</th>\n",
              "      <th>compression-ratio</th>\n",
              "      <th>city-mpg</th>\n",
              "      <th>highway-mpg</th>\n",
              "    </tr>\n",
              "  </thead>\n",
              "  <tbody>\n",
              "    <tr>\n",
              "      <th>count</th>\n",
              "      <td>205.000000</td>\n",
              "      <td>205.000000</td>\n",
              "      <td>205.000000</td>\n",
              "      <td>205.000000</td>\n",
              "      <td>205.000000</td>\n",
              "      <td>205.000000</td>\n",
              "      <td>205.000000</td>\n",
              "      <td>205.000000</td>\n",
              "      <td>205.000000</td>\n",
              "      <td>205.000000</td>\n",
              "    </tr>\n",
              "    <tr>\n",
              "      <th>mean</th>\n",
              "      <td>0.834146</td>\n",
              "      <td>98.756585</td>\n",
              "      <td>174.049268</td>\n",
              "      <td>65.907805</td>\n",
              "      <td>53.724878</td>\n",
              "      <td>2555.565854</td>\n",
              "      <td>126.907317</td>\n",
              "      <td>10.142537</td>\n",
              "      <td>25.219512</td>\n",
              "      <td>30.751220</td>\n",
              "    </tr>\n",
              "    <tr>\n",
              "      <th>std</th>\n",
              "      <td>1.245307</td>\n",
              "      <td>6.021776</td>\n",
              "      <td>12.337289</td>\n",
              "      <td>2.145204</td>\n",
              "      <td>2.443522</td>\n",
              "      <td>520.680204</td>\n",
              "      <td>41.642693</td>\n",
              "      <td>3.972040</td>\n",
              "      <td>6.542142</td>\n",
              "      <td>6.886443</td>\n",
              "    </tr>\n",
              "    <tr>\n",
              "      <th>min</th>\n",
              "      <td>-2.000000</td>\n",
              "      <td>86.600000</td>\n",
              "      <td>141.100000</td>\n",
              "      <td>60.300000</td>\n",
              "      <td>47.800000</td>\n",
              "      <td>1488.000000</td>\n",
              "      <td>61.000000</td>\n",
              "      <td>7.000000</td>\n",
              "      <td>13.000000</td>\n",
              "      <td>16.000000</td>\n",
              "    </tr>\n",
              "    <tr>\n",
              "      <th>25%</th>\n",
              "      <td>0.000000</td>\n",
              "      <td>94.500000</td>\n",
              "      <td>166.300000</td>\n",
              "      <td>64.100000</td>\n",
              "      <td>52.000000</td>\n",
              "      <td>2145.000000</td>\n",
              "      <td>97.000000</td>\n",
              "      <td>8.600000</td>\n",
              "      <td>19.000000</td>\n",
              "      <td>25.000000</td>\n",
              "    </tr>\n",
              "    <tr>\n",
              "      <th>50%</th>\n",
              "      <td>1.000000</td>\n",
              "      <td>97.000000</td>\n",
              "      <td>173.200000</td>\n",
              "      <td>65.500000</td>\n",
              "      <td>54.100000</td>\n",
              "      <td>2414.000000</td>\n",
              "      <td>120.000000</td>\n",
              "      <td>9.000000</td>\n",
              "      <td>24.000000</td>\n",
              "      <td>30.000000</td>\n",
              "    </tr>\n",
              "    <tr>\n",
              "      <th>75%</th>\n",
              "      <td>2.000000</td>\n",
              "      <td>102.400000</td>\n",
              "      <td>183.100000</td>\n",
              "      <td>66.900000</td>\n",
              "      <td>55.500000</td>\n",
              "      <td>2935.000000</td>\n",
              "      <td>141.000000</td>\n",
              "      <td>9.400000</td>\n",
              "      <td>30.000000</td>\n",
              "      <td>34.000000</td>\n",
              "    </tr>\n",
              "    <tr>\n",
              "      <th>max</th>\n",
              "      <td>3.000000</td>\n",
              "      <td>120.900000</td>\n",
              "      <td>208.100000</td>\n",
              "      <td>72.300000</td>\n",
              "      <td>59.800000</td>\n",
              "      <td>4066.000000</td>\n",
              "      <td>326.000000</td>\n",
              "      <td>23.000000</td>\n",
              "      <td>49.000000</td>\n",
              "      <td>54.000000</td>\n",
              "    </tr>\n",
              "  </tbody>\n",
              "</table>\n",
              "</div>"
            ],
            "text/plain": [
              "        symboling  wheel-base  ...    city-mpg  highway-mpg\n",
              "count  205.000000  205.000000  ...  205.000000   205.000000\n",
              "mean     0.834146   98.756585  ...   25.219512    30.751220\n",
              "std      1.245307    6.021776  ...    6.542142     6.886443\n",
              "min     -2.000000   86.600000  ...   13.000000    16.000000\n",
              "25%      0.000000   94.500000  ...   19.000000    25.000000\n",
              "50%      1.000000   97.000000  ...   24.000000    30.000000\n",
              "75%      2.000000  102.400000  ...   30.000000    34.000000\n",
              "max      3.000000  120.900000  ...   49.000000    54.000000\n",
              "\n",
              "[8 rows x 10 columns]"
            ]
          },
          "metadata": {
            "tags": []
          },
          "execution_count": 7
        }
      ]
    },
    {
      "cell_type": "markdown",
      "metadata": {
        "id": "nZV1sjNUj5vF"
      },
      "source": [
        "### 4.2 Provides full summary statistics\n",
        "`df.describe(include='all')`\n",
        "\n",
        "* **_Unique_** is the number of distinct objects in the column\n",
        "* **_Top_** is most frequently occurring object\n",
        "* **_freq_** is the number of times the top object appears in the column.\n"
      ]
    },
    {
      "cell_type": "code",
      "metadata": {
        "colab": {
          "base_uri": "https://localhost:8080/",
          "height": 444
        },
        "id": "dmyDdeVujVxk",
        "outputId": "49e28d8c-eac7-4e18-f246-651260e131b2"
      },
      "source": [
        "df.describe(include='all')"
      ],
      "execution_count": 8,
      "outputs": [
        {
          "output_type": "execute_result",
          "data": {
            "text/html": [
              "<div>\n",
              "<style scoped>\n",
              "    .dataframe tbody tr th:only-of-type {\n",
              "        vertical-align: middle;\n",
              "    }\n",
              "\n",
              "    .dataframe tbody tr th {\n",
              "        vertical-align: top;\n",
              "    }\n",
              "\n",
              "    .dataframe thead th {\n",
              "        text-align: right;\n",
              "    }\n",
              "</style>\n",
              "<table border=\"1\" class=\"dataframe\">\n",
              "  <thead>\n",
              "    <tr style=\"text-align: right;\">\n",
              "      <th></th>\n",
              "      <th>symboling</th>\n",
              "      <th>normalized-losses</th>\n",
              "      <th>make</th>\n",
              "      <th>fuel-type</th>\n",
              "      <th>aspiration</th>\n",
              "      <th>num-of-doors</th>\n",
              "      <th>body-style</th>\n",
              "      <th>drive-wheels</th>\n",
              "      <th>engine-location</th>\n",
              "      <th>wheel-base</th>\n",
              "      <th>length</th>\n",
              "      <th>width</th>\n",
              "      <th>height</th>\n",
              "      <th>curb-weight</th>\n",
              "      <th>engine-type</th>\n",
              "      <th>num-of-cylinders</th>\n",
              "      <th>engine-size</th>\n",
              "      <th>fuel-system</th>\n",
              "      <th>bore</th>\n",
              "      <th>stroke</th>\n",
              "      <th>compression-ratio</th>\n",
              "      <th>horsepower</th>\n",
              "      <th>peak-rpm</th>\n",
              "      <th>city-mpg</th>\n",
              "      <th>highway-mpg</th>\n",
              "      <th>price</th>\n",
              "    </tr>\n",
              "  </thead>\n",
              "  <tbody>\n",
              "    <tr>\n",
              "      <th>count</th>\n",
              "      <td>205.000000</td>\n",
              "      <td>205</td>\n",
              "      <td>205</td>\n",
              "      <td>205</td>\n",
              "      <td>205</td>\n",
              "      <td>205</td>\n",
              "      <td>205</td>\n",
              "      <td>205</td>\n",
              "      <td>205</td>\n",
              "      <td>205.000000</td>\n",
              "      <td>205.000000</td>\n",
              "      <td>205.000000</td>\n",
              "      <td>205.000000</td>\n",
              "      <td>205.000000</td>\n",
              "      <td>205</td>\n",
              "      <td>205</td>\n",
              "      <td>205.000000</td>\n",
              "      <td>205</td>\n",
              "      <td>205</td>\n",
              "      <td>205</td>\n",
              "      <td>205.000000</td>\n",
              "      <td>205</td>\n",
              "      <td>205</td>\n",
              "      <td>205.000000</td>\n",
              "      <td>205.000000</td>\n",
              "      <td>205</td>\n",
              "    </tr>\n",
              "    <tr>\n",
              "      <th>unique</th>\n",
              "      <td>NaN</td>\n",
              "      <td>52</td>\n",
              "      <td>22</td>\n",
              "      <td>2</td>\n",
              "      <td>2</td>\n",
              "      <td>3</td>\n",
              "      <td>5</td>\n",
              "      <td>3</td>\n",
              "      <td>2</td>\n",
              "      <td>NaN</td>\n",
              "      <td>NaN</td>\n",
              "      <td>NaN</td>\n",
              "      <td>NaN</td>\n",
              "      <td>NaN</td>\n",
              "      <td>7</td>\n",
              "      <td>7</td>\n",
              "      <td>NaN</td>\n",
              "      <td>8</td>\n",
              "      <td>39</td>\n",
              "      <td>37</td>\n",
              "      <td>NaN</td>\n",
              "      <td>60</td>\n",
              "      <td>24</td>\n",
              "      <td>NaN</td>\n",
              "      <td>NaN</td>\n",
              "      <td>187</td>\n",
              "    </tr>\n",
              "    <tr>\n",
              "      <th>top</th>\n",
              "      <td>NaN</td>\n",
              "      <td>?</td>\n",
              "      <td>toyota</td>\n",
              "      <td>gas</td>\n",
              "      <td>std</td>\n",
              "      <td>four</td>\n",
              "      <td>sedan</td>\n",
              "      <td>fwd</td>\n",
              "      <td>front</td>\n",
              "      <td>NaN</td>\n",
              "      <td>NaN</td>\n",
              "      <td>NaN</td>\n",
              "      <td>NaN</td>\n",
              "      <td>NaN</td>\n",
              "      <td>ohc</td>\n",
              "      <td>four</td>\n",
              "      <td>NaN</td>\n",
              "      <td>mpfi</td>\n",
              "      <td>3.62</td>\n",
              "      <td>3.40</td>\n",
              "      <td>NaN</td>\n",
              "      <td>68</td>\n",
              "      <td>5500</td>\n",
              "      <td>NaN</td>\n",
              "      <td>NaN</td>\n",
              "      <td>?</td>\n",
              "    </tr>\n",
              "    <tr>\n",
              "      <th>freq</th>\n",
              "      <td>NaN</td>\n",
              "      <td>41</td>\n",
              "      <td>32</td>\n",
              "      <td>185</td>\n",
              "      <td>168</td>\n",
              "      <td>114</td>\n",
              "      <td>96</td>\n",
              "      <td>120</td>\n",
              "      <td>202</td>\n",
              "      <td>NaN</td>\n",
              "      <td>NaN</td>\n",
              "      <td>NaN</td>\n",
              "      <td>NaN</td>\n",
              "      <td>NaN</td>\n",
              "      <td>148</td>\n",
              "      <td>159</td>\n",
              "      <td>NaN</td>\n",
              "      <td>94</td>\n",
              "      <td>23</td>\n",
              "      <td>20</td>\n",
              "      <td>NaN</td>\n",
              "      <td>19</td>\n",
              "      <td>37</td>\n",
              "      <td>NaN</td>\n",
              "      <td>NaN</td>\n",
              "      <td>4</td>\n",
              "    </tr>\n",
              "    <tr>\n",
              "      <th>mean</th>\n",
              "      <td>0.834146</td>\n",
              "      <td>NaN</td>\n",
              "      <td>NaN</td>\n",
              "      <td>NaN</td>\n",
              "      <td>NaN</td>\n",
              "      <td>NaN</td>\n",
              "      <td>NaN</td>\n",
              "      <td>NaN</td>\n",
              "      <td>NaN</td>\n",
              "      <td>98.756585</td>\n",
              "      <td>174.049268</td>\n",
              "      <td>65.907805</td>\n",
              "      <td>53.724878</td>\n",
              "      <td>2555.565854</td>\n",
              "      <td>NaN</td>\n",
              "      <td>NaN</td>\n",
              "      <td>126.907317</td>\n",
              "      <td>NaN</td>\n",
              "      <td>NaN</td>\n",
              "      <td>NaN</td>\n",
              "      <td>10.142537</td>\n",
              "      <td>NaN</td>\n",
              "      <td>NaN</td>\n",
              "      <td>25.219512</td>\n",
              "      <td>30.751220</td>\n",
              "      <td>NaN</td>\n",
              "    </tr>\n",
              "    <tr>\n",
              "      <th>std</th>\n",
              "      <td>1.245307</td>\n",
              "      <td>NaN</td>\n",
              "      <td>NaN</td>\n",
              "      <td>NaN</td>\n",
              "      <td>NaN</td>\n",
              "      <td>NaN</td>\n",
              "      <td>NaN</td>\n",
              "      <td>NaN</td>\n",
              "      <td>NaN</td>\n",
              "      <td>6.021776</td>\n",
              "      <td>12.337289</td>\n",
              "      <td>2.145204</td>\n",
              "      <td>2.443522</td>\n",
              "      <td>520.680204</td>\n",
              "      <td>NaN</td>\n",
              "      <td>NaN</td>\n",
              "      <td>41.642693</td>\n",
              "      <td>NaN</td>\n",
              "      <td>NaN</td>\n",
              "      <td>NaN</td>\n",
              "      <td>3.972040</td>\n",
              "      <td>NaN</td>\n",
              "      <td>NaN</td>\n",
              "      <td>6.542142</td>\n",
              "      <td>6.886443</td>\n",
              "      <td>NaN</td>\n",
              "    </tr>\n",
              "    <tr>\n",
              "      <th>min</th>\n",
              "      <td>-2.000000</td>\n",
              "      <td>NaN</td>\n",
              "      <td>NaN</td>\n",
              "      <td>NaN</td>\n",
              "      <td>NaN</td>\n",
              "      <td>NaN</td>\n",
              "      <td>NaN</td>\n",
              "      <td>NaN</td>\n",
              "      <td>NaN</td>\n",
              "      <td>86.600000</td>\n",
              "      <td>141.100000</td>\n",
              "      <td>60.300000</td>\n",
              "      <td>47.800000</td>\n",
              "      <td>1488.000000</td>\n",
              "      <td>NaN</td>\n",
              "      <td>NaN</td>\n",
              "      <td>61.000000</td>\n",
              "      <td>NaN</td>\n",
              "      <td>NaN</td>\n",
              "      <td>NaN</td>\n",
              "      <td>7.000000</td>\n",
              "      <td>NaN</td>\n",
              "      <td>NaN</td>\n",
              "      <td>13.000000</td>\n",
              "      <td>16.000000</td>\n",
              "      <td>NaN</td>\n",
              "    </tr>\n",
              "    <tr>\n",
              "      <th>25%</th>\n",
              "      <td>0.000000</td>\n",
              "      <td>NaN</td>\n",
              "      <td>NaN</td>\n",
              "      <td>NaN</td>\n",
              "      <td>NaN</td>\n",
              "      <td>NaN</td>\n",
              "      <td>NaN</td>\n",
              "      <td>NaN</td>\n",
              "      <td>NaN</td>\n",
              "      <td>94.500000</td>\n",
              "      <td>166.300000</td>\n",
              "      <td>64.100000</td>\n",
              "      <td>52.000000</td>\n",
              "      <td>2145.000000</td>\n",
              "      <td>NaN</td>\n",
              "      <td>NaN</td>\n",
              "      <td>97.000000</td>\n",
              "      <td>NaN</td>\n",
              "      <td>NaN</td>\n",
              "      <td>NaN</td>\n",
              "      <td>8.600000</td>\n",
              "      <td>NaN</td>\n",
              "      <td>NaN</td>\n",
              "      <td>19.000000</td>\n",
              "      <td>25.000000</td>\n",
              "      <td>NaN</td>\n",
              "    </tr>\n",
              "    <tr>\n",
              "      <th>50%</th>\n",
              "      <td>1.000000</td>\n",
              "      <td>NaN</td>\n",
              "      <td>NaN</td>\n",
              "      <td>NaN</td>\n",
              "      <td>NaN</td>\n",
              "      <td>NaN</td>\n",
              "      <td>NaN</td>\n",
              "      <td>NaN</td>\n",
              "      <td>NaN</td>\n",
              "      <td>97.000000</td>\n",
              "      <td>173.200000</td>\n",
              "      <td>65.500000</td>\n",
              "      <td>54.100000</td>\n",
              "      <td>2414.000000</td>\n",
              "      <td>NaN</td>\n",
              "      <td>NaN</td>\n",
              "      <td>120.000000</td>\n",
              "      <td>NaN</td>\n",
              "      <td>NaN</td>\n",
              "      <td>NaN</td>\n",
              "      <td>9.000000</td>\n",
              "      <td>NaN</td>\n",
              "      <td>NaN</td>\n",
              "      <td>24.000000</td>\n",
              "      <td>30.000000</td>\n",
              "      <td>NaN</td>\n",
              "    </tr>\n",
              "    <tr>\n",
              "      <th>75%</th>\n",
              "      <td>2.000000</td>\n",
              "      <td>NaN</td>\n",
              "      <td>NaN</td>\n",
              "      <td>NaN</td>\n",
              "      <td>NaN</td>\n",
              "      <td>NaN</td>\n",
              "      <td>NaN</td>\n",
              "      <td>NaN</td>\n",
              "      <td>NaN</td>\n",
              "      <td>102.400000</td>\n",
              "      <td>183.100000</td>\n",
              "      <td>66.900000</td>\n",
              "      <td>55.500000</td>\n",
              "      <td>2935.000000</td>\n",
              "      <td>NaN</td>\n",
              "      <td>NaN</td>\n",
              "      <td>141.000000</td>\n",
              "      <td>NaN</td>\n",
              "      <td>NaN</td>\n",
              "      <td>NaN</td>\n",
              "      <td>9.400000</td>\n",
              "      <td>NaN</td>\n",
              "      <td>NaN</td>\n",
              "      <td>30.000000</td>\n",
              "      <td>34.000000</td>\n",
              "      <td>NaN</td>\n",
              "    </tr>\n",
              "    <tr>\n",
              "      <th>max</th>\n",
              "      <td>3.000000</td>\n",
              "      <td>NaN</td>\n",
              "      <td>NaN</td>\n",
              "      <td>NaN</td>\n",
              "      <td>NaN</td>\n",
              "      <td>NaN</td>\n",
              "      <td>NaN</td>\n",
              "      <td>NaN</td>\n",
              "      <td>NaN</td>\n",
              "      <td>120.900000</td>\n",
              "      <td>208.100000</td>\n",
              "      <td>72.300000</td>\n",
              "      <td>59.800000</td>\n",
              "      <td>4066.000000</td>\n",
              "      <td>NaN</td>\n",
              "      <td>NaN</td>\n",
              "      <td>326.000000</td>\n",
              "      <td>NaN</td>\n",
              "      <td>NaN</td>\n",
              "      <td>NaN</td>\n",
              "      <td>23.000000</td>\n",
              "      <td>NaN</td>\n",
              "      <td>NaN</td>\n",
              "      <td>49.000000</td>\n",
              "      <td>54.000000</td>\n",
              "      <td>NaN</td>\n",
              "    </tr>\n",
              "  </tbody>\n",
              "</table>\n",
              "</div>"
            ],
            "text/plain": [
              "         symboling normalized-losses    make  ...    city-mpg highway-mpg price\n",
              "count   205.000000               205     205  ...  205.000000  205.000000   205\n",
              "unique         NaN                52      22  ...         NaN         NaN   187\n",
              "top            NaN                 ?  toyota  ...         NaN         NaN     ?\n",
              "freq           NaN                41      32  ...         NaN         NaN     4\n",
              "mean      0.834146               NaN     NaN  ...   25.219512   30.751220   NaN\n",
              "std       1.245307               NaN     NaN  ...    6.542142    6.886443   NaN\n",
              "min      -2.000000               NaN     NaN  ...   13.000000   16.000000   NaN\n",
              "25%       0.000000               NaN     NaN  ...   19.000000   25.000000   NaN\n",
              "50%       1.000000               NaN     NaN  ...   24.000000   30.000000   NaN\n",
              "75%       2.000000               NaN     NaN  ...   30.000000   34.000000   NaN\n",
              "max       3.000000               NaN     NaN  ...   49.000000   54.000000   NaN\n",
              "\n",
              "[11 rows x 26 columns]"
            ]
          },
          "metadata": {
            "tags": []
          },
          "execution_count": 8
        }
      ]
    },
    {
      "cell_type": "markdown",
      "metadata": {
        "id": "kVwn2sDOlx1x"
      },
      "source": [
        "### 4.3 Basic Insights of Datatset\n",
        "\n",
        "`df.info()` provides a concise summary of your DataFrame\n",
        "* This function shows the top 30 rows and bottom 30 rows of the data frame.\n"
      ]
    },
    {
      "cell_type": "code",
      "metadata": {
        "colab": {
          "base_uri": "https://localhost:8080/"
        },
        "id": "_kXyNvR8kHaE",
        "outputId": "93f0861d-b290-4d78-8e56-c3e1cf8cc53c"
      },
      "source": [
        "df.info()"
      ],
      "execution_count": 9,
      "outputs": [
        {
          "output_type": "stream",
          "text": [
            "<class 'pandas.core.frame.DataFrame'>\n",
            "RangeIndex: 205 entries, 0 to 204\n",
            "Data columns (total 26 columns):\n",
            " #   Column             Non-Null Count  Dtype  \n",
            "---  ------             --------------  -----  \n",
            " 0   symboling          205 non-null    int64  \n",
            " 1   normalized-losses  205 non-null    object \n",
            " 2   make               205 non-null    object \n",
            " 3   fuel-type          205 non-null    object \n",
            " 4   aspiration         205 non-null    object \n",
            " 5   num-of-doors       205 non-null    object \n",
            " 6   body-style         205 non-null    object \n",
            " 7   drive-wheels       205 non-null    object \n",
            " 8   engine-location    205 non-null    object \n",
            " 9   wheel-base         205 non-null    float64\n",
            " 10  length             205 non-null    float64\n",
            " 11  width              205 non-null    float64\n",
            " 12  height             205 non-null    float64\n",
            " 13  curb-weight        205 non-null    int64  \n",
            " 14  engine-type        205 non-null    object \n",
            " 15  num-of-cylinders   205 non-null    object \n",
            " 16  engine-size        205 non-null    int64  \n",
            " 17  fuel-system        205 non-null    object \n",
            " 18  bore               205 non-null    object \n",
            " 19  stroke             205 non-null    object \n",
            " 20  compression-ratio  205 non-null    float64\n",
            " 21  horsepower         205 non-null    object \n",
            " 22  peak-rpm           205 non-null    object \n",
            " 23  city-mpg           205 non-null    int64  \n",
            " 24  highway-mpg        205 non-null    int64  \n",
            " 25  price              205 non-null    object \n",
            "dtypes: float64(5), int64(5), object(16)\n",
            "memory usage: 41.8+ KB\n"
          ],
          "name": "stdout"
        }
      ]
    },
    {
      "cell_type": "markdown",
      "metadata": {
        "id": "9i2QNo6voZm8"
      },
      "source": [
        "# 5. Data Wrangling\n",
        "\n",
        "* Identify and handle missing data\n",
        "  * A missing value condition occurs whenever a data entry is left empty.\n",
        "* Data Formatting\n",
        "  * Data from different sources maybe in various formats, in different units, or in various conventions.\n",
        "* Data Normalization (centring/scaling)\n",
        "  * Normalization is a way to bring all data into a similar range for more useful comparison.\n",
        "* Data binning\n",
        "  * Binning creates bigger categories\n",
        "from a set of numerical values.\n",
        "It is particularly useful for\n",
        "comparison between groups of data\n",
        "* Turning Categorical values of numeric variables\n",
        "  * categorical variables and show you how to convert categorical values into numeric variables to make statistical modeling easier\n",
        "\n",
        "\n",
        "---\n",
        "For acces to sepcial columns in Dataframe we use `df['Name fo column]`\n",
        "\n",
        "\n",
        "---\n",
        "\n",
        "For adding a value to each entry off a column. To add one to each symbolling entry, use this command `df['name of column]=df['symboling']+1`. This changes each value of the Data frame column by adding one to the current value.\n",
        "\n",
        "---\n",
        "\n"
      ]
    },
    {
      "cell_type": "code",
      "metadata": {
        "colab": {
          "base_uri": "https://localhost:8080/"
        },
        "id": "Se63mFf8ngDt",
        "outputId": "1f5b382d-6610-4404-9268-6e3b8c3bbba6"
      },
      "source": [
        "df['price']"
      ],
      "execution_count": 10,
      "outputs": [
        {
          "output_type": "execute_result",
          "data": {
            "text/plain": [
              "0      13495\n",
              "1      16500\n",
              "2      16500\n",
              "3      13950\n",
              "4      17450\n",
              "       ...  \n",
              "200    16845\n",
              "201    19045\n",
              "202    21485\n",
              "203    22470\n",
              "204    22625\n",
              "Name: price, Length: 205, dtype: object"
            ]
          },
          "metadata": {
            "tags": []
          },
          "execution_count": 10
        }
      ]
    },
    {
      "cell_type": "markdown",
      "metadata": {
        "id": "5TumTVhk2N9T"
      },
      "source": [
        "---\n",
        "\n",
        "#### How to deal with missing data?\n",
        "\n",
        "* Drop the missing values\n",
        " * drop the variable\n",
        " * drop the data entry\n",
        "\n",
        "* Replace the missing values\n",
        "  * replace it with an average (of similar datapoints)\n",
        "  * replace it by frequency\n",
        "  * replace it based on other functions\n",
        "* Leave missing data\n",
        "\n",
        "---\n",
        "\n",
        "#### How to drop missing values in Python\n",
        "* Use `df.dropna()`:\n",
        "  - axis=0 dropn the entire row\n",
        "\n",
        "  - axis=1 drops the eintire column\n",
        "\n",
        "  - Setting the argument `inplace = True`, just writes the result back into the data frame.\n",
        "\n",
        "---\n",
        "\n",
        "\n",
        "#### How to applying calculation to an entire column\n",
        "\n",
        "1. Use e.g. `df.[\"city-mpg\"]=235/df[city-mpg]:`\n",
        "\n",
        "2. Use the _dictionary_ to change the name of column: `df.rename(columns={\"city-mpg\":\"cíty-L/100km\"}, inplace=True)`"
      ]
    },
    {
      "cell_type": "code",
      "metadata": {
        "id": "UMEK7qIh3Xwv"
      },
      "source": [
        "#df[\"city-mpg\"]=235/df['city-mpg']\n",
        "df.rename(columns={\"cíty-L/100km\":\"city-L/100km\"}, inplace=True)"
      ],
      "execution_count": 11,
      "outputs": []
    },
    {
      "cell_type": "markdown",
      "metadata": {
        "id": "iSzSYdoKTiz1"
      },
      "source": [
        "\n",
        "#### How to replace missing values in Python\n",
        "\n",
        "* Use `df.replace(missing_value, new_value):`\n",
        "\n",
        "1. We calculate the mean of the column: `mean=df['column`].mean()`:\n",
        "\n",
        "2. Use `df['column'].replace(np.nan,mean)`\n",
        "\n",
        "---"
      ]
    },
    {
      "cell_type": "code",
      "metadata": {
        "id": "GALtayawQxe7"
      },
      "source": [
        "#Chaneg \"?\" to np.nan \n",
        "df.replace('?',np.nan,inplace=True)\n",
        "\n",
        "#And np.nan to 0\n",
        "df.replace(np.nan,0,inplace=True)\n"
      ],
      "execution_count": 12,
      "outputs": []
    },
    {
      "cell_type": "code",
      "metadata": {
        "id": "mVDI5NJh2e7d",
        "colab": {
          "base_uri": "https://localhost:8080/",
          "height": 0
        },
        "outputId": "2b6c69b4-04b3-43dd-a49e-838bba7a9dde"
      },
      "source": [
        "df.head()"
      ],
      "execution_count": 13,
      "outputs": [
        {
          "output_type": "execute_result",
          "data": {
            "text/html": [
              "<div>\n",
              "<style scoped>\n",
              "    .dataframe tbody tr th:only-of-type {\n",
              "        vertical-align: middle;\n",
              "    }\n",
              "\n",
              "    .dataframe tbody tr th {\n",
              "        vertical-align: top;\n",
              "    }\n",
              "\n",
              "    .dataframe thead th {\n",
              "        text-align: right;\n",
              "    }\n",
              "</style>\n",
              "<table border=\"1\" class=\"dataframe\">\n",
              "  <thead>\n",
              "    <tr style=\"text-align: right;\">\n",
              "      <th></th>\n",
              "      <th>symboling</th>\n",
              "      <th>normalized-losses</th>\n",
              "      <th>make</th>\n",
              "      <th>fuel-type</th>\n",
              "      <th>aspiration</th>\n",
              "      <th>num-of-doors</th>\n",
              "      <th>body-style</th>\n",
              "      <th>drive-wheels</th>\n",
              "      <th>engine-location</th>\n",
              "      <th>wheel-base</th>\n",
              "      <th>length</th>\n",
              "      <th>width</th>\n",
              "      <th>height</th>\n",
              "      <th>curb-weight</th>\n",
              "      <th>engine-type</th>\n",
              "      <th>num-of-cylinders</th>\n",
              "      <th>engine-size</th>\n",
              "      <th>fuel-system</th>\n",
              "      <th>bore</th>\n",
              "      <th>stroke</th>\n",
              "      <th>compression-ratio</th>\n",
              "      <th>horsepower</th>\n",
              "      <th>peak-rpm</th>\n",
              "      <th>city-mpg</th>\n",
              "      <th>highway-mpg</th>\n",
              "      <th>price</th>\n",
              "    </tr>\n",
              "  </thead>\n",
              "  <tbody>\n",
              "    <tr>\n",
              "      <th>0</th>\n",
              "      <td>3</td>\n",
              "      <td>0</td>\n",
              "      <td>alfa-romero</td>\n",
              "      <td>gas</td>\n",
              "      <td>std</td>\n",
              "      <td>two</td>\n",
              "      <td>convertible</td>\n",
              "      <td>rwd</td>\n",
              "      <td>front</td>\n",
              "      <td>88.6</td>\n",
              "      <td>168.8</td>\n",
              "      <td>64.1</td>\n",
              "      <td>48.8</td>\n",
              "      <td>2548</td>\n",
              "      <td>dohc</td>\n",
              "      <td>four</td>\n",
              "      <td>130</td>\n",
              "      <td>mpfi</td>\n",
              "      <td>3.47</td>\n",
              "      <td>2.68</td>\n",
              "      <td>9.0</td>\n",
              "      <td>111</td>\n",
              "      <td>5000</td>\n",
              "      <td>21</td>\n",
              "      <td>27</td>\n",
              "      <td>13495</td>\n",
              "    </tr>\n",
              "    <tr>\n",
              "      <th>1</th>\n",
              "      <td>3</td>\n",
              "      <td>0</td>\n",
              "      <td>alfa-romero</td>\n",
              "      <td>gas</td>\n",
              "      <td>std</td>\n",
              "      <td>two</td>\n",
              "      <td>convertible</td>\n",
              "      <td>rwd</td>\n",
              "      <td>front</td>\n",
              "      <td>88.6</td>\n",
              "      <td>168.8</td>\n",
              "      <td>64.1</td>\n",
              "      <td>48.8</td>\n",
              "      <td>2548</td>\n",
              "      <td>dohc</td>\n",
              "      <td>four</td>\n",
              "      <td>130</td>\n",
              "      <td>mpfi</td>\n",
              "      <td>3.47</td>\n",
              "      <td>2.68</td>\n",
              "      <td>9.0</td>\n",
              "      <td>111</td>\n",
              "      <td>5000</td>\n",
              "      <td>21</td>\n",
              "      <td>27</td>\n",
              "      <td>16500</td>\n",
              "    </tr>\n",
              "    <tr>\n",
              "      <th>2</th>\n",
              "      <td>1</td>\n",
              "      <td>0</td>\n",
              "      <td>alfa-romero</td>\n",
              "      <td>gas</td>\n",
              "      <td>std</td>\n",
              "      <td>two</td>\n",
              "      <td>hatchback</td>\n",
              "      <td>rwd</td>\n",
              "      <td>front</td>\n",
              "      <td>94.5</td>\n",
              "      <td>171.2</td>\n",
              "      <td>65.5</td>\n",
              "      <td>52.4</td>\n",
              "      <td>2823</td>\n",
              "      <td>ohcv</td>\n",
              "      <td>six</td>\n",
              "      <td>152</td>\n",
              "      <td>mpfi</td>\n",
              "      <td>2.68</td>\n",
              "      <td>3.47</td>\n",
              "      <td>9.0</td>\n",
              "      <td>154</td>\n",
              "      <td>5000</td>\n",
              "      <td>19</td>\n",
              "      <td>26</td>\n",
              "      <td>16500</td>\n",
              "    </tr>\n",
              "    <tr>\n",
              "      <th>3</th>\n",
              "      <td>2</td>\n",
              "      <td>164</td>\n",
              "      <td>audi</td>\n",
              "      <td>gas</td>\n",
              "      <td>std</td>\n",
              "      <td>four</td>\n",
              "      <td>sedan</td>\n",
              "      <td>fwd</td>\n",
              "      <td>front</td>\n",
              "      <td>99.8</td>\n",
              "      <td>176.6</td>\n",
              "      <td>66.2</td>\n",
              "      <td>54.3</td>\n",
              "      <td>2337</td>\n",
              "      <td>ohc</td>\n",
              "      <td>four</td>\n",
              "      <td>109</td>\n",
              "      <td>mpfi</td>\n",
              "      <td>3.19</td>\n",
              "      <td>3.40</td>\n",
              "      <td>10.0</td>\n",
              "      <td>102</td>\n",
              "      <td>5500</td>\n",
              "      <td>24</td>\n",
              "      <td>30</td>\n",
              "      <td>13950</td>\n",
              "    </tr>\n",
              "    <tr>\n",
              "      <th>4</th>\n",
              "      <td>2</td>\n",
              "      <td>164</td>\n",
              "      <td>audi</td>\n",
              "      <td>gas</td>\n",
              "      <td>std</td>\n",
              "      <td>four</td>\n",
              "      <td>sedan</td>\n",
              "      <td>4wd</td>\n",
              "      <td>front</td>\n",
              "      <td>99.4</td>\n",
              "      <td>176.6</td>\n",
              "      <td>66.4</td>\n",
              "      <td>54.3</td>\n",
              "      <td>2824</td>\n",
              "      <td>ohc</td>\n",
              "      <td>five</td>\n",
              "      <td>136</td>\n",
              "      <td>mpfi</td>\n",
              "      <td>3.19</td>\n",
              "      <td>3.40</td>\n",
              "      <td>8.0</td>\n",
              "      <td>115</td>\n",
              "      <td>5500</td>\n",
              "      <td>18</td>\n",
              "      <td>22</td>\n",
              "      <td>17450</td>\n",
              "    </tr>\n",
              "  </tbody>\n",
              "</table>\n",
              "</div>"
            ],
            "text/plain": [
              "   symboling normalized-losses         make  ... city-mpg highway-mpg  price\n",
              "0          3                 0  alfa-romero  ...       21          27  13495\n",
              "1          3                 0  alfa-romero  ...       21          27  16500\n",
              "2          1                 0  alfa-romero  ...       19          26  16500\n",
              "3          2               164         audi  ...       24          30  13950\n",
              "4          2               164         audi  ...       18          22  17450\n",
              "\n",
              "[5 rows x 26 columns]"
            ]
          },
          "metadata": {
            "tags": []
          },
          "execution_count": 13
        }
      ]
    },
    {
      "cell_type": "markdown",
      "metadata": {
        "id": "nivKRYLkN3e_"
      },
      "source": [
        "### Correcting data types\n",
        "- To _identify_ data type:\n",
        "  - use `dataframe.dtypes()` to identify data type.\n",
        "- To convert data types:\n",
        "  - use `dataframe().astype()` to convert data type.\n"
      ]
    },
    {
      "cell_type": "code",
      "metadata": {
        "id": "wz5FxTi1M5VR"
      },
      "source": [
        "#change the type of price-column form _Object_ to _Int_\n",
        "df['price']=df['price'].astype('int')"
      ],
      "execution_count": 14,
      "outputs": []
    },
    {
      "cell_type": "markdown",
      "metadata": {
        "id": "nZLcvVgMT9fC"
      },
      "source": [
        "### Data Normalization in Python\n",
        "- The normalization can make some statistical analyses easier down the road\n",
        "- Normalization enables a fair comparison between the difference fatures\n",
        "\n",
        "- Several approuches for normalization:\n",
        "  \n",
        "  * 1-  Simple feature scaling: $x_{new}=\\frac{x_{old}}{x_{max}}$ \n",
        "\n",
        "  * 2-  Min-Max: $x_{new}=\\frac{x_{old}-x_{min}}{x_{max}-x_{min}}$\n",
        "\n",
        "    The reults of **1 & 2** method are between **0 - 1**\n",
        "\n",
        "  * 3- Z-Score (Satndard Score): $x_{new}=\\frac{x_{old}-{\\mu}}{\\sigma}$\n",
        "\n",
        "    The resulting of **Z-Score** hover around **Zero** & and typically range between **-3 & +3** but can be higher or lower."
      ]
    },
    {
      "cell_type": "code",
      "metadata": {
        "colab": {
          "base_uri": "https://localhost:8080/"
        },
        "id": "mXiTHskCQiQS",
        "outputId": "ddc5d03c-bf4e-4ba3-ed45-7231663abbef"
      },
      "source": [
        "# 1- Simple feature scaling for columns \"length\":\n",
        "\n",
        "df[\"length\"]/df[\"length\"].max()\n"
      ],
      "execution_count": 15,
      "outputs": [
        {
          "output_type": "execute_result",
          "data": {
            "text/plain": [
              "0      0.811148\n",
              "1      0.811148\n",
              "2      0.822681\n",
              "3      0.848630\n",
              "4      0.848630\n",
              "         ...   \n",
              "200    0.907256\n",
              "201    0.907256\n",
              "202    0.907256\n",
              "203    0.907256\n",
              "204    0.907256\n",
              "Name: length, Length: 205, dtype: float64"
            ]
          },
          "metadata": {
            "tags": []
          },
          "execution_count": 15
        }
      ]
    },
    {
      "cell_type": "code",
      "metadata": {
        "colab": {
          "base_uri": "https://localhost:8080/"
        },
        "id": "K3NOfEsk-NXJ",
        "outputId": "4c22dd51-9baf-48d0-f4e5-176fd30e634c"
      },
      "source": [
        "# 2- Simple Min-Max scaling for columns \"length\":\n",
        "(df[\"length\"]-df[\"length\"].min())/(df[\"length\"].max()-df[\"length\"].min())"
      ],
      "execution_count": 16,
      "outputs": [
        {
          "output_type": "execute_result",
          "data": {
            "text/plain": [
              "0      0.413433\n",
              "1      0.413433\n",
              "2      0.449254\n",
              "3      0.529851\n",
              "4      0.529851\n",
              "         ...   \n",
              "200    0.711940\n",
              "201    0.711940\n",
              "202    0.711940\n",
              "203    0.711940\n",
              "204    0.711940\n",
              "Name: length, Length: 205, dtype: float64"
            ]
          },
          "metadata": {
            "tags": []
          },
          "execution_count": 16
        }
      ]
    },
    {
      "cell_type": "code",
      "metadata": {
        "colab": {
          "base_uri": "https://localhost:8080/"
        },
        "id": "o3-vzmXM-43M",
        "outputId": "094efd98-8083-4a14-d285-41c88f3109fa"
      },
      "source": [
        "# 3- Simple Z-Score scaling for columns \"length\":\n",
        "(df[\"length\"]-df[\"length\"].mean())/df[\"length\"].std()"
      ],
      "execution_count": 17,
      "outputs": [
        {
          "output_type": "execute_result",
          "data": {
            "text/plain": [
              "0     -0.425480\n",
              "1     -0.425480\n",
              "2     -0.230948\n",
              "3      0.206750\n",
              "4      0.206750\n",
              "         ...   \n",
              "200    1.195622\n",
              "201    1.195622\n",
              "202    1.195622\n",
              "203    1.195622\n",
              "204    1.195622\n",
              "Name: length, Length: 205, dtype: float64"
            ]
          },
          "metadata": {
            "tags": []
          },
          "execution_count": 17
        }
      ]
    },
    {
      "cell_type": "markdown",
      "metadata": {
        "id": "75j0SJH_AR_D"
      },
      "source": [
        "### Binning\n",
        "- Binning: Grouping of values into \"bins\"\n",
        "- Converts **numeric into categorical** variables\n",
        "- Group a set of numerical values into a set of \"bins\"\n",
        "\n",
        "We use `no.linesace(min(df['Column']),max(df['Column']))` and Pandas function `pd.cut()` to segment and sort the data values into bins.\n"
      ]
    },
    {
      "cell_type": "code",
      "metadata": {
        "colab": {
          "base_uri": "https://localhost:8080/",
          "height": 0
        },
        "id": "IQc4VFJ5_aqE",
        "outputId": "0df0084b-2c48-436c-921f-a71b329058db"
      },
      "source": [
        "bins=np.linspace(min(df[\"price\"]),max(df[\"price\"]),4)\n",
        "group_names=[\"Low\",\"Medium\",\"High\"]\n",
        "df[\"price-binned\"]=pd.cut(df[\"price\"],bins,labels=group_names,include_lowest=True)\n",
        "df"
      ],
      "execution_count": 18,
      "outputs": [
        {
          "output_type": "execute_result",
          "data": {
            "text/html": [
              "<div>\n",
              "<style scoped>\n",
              "    .dataframe tbody tr th:only-of-type {\n",
              "        vertical-align: middle;\n",
              "    }\n",
              "\n",
              "    .dataframe tbody tr th {\n",
              "        vertical-align: top;\n",
              "    }\n",
              "\n",
              "    .dataframe thead th {\n",
              "        text-align: right;\n",
              "    }\n",
              "</style>\n",
              "<table border=\"1\" class=\"dataframe\">\n",
              "  <thead>\n",
              "    <tr style=\"text-align: right;\">\n",
              "      <th></th>\n",
              "      <th>symboling</th>\n",
              "      <th>normalized-losses</th>\n",
              "      <th>make</th>\n",
              "      <th>fuel-type</th>\n",
              "      <th>aspiration</th>\n",
              "      <th>num-of-doors</th>\n",
              "      <th>body-style</th>\n",
              "      <th>drive-wheels</th>\n",
              "      <th>engine-location</th>\n",
              "      <th>wheel-base</th>\n",
              "      <th>length</th>\n",
              "      <th>width</th>\n",
              "      <th>height</th>\n",
              "      <th>curb-weight</th>\n",
              "      <th>engine-type</th>\n",
              "      <th>num-of-cylinders</th>\n",
              "      <th>engine-size</th>\n",
              "      <th>fuel-system</th>\n",
              "      <th>bore</th>\n",
              "      <th>stroke</th>\n",
              "      <th>compression-ratio</th>\n",
              "      <th>horsepower</th>\n",
              "      <th>peak-rpm</th>\n",
              "      <th>city-mpg</th>\n",
              "      <th>highway-mpg</th>\n",
              "      <th>price</th>\n",
              "      <th>price-binned</th>\n",
              "    </tr>\n",
              "  </thead>\n",
              "  <tbody>\n",
              "    <tr>\n",
              "      <th>0</th>\n",
              "      <td>3</td>\n",
              "      <td>0</td>\n",
              "      <td>alfa-romero</td>\n",
              "      <td>gas</td>\n",
              "      <td>std</td>\n",
              "      <td>two</td>\n",
              "      <td>convertible</td>\n",
              "      <td>rwd</td>\n",
              "      <td>front</td>\n",
              "      <td>88.6</td>\n",
              "      <td>168.8</td>\n",
              "      <td>64.1</td>\n",
              "      <td>48.8</td>\n",
              "      <td>2548</td>\n",
              "      <td>dohc</td>\n",
              "      <td>four</td>\n",
              "      <td>130</td>\n",
              "      <td>mpfi</td>\n",
              "      <td>3.47</td>\n",
              "      <td>2.68</td>\n",
              "      <td>9.0</td>\n",
              "      <td>111</td>\n",
              "      <td>5000</td>\n",
              "      <td>21</td>\n",
              "      <td>27</td>\n",
              "      <td>13495</td>\n",
              "      <td>Low</td>\n",
              "    </tr>\n",
              "    <tr>\n",
              "      <th>1</th>\n",
              "      <td>3</td>\n",
              "      <td>0</td>\n",
              "      <td>alfa-romero</td>\n",
              "      <td>gas</td>\n",
              "      <td>std</td>\n",
              "      <td>two</td>\n",
              "      <td>convertible</td>\n",
              "      <td>rwd</td>\n",
              "      <td>front</td>\n",
              "      <td>88.6</td>\n",
              "      <td>168.8</td>\n",
              "      <td>64.1</td>\n",
              "      <td>48.8</td>\n",
              "      <td>2548</td>\n",
              "      <td>dohc</td>\n",
              "      <td>four</td>\n",
              "      <td>130</td>\n",
              "      <td>mpfi</td>\n",
              "      <td>3.47</td>\n",
              "      <td>2.68</td>\n",
              "      <td>9.0</td>\n",
              "      <td>111</td>\n",
              "      <td>5000</td>\n",
              "      <td>21</td>\n",
              "      <td>27</td>\n",
              "      <td>16500</td>\n",
              "      <td>Medium</td>\n",
              "    </tr>\n",
              "    <tr>\n",
              "      <th>2</th>\n",
              "      <td>1</td>\n",
              "      <td>0</td>\n",
              "      <td>alfa-romero</td>\n",
              "      <td>gas</td>\n",
              "      <td>std</td>\n",
              "      <td>two</td>\n",
              "      <td>hatchback</td>\n",
              "      <td>rwd</td>\n",
              "      <td>front</td>\n",
              "      <td>94.5</td>\n",
              "      <td>171.2</td>\n",
              "      <td>65.5</td>\n",
              "      <td>52.4</td>\n",
              "      <td>2823</td>\n",
              "      <td>ohcv</td>\n",
              "      <td>six</td>\n",
              "      <td>152</td>\n",
              "      <td>mpfi</td>\n",
              "      <td>2.68</td>\n",
              "      <td>3.47</td>\n",
              "      <td>9.0</td>\n",
              "      <td>154</td>\n",
              "      <td>5000</td>\n",
              "      <td>19</td>\n",
              "      <td>26</td>\n",
              "      <td>16500</td>\n",
              "      <td>Medium</td>\n",
              "    </tr>\n",
              "    <tr>\n",
              "      <th>3</th>\n",
              "      <td>2</td>\n",
              "      <td>164</td>\n",
              "      <td>audi</td>\n",
              "      <td>gas</td>\n",
              "      <td>std</td>\n",
              "      <td>four</td>\n",
              "      <td>sedan</td>\n",
              "      <td>fwd</td>\n",
              "      <td>front</td>\n",
              "      <td>99.8</td>\n",
              "      <td>176.6</td>\n",
              "      <td>66.2</td>\n",
              "      <td>54.3</td>\n",
              "      <td>2337</td>\n",
              "      <td>ohc</td>\n",
              "      <td>four</td>\n",
              "      <td>109</td>\n",
              "      <td>mpfi</td>\n",
              "      <td>3.19</td>\n",
              "      <td>3.40</td>\n",
              "      <td>10.0</td>\n",
              "      <td>102</td>\n",
              "      <td>5500</td>\n",
              "      <td>24</td>\n",
              "      <td>30</td>\n",
              "      <td>13950</td>\n",
              "      <td>Low</td>\n",
              "    </tr>\n",
              "    <tr>\n",
              "      <th>4</th>\n",
              "      <td>2</td>\n",
              "      <td>164</td>\n",
              "      <td>audi</td>\n",
              "      <td>gas</td>\n",
              "      <td>std</td>\n",
              "      <td>four</td>\n",
              "      <td>sedan</td>\n",
              "      <td>4wd</td>\n",
              "      <td>front</td>\n",
              "      <td>99.4</td>\n",
              "      <td>176.6</td>\n",
              "      <td>66.4</td>\n",
              "      <td>54.3</td>\n",
              "      <td>2824</td>\n",
              "      <td>ohc</td>\n",
              "      <td>five</td>\n",
              "      <td>136</td>\n",
              "      <td>mpfi</td>\n",
              "      <td>3.19</td>\n",
              "      <td>3.40</td>\n",
              "      <td>8.0</td>\n",
              "      <td>115</td>\n",
              "      <td>5500</td>\n",
              "      <td>18</td>\n",
              "      <td>22</td>\n",
              "      <td>17450</td>\n",
              "      <td>Medium</td>\n",
              "    </tr>\n",
              "    <tr>\n",
              "      <th>...</th>\n",
              "      <td>...</td>\n",
              "      <td>...</td>\n",
              "      <td>...</td>\n",
              "      <td>...</td>\n",
              "      <td>...</td>\n",
              "      <td>...</td>\n",
              "      <td>...</td>\n",
              "      <td>...</td>\n",
              "      <td>...</td>\n",
              "      <td>...</td>\n",
              "      <td>...</td>\n",
              "      <td>...</td>\n",
              "      <td>...</td>\n",
              "      <td>...</td>\n",
              "      <td>...</td>\n",
              "      <td>...</td>\n",
              "      <td>...</td>\n",
              "      <td>...</td>\n",
              "      <td>...</td>\n",
              "      <td>...</td>\n",
              "      <td>...</td>\n",
              "      <td>...</td>\n",
              "      <td>...</td>\n",
              "      <td>...</td>\n",
              "      <td>...</td>\n",
              "      <td>...</td>\n",
              "      <td>...</td>\n",
              "    </tr>\n",
              "    <tr>\n",
              "      <th>200</th>\n",
              "      <td>-1</td>\n",
              "      <td>95</td>\n",
              "      <td>volvo</td>\n",
              "      <td>gas</td>\n",
              "      <td>std</td>\n",
              "      <td>four</td>\n",
              "      <td>sedan</td>\n",
              "      <td>rwd</td>\n",
              "      <td>front</td>\n",
              "      <td>109.1</td>\n",
              "      <td>188.8</td>\n",
              "      <td>68.9</td>\n",
              "      <td>55.5</td>\n",
              "      <td>2952</td>\n",
              "      <td>ohc</td>\n",
              "      <td>four</td>\n",
              "      <td>141</td>\n",
              "      <td>mpfi</td>\n",
              "      <td>3.78</td>\n",
              "      <td>3.15</td>\n",
              "      <td>9.5</td>\n",
              "      <td>114</td>\n",
              "      <td>5400</td>\n",
              "      <td>23</td>\n",
              "      <td>28</td>\n",
              "      <td>16845</td>\n",
              "      <td>Medium</td>\n",
              "    </tr>\n",
              "    <tr>\n",
              "      <th>201</th>\n",
              "      <td>-1</td>\n",
              "      <td>95</td>\n",
              "      <td>volvo</td>\n",
              "      <td>gas</td>\n",
              "      <td>turbo</td>\n",
              "      <td>four</td>\n",
              "      <td>sedan</td>\n",
              "      <td>rwd</td>\n",
              "      <td>front</td>\n",
              "      <td>109.1</td>\n",
              "      <td>188.8</td>\n",
              "      <td>68.8</td>\n",
              "      <td>55.5</td>\n",
              "      <td>3049</td>\n",
              "      <td>ohc</td>\n",
              "      <td>four</td>\n",
              "      <td>141</td>\n",
              "      <td>mpfi</td>\n",
              "      <td>3.78</td>\n",
              "      <td>3.15</td>\n",
              "      <td>8.7</td>\n",
              "      <td>160</td>\n",
              "      <td>5300</td>\n",
              "      <td>19</td>\n",
              "      <td>25</td>\n",
              "      <td>19045</td>\n",
              "      <td>Medium</td>\n",
              "    </tr>\n",
              "    <tr>\n",
              "      <th>202</th>\n",
              "      <td>-1</td>\n",
              "      <td>95</td>\n",
              "      <td>volvo</td>\n",
              "      <td>gas</td>\n",
              "      <td>std</td>\n",
              "      <td>four</td>\n",
              "      <td>sedan</td>\n",
              "      <td>rwd</td>\n",
              "      <td>front</td>\n",
              "      <td>109.1</td>\n",
              "      <td>188.8</td>\n",
              "      <td>68.9</td>\n",
              "      <td>55.5</td>\n",
              "      <td>3012</td>\n",
              "      <td>ohcv</td>\n",
              "      <td>six</td>\n",
              "      <td>173</td>\n",
              "      <td>mpfi</td>\n",
              "      <td>3.58</td>\n",
              "      <td>2.87</td>\n",
              "      <td>8.8</td>\n",
              "      <td>134</td>\n",
              "      <td>5500</td>\n",
              "      <td>18</td>\n",
              "      <td>23</td>\n",
              "      <td>21485</td>\n",
              "      <td>Medium</td>\n",
              "    </tr>\n",
              "    <tr>\n",
              "      <th>203</th>\n",
              "      <td>-1</td>\n",
              "      <td>95</td>\n",
              "      <td>volvo</td>\n",
              "      <td>diesel</td>\n",
              "      <td>turbo</td>\n",
              "      <td>four</td>\n",
              "      <td>sedan</td>\n",
              "      <td>rwd</td>\n",
              "      <td>front</td>\n",
              "      <td>109.1</td>\n",
              "      <td>188.8</td>\n",
              "      <td>68.9</td>\n",
              "      <td>55.5</td>\n",
              "      <td>3217</td>\n",
              "      <td>ohc</td>\n",
              "      <td>six</td>\n",
              "      <td>145</td>\n",
              "      <td>idi</td>\n",
              "      <td>3.01</td>\n",
              "      <td>3.40</td>\n",
              "      <td>23.0</td>\n",
              "      <td>106</td>\n",
              "      <td>4800</td>\n",
              "      <td>26</td>\n",
              "      <td>27</td>\n",
              "      <td>22470</td>\n",
              "      <td>Medium</td>\n",
              "    </tr>\n",
              "    <tr>\n",
              "      <th>204</th>\n",
              "      <td>-1</td>\n",
              "      <td>95</td>\n",
              "      <td>volvo</td>\n",
              "      <td>gas</td>\n",
              "      <td>turbo</td>\n",
              "      <td>four</td>\n",
              "      <td>sedan</td>\n",
              "      <td>rwd</td>\n",
              "      <td>front</td>\n",
              "      <td>109.1</td>\n",
              "      <td>188.8</td>\n",
              "      <td>68.9</td>\n",
              "      <td>55.5</td>\n",
              "      <td>3062</td>\n",
              "      <td>ohc</td>\n",
              "      <td>four</td>\n",
              "      <td>141</td>\n",
              "      <td>mpfi</td>\n",
              "      <td>3.78</td>\n",
              "      <td>3.15</td>\n",
              "      <td>9.5</td>\n",
              "      <td>114</td>\n",
              "      <td>5400</td>\n",
              "      <td>19</td>\n",
              "      <td>25</td>\n",
              "      <td>22625</td>\n",
              "      <td>Medium</td>\n",
              "    </tr>\n",
              "  </tbody>\n",
              "</table>\n",
              "<p>205 rows × 27 columns</p>\n",
              "</div>"
            ],
            "text/plain": [
              "     symboling normalized-losses         make  ... highway-mpg  price price-binned\n",
              "0            3                 0  alfa-romero  ...          27  13495          Low\n",
              "1            3                 0  alfa-romero  ...          27  16500       Medium\n",
              "2            1                 0  alfa-romero  ...          26  16500       Medium\n",
              "3            2               164         audi  ...          30  13950          Low\n",
              "4            2               164         audi  ...          22  17450       Medium\n",
              "..         ...               ...          ...  ...         ...    ...          ...\n",
              "200         -1                95        volvo  ...          28  16845       Medium\n",
              "201         -1                95        volvo  ...          25  19045       Medium\n",
              "202         -1                95        volvo  ...          23  21485       Medium\n",
              "203         -1                95        volvo  ...          27  22470       Medium\n",
              "204         -1                95        volvo  ...          25  22625       Medium\n",
              "\n",
              "[205 rows x 27 columns]"
            ]
          },
          "metadata": {
            "tags": []
          },
          "execution_count": 18
        }
      ]
    },
    {
      "cell_type": "code",
      "metadata": {
        "colab": {
          "base_uri": "https://localhost:8080/",
          "height": 0
        },
        "id": "pdx1_56aBFBX",
        "outputId": "8be29829-1329-4e45-9fcf-0e74f57fc8f2"
      },
      "source": [
        "sns.stripplot(data=df,y='make',x='price-binned',hue='body-style')"
      ],
      "execution_count": 19,
      "outputs": [
        {
          "output_type": "execute_result",
          "data": {
            "text/plain": [
              "<matplotlib.axes._subplots.AxesSubplot at 0x7f272d00cc50>"
            ]
          },
          "metadata": {
            "tags": []
          },
          "execution_count": 19
        },
        {
          "output_type": "display_data",
          "data": {
            "image/png": "[encoded data removed]",
            "text/plain": [
              "<Figure size 432x288 with 1 Axes>"
            ]
          },
          "metadata": {
            "tags": [],
            "needs_background": "light"
          }
        }
      ]
    },
    {
      "cell_type": "markdown",
      "metadata": {
        "id": "Wo6QIDvaFaH9"
      },
      "source": [
        "### Turning Categorical Variables into Quantitative Variables in Python **(one-hot-encoding)**\n",
        "- most statistical models cannot take in the objects/strings as input\n",
        "\n",
        "**Solution:**\n",
        "* Add dummy variables for each unique category\n",
        "* Assign 0 or 1 in each category\n",
        "\n",
        "In Pandas, we can use `get_dummies` method to convert categorical variables to dummy variables to 0 or 1."
      ]
    },
    {
      "cell_type": "code",
      "metadata": {
        "colab": {
          "base_uri": "https://localhost:8080/",
          "height": 0
        },
        "id": "c62L6p3MCkV-",
        "outputId": "e3afca38-97d5-4912-be37-5444886179b3"
      },
      "source": [
        "pd.get_dummies(df['fuel-type'])"
      ],
      "execution_count": 20,
      "outputs": [
        {
          "output_type": "execute_result",
          "data": {
            "text/html": [
              "<div>\n",
              "<style scoped>\n",
              "    .dataframe tbody tr th:only-of-type {\n",
              "        vertical-align: middle;\n",
              "    }\n",
              "\n",
              "    .dataframe tbody tr th {\n",
              "        vertical-align: top;\n",
              "    }\n",
              "\n",
              "    .dataframe thead th {\n",
              "        text-align: right;\n",
              "    }\n",
              "</style>\n",
              "<table border=\"1\" class=\"dataframe\">\n",
              "  <thead>\n",
              "    <tr style=\"text-align: right;\">\n",
              "      <th></th>\n",
              "      <th>diesel</th>\n",
              "      <th>gas</th>\n",
              "    </tr>\n",
              "  </thead>\n",
              "  <tbody>\n",
              "    <tr>\n",
              "      <th>0</th>\n",
              "      <td>0</td>\n",
              "      <td>1</td>\n",
              "    </tr>\n",
              "    <tr>\n",
              "      <th>1</th>\n",
              "      <td>0</td>\n",
              "      <td>1</td>\n",
              "    </tr>\n",
              "    <tr>\n",
              "      <th>2</th>\n",
              "      <td>0</td>\n",
              "      <td>1</td>\n",
              "    </tr>\n",
              "    <tr>\n",
              "      <th>3</th>\n",
              "      <td>0</td>\n",
              "      <td>1</td>\n",
              "    </tr>\n",
              "    <tr>\n",
              "      <th>4</th>\n",
              "      <td>0</td>\n",
              "      <td>1</td>\n",
              "    </tr>\n",
              "    <tr>\n",
              "      <th>...</th>\n",
              "      <td>...</td>\n",
              "      <td>...</td>\n",
              "    </tr>\n",
              "    <tr>\n",
              "      <th>200</th>\n",
              "      <td>0</td>\n",
              "      <td>1</td>\n",
              "    </tr>\n",
              "    <tr>\n",
              "      <th>201</th>\n",
              "      <td>0</td>\n",
              "      <td>1</td>\n",
              "    </tr>\n",
              "    <tr>\n",
              "      <th>202</th>\n",
              "      <td>0</td>\n",
              "      <td>1</td>\n",
              "    </tr>\n",
              "    <tr>\n",
              "      <th>203</th>\n",
              "      <td>1</td>\n",
              "      <td>0</td>\n",
              "    </tr>\n",
              "    <tr>\n",
              "      <th>204</th>\n",
              "      <td>0</td>\n",
              "      <td>1</td>\n",
              "    </tr>\n",
              "  </tbody>\n",
              "</table>\n",
              "<p>205 rows × 2 columns</p>\n",
              "</div>"
            ],
            "text/plain": [
              "     diesel  gas\n",
              "0         0    1\n",
              "1         0    1\n",
              "2         0    1\n",
              "3         0    1\n",
              "4         0    1\n",
              "..      ...  ...\n",
              "200       0    1\n",
              "201       0    1\n",
              "202       0    1\n",
              "203       1    0\n",
              "204       0    1\n",
              "\n",
              "[205 rows x 2 columns]"
            ]
          },
          "metadata": {
            "tags": []
          },
          "execution_count": 20
        }
      ]
    },
    {
      "cell_type": "code",
      "metadata": {
        "colab": {
          "base_uri": "https://localhost:8080/",
          "height": 0
        },
        "id": "B0NQg5r5Hghu",
        "outputId": "c10d68ea-168e-45a5-8de7-779468a53bb3"
      },
      "source": [
        "df"
      ],
      "execution_count": 21,
      "outputs": [
        {
          "output_type": "execute_result",
          "data": {
            "text/html": [
              "<div>\n",
              "<style scoped>\n",
              "    .dataframe tbody tr th:only-of-type {\n",
              "        vertical-align: middle;\n",
              "    }\n",
              "\n",
              "    .dataframe tbody tr th {\n",
              "        vertical-align: top;\n",
              "    }\n",
              "\n",
              "    .dataframe thead th {\n",
              "        text-align: right;\n",
              "    }\n",
              "</style>\n",
              "<table border=\"1\" class=\"dataframe\">\n",
              "  <thead>\n",
              "    <tr style=\"text-align: right;\">\n",
              "      <th></th>\n",
              "      <th>symboling</th>\n",
              "      <th>normalized-losses</th>\n",
              "      <th>make</th>\n",
              "      <th>fuel-type</th>\n",
              "      <th>aspiration</th>\n",
              "      <th>num-of-doors</th>\n",
              "      <th>body-style</th>\n",
              "      <th>drive-wheels</th>\n",
              "      <th>engine-location</th>\n",
              "      <th>wheel-base</th>\n",
              "      <th>length</th>\n",
              "      <th>width</th>\n",
              "      <th>height</th>\n",
              "      <th>curb-weight</th>\n",
              "      <th>engine-type</th>\n",
              "      <th>num-of-cylinders</th>\n",
              "      <th>engine-size</th>\n",
              "      <th>fuel-system</th>\n",
              "      <th>bore</th>\n",
              "      <th>stroke</th>\n",
              "      <th>compression-ratio</th>\n",
              "      <th>horsepower</th>\n",
              "      <th>peak-rpm</th>\n",
              "      <th>city-mpg</th>\n",
              "      <th>highway-mpg</th>\n",
              "      <th>price</th>\n",
              "      <th>price-binned</th>\n",
              "    </tr>\n",
              "  </thead>\n",
              "  <tbody>\n",
              "    <tr>\n",
              "      <th>0</th>\n",
              "      <td>3</td>\n",
              "      <td>0</td>\n",
              "      <td>alfa-romero</td>\n",
              "      <td>gas</td>\n",
              "      <td>std</td>\n",
              "      <td>two</td>\n",
              "      <td>convertible</td>\n",
              "      <td>rwd</td>\n",
              "      <td>front</td>\n",
              "      <td>88.6</td>\n",
              "      <td>168.8</td>\n",
              "      <td>64.1</td>\n",
              "      <td>48.8</td>\n",
              "      <td>2548</td>\n",
              "      <td>dohc</td>\n",
              "      <td>four</td>\n",
              "      <td>130</td>\n",
              "      <td>mpfi</td>\n",
              "      <td>3.47</td>\n",
              "      <td>2.68</td>\n",
              "      <td>9.0</td>\n",
              "      <td>111</td>\n",
              "      <td>5000</td>\n",
              "      <td>21</td>\n",
              "      <td>27</td>\n",
              "      <td>13495</td>\n",
              "      <td>Low</td>\n",
              "    </tr>\n",
              "    <tr>\n",
              "      <th>1</th>\n",
              "      <td>3</td>\n",
              "      <td>0</td>\n",
              "      <td>alfa-romero</td>\n",
              "      <td>gas</td>\n",
              "      <td>std</td>\n",
              "      <td>two</td>\n",
              "      <td>convertible</td>\n",
              "      <td>rwd</td>\n",
              "      <td>front</td>\n",
              "      <td>88.6</td>\n",
              "      <td>168.8</td>\n",
              "      <td>64.1</td>\n",
              "      <td>48.8</td>\n",
              "      <td>2548</td>\n",
              "      <td>dohc</td>\n",
              "      <td>four</td>\n",
              "      <td>130</td>\n",
              "      <td>mpfi</td>\n",
              "      <td>3.47</td>\n",
              "      <td>2.68</td>\n",
              "      <td>9.0</td>\n",
              "      <td>111</td>\n",
              "      <td>5000</td>\n",
              "      <td>21</td>\n",
              "      <td>27</td>\n",
              "      <td>16500</td>\n",
              "      <td>Medium</td>\n",
              "    </tr>\n",
              "    <tr>\n",
              "      <th>2</th>\n",
              "      <td>1</td>\n",
              "      <td>0</td>\n",
              "      <td>alfa-romero</td>\n",
              "      <td>gas</td>\n",
              "      <td>std</td>\n",
              "      <td>two</td>\n",
              "      <td>hatchback</td>\n",
              "      <td>rwd</td>\n",
              "      <td>front</td>\n",
              "      <td>94.5</td>\n",
              "      <td>171.2</td>\n",
              "      <td>65.5</td>\n",
              "      <td>52.4</td>\n",
              "      <td>2823</td>\n",
              "      <td>ohcv</td>\n",
              "      <td>six</td>\n",
              "      <td>152</td>\n",
              "      <td>mpfi</td>\n",
              "      <td>2.68</td>\n",
              "      <td>3.47</td>\n",
              "      <td>9.0</td>\n",
              "      <td>154</td>\n",
              "      <td>5000</td>\n",
              "      <td>19</td>\n",
              "      <td>26</td>\n",
              "      <td>16500</td>\n",
              "      <td>Medium</td>\n",
              "    </tr>\n",
              "    <tr>\n",
              "      <th>3</th>\n",
              "      <td>2</td>\n",
              "      <td>164</td>\n",
              "      <td>audi</td>\n",
              "      <td>gas</td>\n",
              "      <td>std</td>\n",
              "      <td>four</td>\n",
              "      <td>sedan</td>\n",
              "      <td>fwd</td>\n",
              "      <td>front</td>\n",
              "      <td>99.8</td>\n",
              "      <td>176.6</td>\n",
              "      <td>66.2</td>\n",
              "      <td>54.3</td>\n",
              "      <td>2337</td>\n",
              "      <td>ohc</td>\n",
              "      <td>four</td>\n",
              "      <td>109</td>\n",
              "      <td>mpfi</td>\n",
              "      <td>3.19</td>\n",
              "      <td>3.40</td>\n",
              "      <td>10.0</td>\n",
              "      <td>102</td>\n",
              "      <td>5500</td>\n",
              "      <td>24</td>\n",
              "      <td>30</td>\n",
              "      <td>13950</td>\n",
              "      <td>Low</td>\n",
              "    </tr>\n",
              "    <tr>\n",
              "      <th>4</th>\n",
              "      <td>2</td>\n",
              "      <td>164</td>\n",
              "      <td>audi</td>\n",
              "      <td>gas</td>\n",
              "      <td>std</td>\n",
              "      <td>four</td>\n",
              "      <td>sedan</td>\n",
              "      <td>4wd</td>\n",
              "      <td>front</td>\n",
              "      <td>99.4</td>\n",
              "      <td>176.6</td>\n",
              "      <td>66.4</td>\n",
              "      <td>54.3</td>\n",
              "      <td>2824</td>\n",
              "      <td>ohc</td>\n",
              "      <td>five</td>\n",
              "      <td>136</td>\n",
              "      <td>mpfi</td>\n",
              "      <td>3.19</td>\n",
              "      <td>3.40</td>\n",
              "      <td>8.0</td>\n",
              "      <td>115</td>\n",
              "      <td>5500</td>\n",
              "      <td>18</td>\n",
              "      <td>22</td>\n",
              "      <td>17450</td>\n",
              "      <td>Medium</td>\n",
              "    </tr>\n",
              "    <tr>\n",
              "      <th>...</th>\n",
              "      <td>...</td>\n",
              "      <td>...</td>\n",
              "      <td>...</td>\n",
              "      <td>...</td>\n",
              "      <td>...</td>\n",
              "      <td>...</td>\n",
              "      <td>...</td>\n",
              "      <td>...</td>\n",
              "      <td>...</td>\n",
              "      <td>...</td>\n",
              "      <td>...</td>\n",
              "      <td>...</td>\n",
              "      <td>...</td>\n",
              "      <td>...</td>\n",
              "      <td>...</td>\n",
              "      <td>...</td>\n",
              "      <td>...</td>\n",
              "      <td>...</td>\n",
              "      <td>...</td>\n",
              "      <td>...</td>\n",
              "      <td>...</td>\n",
              "      <td>...</td>\n",
              "      <td>...</td>\n",
              "      <td>...</td>\n",
              "      <td>...</td>\n",
              "      <td>...</td>\n",
              "      <td>...</td>\n",
              "    </tr>\n",
              "    <tr>\n",
              "      <th>200</th>\n",
              "      <td>-1</td>\n",
              "      <td>95</td>\n",
              "      <td>volvo</td>\n",
              "      <td>gas</td>\n",
              "      <td>std</td>\n",
              "      <td>four</td>\n",
              "      <td>sedan</td>\n",
              "      <td>rwd</td>\n",
              "      <td>front</td>\n",
              "      <td>109.1</td>\n",
              "      <td>188.8</td>\n",
              "      <td>68.9</td>\n",
              "      <td>55.5</td>\n",
              "      <td>2952</td>\n",
              "      <td>ohc</td>\n",
              "      <td>four</td>\n",
              "      <td>141</td>\n",
              "      <td>mpfi</td>\n",
              "      <td>3.78</td>\n",
              "      <td>3.15</td>\n",
              "      <td>9.5</td>\n",
              "      <td>114</td>\n",
              "      <td>5400</td>\n",
              "      <td>23</td>\n",
              "      <td>28</td>\n",
              "      <td>16845</td>\n",
              "      <td>Medium</td>\n",
              "    </tr>\n",
              "    <tr>\n",
              "      <th>201</th>\n",
              "      <td>-1</td>\n",
              "      <td>95</td>\n",
              "      <td>volvo</td>\n",
              "      <td>gas</td>\n",
              "      <td>turbo</td>\n",
              "      <td>four</td>\n",
              "      <td>sedan</td>\n",
              "      <td>rwd</td>\n",
              "      <td>front</td>\n",
              "      <td>109.1</td>\n",
              "      <td>188.8</td>\n",
              "      <td>68.8</td>\n",
              "      <td>55.5</td>\n",
              "      <td>3049</td>\n",
              "      <td>ohc</td>\n",
              "      <td>four</td>\n",
              "      <td>141</td>\n",
              "      <td>mpfi</td>\n",
              "      <td>3.78</td>\n",
              "      <td>3.15</td>\n",
              "      <td>8.7</td>\n",
              "      <td>160</td>\n",
              "      <td>5300</td>\n",
              "      <td>19</td>\n",
              "      <td>25</td>\n",
              "      <td>19045</td>\n",
              "      <td>Medium</td>\n",
              "    </tr>\n",
              "    <tr>\n",
              "      <th>202</th>\n",
              "      <td>-1</td>\n",
              "      <td>95</td>\n",
              "      <td>volvo</td>\n",
              "      <td>gas</td>\n",
              "      <td>std</td>\n",
              "      <td>four</td>\n",
              "      <td>sedan</td>\n",
              "      <td>rwd</td>\n",
              "      <td>front</td>\n",
              "      <td>109.1</td>\n",
              "      <td>188.8</td>\n",
              "      <td>68.9</td>\n",
              "      <td>55.5</td>\n",
              "      <td>3012</td>\n",
              "      <td>ohcv</td>\n",
              "      <td>six</td>\n",
              "      <td>173</td>\n",
              "      <td>mpfi</td>\n",
              "      <td>3.58</td>\n",
              "      <td>2.87</td>\n",
              "      <td>8.8</td>\n",
              "      <td>134</td>\n",
              "      <td>5500</td>\n",
              "      <td>18</td>\n",
              "      <td>23</td>\n",
              "      <td>21485</td>\n",
              "      <td>Medium</td>\n",
              "    </tr>\n",
              "    <tr>\n",
              "      <th>203</th>\n",
              "      <td>-1</td>\n",
              "      <td>95</td>\n",
              "      <td>volvo</td>\n",
              "      <td>diesel</td>\n",
              "      <td>turbo</td>\n",
              "      <td>four</td>\n",
              "      <td>sedan</td>\n",
              "      <td>rwd</td>\n",
              "      <td>front</td>\n",
              "      <td>109.1</td>\n",
              "      <td>188.8</td>\n",
              "      <td>68.9</td>\n",
              "      <td>55.5</td>\n",
              "      <td>3217</td>\n",
              "      <td>ohc</td>\n",
              "      <td>six</td>\n",
              "      <td>145</td>\n",
              "      <td>idi</td>\n",
              "      <td>3.01</td>\n",
              "      <td>3.40</td>\n",
              "      <td>23.0</td>\n",
              "      <td>106</td>\n",
              "      <td>4800</td>\n",
              "      <td>26</td>\n",
              "      <td>27</td>\n",
              "      <td>22470</td>\n",
              "      <td>Medium</td>\n",
              "    </tr>\n",
              "    <tr>\n",
              "      <th>204</th>\n",
              "      <td>-1</td>\n",
              "      <td>95</td>\n",
              "      <td>volvo</td>\n",
              "      <td>gas</td>\n",
              "      <td>turbo</td>\n",
              "      <td>four</td>\n",
              "      <td>sedan</td>\n",
              "      <td>rwd</td>\n",
              "      <td>front</td>\n",
              "      <td>109.1</td>\n",
              "      <td>188.8</td>\n",
              "      <td>68.9</td>\n",
              "      <td>55.5</td>\n",
              "      <td>3062</td>\n",
              "      <td>ohc</td>\n",
              "      <td>four</td>\n",
              "      <td>141</td>\n",
              "      <td>mpfi</td>\n",
              "      <td>3.78</td>\n",
              "      <td>3.15</td>\n",
              "      <td>9.5</td>\n",
              "      <td>114</td>\n",
              "      <td>5400</td>\n",
              "      <td>19</td>\n",
              "      <td>25</td>\n",
              "      <td>22625</td>\n",
              "      <td>Medium</td>\n",
              "    </tr>\n",
              "  </tbody>\n",
              "</table>\n",
              "<p>205 rows × 27 columns</p>\n",
              "</div>"
            ],
            "text/plain": [
              "     symboling normalized-losses         make  ... highway-mpg  price price-binned\n",
              "0            3                 0  alfa-romero  ...          27  13495          Low\n",
              "1            3                 0  alfa-romero  ...          27  16500       Medium\n",
              "2            1                 0  alfa-romero  ...          26  16500       Medium\n",
              "3            2               164         audi  ...          30  13950          Low\n",
              "4            2               164         audi  ...          22  17450       Medium\n",
              "..         ...               ...          ...  ...         ...    ...          ...\n",
              "200         -1                95        volvo  ...          28  16845       Medium\n",
              "201         -1                95        volvo  ...          25  19045       Medium\n",
              "202         -1                95        volvo  ...          23  21485       Medium\n",
              "203         -1                95        volvo  ...          27  22470       Medium\n",
              "204         -1                95        volvo  ...          25  22625       Medium\n",
              "\n",
              "[205 rows x 27 columns]"
            ]
          },
          "metadata": {
            "tags": []
          },
          "execution_count": 21
        }
      ]
    },
    {
      "cell_type": "markdown",
      "metadata": {
        "id": "XeZYQqXotsEj"
      },
      "source": [
        "# 6. Exploratory Data Analysis (EDA)\r\n",
        "EDA is an approach to analyze data in order to:\r\n",
        "* summarize main characteristics of the data\r\n",
        "* gain better understanding of the data set\r\n",
        "* uncover relationships between different variables\r\n",
        "* extract important variables for the problem we're trying to solve."
      ]
    },
    {
      "cell_type": "markdown",
      "metadata": {
        "id": "7HUGcSSlva7Y"
      },
      "source": [
        "## 6.1 Descriptive Statistics\r\n",
        "* Describe basic features of data\r\n",
        "* Giving short summaries about the sample ans measures of data\r\n",
        "\r\n",
        "Use `df.describe()` function and applying it on your DataFrame,\r\n",
        "a describe function automatically computes basic statistics for all numerical variables."
      ]
    },
    {
      "cell_type": "code",
      "metadata": {
        "id": "VW_zJsiWH2gc",
        "colab": {
          "base_uri": "https://localhost:8080/",
          "height": 0
        },
        "outputId": "18f1c66f-e12b-4e88-9e20-3898389141d4"
      },
      "source": [
        "df.describe()"
      ],
      "execution_count": 22,
      "outputs": [
        {
          "output_type": "execute_result",
          "data": {
            "text/html": [
              "<div>\n",
              "<style scoped>\n",
              "    .dataframe tbody tr th:only-of-type {\n",
              "        vertical-align: middle;\n",
              "    }\n",
              "\n",
              "    .dataframe tbody tr th {\n",
              "        vertical-align: top;\n",
              "    }\n",
              "\n",
              "    .dataframe thead th {\n",
              "        text-align: right;\n",
              "    }\n",
              "</style>\n",
              "<table border=\"1\" class=\"dataframe\">\n",
              "  <thead>\n",
              "    <tr style=\"text-align: right;\">\n",
              "      <th></th>\n",
              "      <th>symboling</th>\n",
              "      <th>wheel-base</th>\n",
              "      <th>length</th>\n",
              "      <th>width</th>\n",
              "      <th>height</th>\n",
              "      <th>curb-weight</th>\n",
              "      <th>engine-size</th>\n",
              "      <th>compression-ratio</th>\n",
              "      <th>city-mpg</th>\n",
              "      <th>highway-mpg</th>\n",
              "      <th>price</th>\n",
              "    </tr>\n",
              "  </thead>\n",
              "  <tbody>\n",
              "    <tr>\n",
              "      <th>count</th>\n",
              "      <td>205.000000</td>\n",
              "      <td>205.000000</td>\n",
              "      <td>205.000000</td>\n",
              "      <td>205.000000</td>\n",
              "      <td>205.000000</td>\n",
              "      <td>205.000000</td>\n",
              "      <td>205.000000</td>\n",
              "      <td>205.000000</td>\n",
              "      <td>205.000000</td>\n",
              "      <td>205.000000</td>\n",
              "      <td>205.000000</td>\n",
              "    </tr>\n",
              "    <tr>\n",
              "      <th>mean</th>\n",
              "      <td>0.834146</td>\n",
              "      <td>98.756585</td>\n",
              "      <td>174.049268</td>\n",
              "      <td>65.907805</td>\n",
              "      <td>53.724878</td>\n",
              "      <td>2555.565854</td>\n",
              "      <td>126.907317</td>\n",
              "      <td>10.142537</td>\n",
              "      <td>25.219512</td>\n",
              "      <td>30.751220</td>\n",
              "      <td>12949.429268</td>\n",
              "    </tr>\n",
              "    <tr>\n",
              "      <th>std</th>\n",
              "      <td>1.245307</td>\n",
              "      <td>6.021776</td>\n",
              "      <td>12.337289</td>\n",
              "      <td>2.145204</td>\n",
              "      <td>2.443522</td>\n",
              "      <td>520.680204</td>\n",
              "      <td>41.642693</td>\n",
              "      <td>3.972040</td>\n",
              "      <td>6.542142</td>\n",
              "      <td>6.886443</td>\n",
              "      <td>8079.043284</td>\n",
              "    </tr>\n",
              "    <tr>\n",
              "      <th>min</th>\n",
              "      <td>-2.000000</td>\n",
              "      <td>86.600000</td>\n",
              "      <td>141.100000</td>\n",
              "      <td>60.300000</td>\n",
              "      <td>47.800000</td>\n",
              "      <td>1488.000000</td>\n",
              "      <td>61.000000</td>\n",
              "      <td>7.000000</td>\n",
              "      <td>13.000000</td>\n",
              "      <td>16.000000</td>\n",
              "      <td>0.000000</td>\n",
              "    </tr>\n",
              "    <tr>\n",
              "      <th>25%</th>\n",
              "      <td>0.000000</td>\n",
              "      <td>94.500000</td>\n",
              "      <td>166.300000</td>\n",
              "      <td>64.100000</td>\n",
              "      <td>52.000000</td>\n",
              "      <td>2145.000000</td>\n",
              "      <td>97.000000</td>\n",
              "      <td>8.600000</td>\n",
              "      <td>19.000000</td>\n",
              "      <td>25.000000</td>\n",
              "      <td>7689.000000</td>\n",
              "    </tr>\n",
              "    <tr>\n",
              "      <th>50%</th>\n",
              "      <td>1.000000</td>\n",
              "      <td>97.000000</td>\n",
              "      <td>173.200000</td>\n",
              "      <td>65.500000</td>\n",
              "      <td>54.100000</td>\n",
              "      <td>2414.000000</td>\n",
              "      <td>120.000000</td>\n",
              "      <td>9.000000</td>\n",
              "      <td>24.000000</td>\n",
              "      <td>30.000000</td>\n",
              "      <td>10198.000000</td>\n",
              "    </tr>\n",
              "    <tr>\n",
              "      <th>75%</th>\n",
              "      <td>2.000000</td>\n",
              "      <td>102.400000</td>\n",
              "      <td>183.100000</td>\n",
              "      <td>66.900000</td>\n",
              "      <td>55.500000</td>\n",
              "      <td>2935.000000</td>\n",
              "      <td>141.000000</td>\n",
              "      <td>9.400000</td>\n",
              "      <td>30.000000</td>\n",
              "      <td>34.000000</td>\n",
              "      <td>16500.000000</td>\n",
              "    </tr>\n",
              "    <tr>\n",
              "      <th>max</th>\n",
              "      <td>3.000000</td>\n",
              "      <td>120.900000</td>\n",
              "      <td>208.100000</td>\n",
              "      <td>72.300000</td>\n",
              "      <td>59.800000</td>\n",
              "      <td>4066.000000</td>\n",
              "      <td>326.000000</td>\n",
              "      <td>23.000000</td>\n",
              "      <td>49.000000</td>\n",
              "      <td>54.000000</td>\n",
              "      <td>45400.000000</td>\n",
              "    </tr>\n",
              "  </tbody>\n",
              "</table>\n",
              "</div>"
            ],
            "text/plain": [
              "        symboling  wheel-base  ...  highway-mpg         price\n",
              "count  205.000000  205.000000  ...   205.000000    205.000000\n",
              "mean     0.834146   98.756585  ...    30.751220  12949.429268\n",
              "std      1.245307    6.021776  ...     6.886443   8079.043284\n",
              "min     -2.000000   86.600000  ...    16.000000      0.000000\n",
              "25%      0.000000   94.500000  ...    25.000000   7689.000000\n",
              "50%      1.000000   97.000000  ...    30.000000  10198.000000\n",
              "75%      2.000000  102.400000  ...    34.000000  16500.000000\n",
              "max      3.000000  120.900000  ...    54.000000  45400.000000\n",
              "\n",
              "[8 rows x 11 columns]"
            ]
          },
          "metadata": {
            "tags": []
          },
          "execution_count": 22
        }
      ]
    },
    {
      "cell_type": "markdown",
      "metadata": {
        "id": "5o2JKNEewvYu"
      },
      "source": [
        "Summerize the categorical data is by using the `value_counts()` method"
      ]
    },
    {
      "cell_type": "code",
      "metadata": {
        "colab": {
          "base_uri": "https://localhost:8080/",
          "height": 0
        },
        "id": "4hFKkzkLwYtV",
        "outputId": "8ff66b8f-c883-4a2a-9f6f-9f140802c25a"
      },
      "source": [
        "df['drive-wheels' ].value_counts().to_frame()"
      ],
      "execution_count": 23,
      "outputs": [
        {
          "output_type": "execute_result",
          "data": {
            "text/html": [
              "<div>\n",
              "<style scoped>\n",
              "    .dataframe tbody tr th:only-of-type {\n",
              "        vertical-align: middle;\n",
              "    }\n",
              "\n",
              "    .dataframe tbody tr th {\n",
              "        vertical-align: top;\n",
              "    }\n",
              "\n",
              "    .dataframe thead th {\n",
              "        text-align: right;\n",
              "    }\n",
              "</style>\n",
              "<table border=\"1\" class=\"dataframe\">\n",
              "  <thead>\n",
              "    <tr style=\"text-align: right;\">\n",
              "      <th></th>\n",
              "      <th>drive-wheels</th>\n",
              "    </tr>\n",
              "  </thead>\n",
              "  <tbody>\n",
              "    <tr>\n",
              "      <th>fwd</th>\n",
              "      <td>120</td>\n",
              "    </tr>\n",
              "    <tr>\n",
              "      <th>rwd</th>\n",
              "      <td>76</td>\n",
              "    </tr>\n",
              "    <tr>\n",
              "      <th>4wd</th>\n",
              "      <td>9</td>\n",
              "    </tr>\n",
              "  </tbody>\n",
              "</table>\n",
              "</div>"
            ],
            "text/plain": [
              "     drive-wheels\n",
              "fwd           120\n",
              "rwd            76\n",
              "4wd             9"
            ]
          },
          "metadata": {
            "tags": []
          },
          "execution_count": 23
        }
      ]
    },
    {
      "cell_type": "markdown",
      "metadata": {
        "id": "KCB56UX4yMLR"
      },
      "source": [
        "## 6.2 Boxplot\r\n",
        "\r\n",
        "Box plots make it easy to compare between groups. a box plot or boxplot is a method for graphically depicting groups of numerical data through their quartiles. Box plots may also have lines extending from the boxes (whiskers) indicating variability outside the upper and lower quartiles, hence the terms box-and-whisker plot and box-and-whisker diagram. Outliers may be plotted as individual points. \r\n",
        "![Identification-of-outliers-left-box-plot-and-the-normal-distribution-of-observation.png](data:image/png;base64,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)\r\n"
      ]
    },
    {
      "cell_type": "code",
      "metadata": {
        "colab": {
          "base_uri": "https://localhost:8080/",
          "height": 296
        },
        "id": "t7wuiOVRw6Oz",
        "outputId": "f9feac5c-bd57-4820-cb4e-3a909bb7cf40"
      },
      "source": [
        "sns.boxplot(x='drive-wheels',y='price',data=df)"
      ],
      "execution_count": 24,
      "outputs": [
        {
          "output_type": "execute_result",
          "data": {
            "text/plain": [
              "<matplotlib.axes._subplots.AxesSubplot at 0x7f272c70a128>"
            ]
          },
          "metadata": {
            "tags": []
          },
          "execution_count": 24
        },
        {
          "output_type": "display_data",
          "data": {
            "image/png": "[encoded data removed]",
            "text/plain": [
              "<Figure size 432x288 with 1 Axes>"
            ]
          },
          "metadata": {
            "tags": [],
            "needs_background": "light"
          }
        }
      ]
    },
    {
      "cell_type": "markdown",
      "metadata": {
        "id": "s-kOarxu7uPP"
      },
      "source": [
        "## 6.3 Scatter Plot\r\n",
        "\r\n",
        "* Each observation represented as a point.\r\n",
        "* Scatter plot Show the relationship between two variables.\r\n",
        "* Predictor | independet variabels on x-axis.\r\n",
        "* Target | dependent variables on-axis.\r\n",
        "\r\n",
        "In a scatter plot, we typically set the predictor variable on the x-axis or horizontal axis, and we set the target variable on the y-axis or vertical axis."
      ]
    },
    {
      "cell_type": "code",
      "metadata": {
        "colab": {
          "base_uri": "https://localhost:8080/",
          "height": 296
        },
        "id": "hz7dBLq87XSj",
        "outputId": "b33a62f9-eda1-4eed-b8c1-26ab4d189ece"
      },
      "source": [
        "sns.scatterplot(x='engine-size',y='price',data=df)"
      ],
      "execution_count": 25,
      "outputs": [
        {
          "output_type": "execute_result",
          "data": {
            "text/plain": [
              "<matplotlib.axes._subplots.AxesSubplot at 0x7f272c208710>"
            ]
          },
          "metadata": {
            "tags": []
          },
          "execution_count": 25
        },
        {
          "output_type": "display_data",
          "data": {
            "image/png": "[encoded data removed]",
            "text/plain": [
              "<Figure size 432x288 with 1 Axes>"
            ]
          },
          "metadata": {
            "tags": [],
            "needs_background": "light"
          }
        }
      ]
    },
    {
      "cell_type": "markdown",
      "metadata": {
        "id": "DZe9rhXh9cRV"
      },
      "source": [
        "## 6.4 GroupBy in Python \r\n",
        "\r\n",
        "Assume you want to know, is there any relationship between the different types of drive system, forward, rear, and four-wheel drive, and the price of the vehicles? \r\n",
        "\r\n",
        "If so, which type of drive system adds the most value to a vehicle?\r\n",
        "It would be nice if we could group all the data by the different types of\r\n",
        "drive wheels and compare the results of these different drive wheels against each other.\r\n",
        "\r\n",
        "* Use Panda `df.Groupby()` method:\r\n",
        "  * Can be applied on categorical variables \r\n",
        "  * Group data into categories\r\n",
        "  * Single or multiple variables\r\n",
        "\r\n",
        "\r\n",
        "---\r\n",
        "\r\n",
        "\r\n",
        "As an example, let's say we are interested in finding the average **price** of vehicles and observe how they differ between different **types of\r\n",
        "body styles** and **drive wheels variables**.\r\n",
        "\r\n",
        "To do this, we first pick out the three data columns we are interested in,\r\n",
        "which is done in the first line of code.\r\n",
        "\r\n",
        "We then group the reduced data according to drive wheels and body style in the second line. Since we are interested in knowing how the average price differs across the board, we can take the mean of each group and append it this bit at the very end of the line too."
      ]
    },
    {
      "cell_type": "code",
      "metadata": {
        "colab": {
          "base_uri": "https://localhost:8080/",
          "height": 452
        },
        "id": "GZSB59RX84Tl",
        "outputId": "3912aeac-44ee-4d86-b371-10dcd27c505c"
      },
      "source": [
        "df_test=df[['drive-wheels','body-style','price']]\r\n",
        "df_group=df_test.groupby(['drive-wheels','body-style'],as_index=False).mean()\r\n",
        "df_group"
      ],
      "execution_count": 26,
      "outputs": [
        {
          "output_type": "execute_result",
          "data": {
            "text/html": [
              "<div>\n",
              "<style scoped>\n",
              "    .dataframe tbody tr th:only-of-type {\n",
              "        vertical-align: middle;\n",
              "    }\n",
              "\n",
              "    .dataframe tbody tr th {\n",
              "        vertical-align: top;\n",
              "    }\n",
              "\n",
              "    .dataframe thead th {\n",
              "        text-align: right;\n",
              "    }\n",
              "</style>\n",
              "<table border=\"1\" class=\"dataframe\">\n",
              "  <thead>\n",
              "    <tr style=\"text-align: right;\">\n",
              "      <th></th>\n",
              "      <th>drive-wheels</th>\n",
              "      <th>body-style</th>\n",
              "      <th>price</th>\n",
              "    </tr>\n",
              "  </thead>\n",
              "  <tbody>\n",
              "    <tr>\n",
              "      <th>0</th>\n",
              "      <td>4wd</td>\n",
              "      <td>hatchback</td>\n",
              "      <td>3801.500000</td>\n",
              "    </tr>\n",
              "    <tr>\n",
              "      <th>1</th>\n",
              "      <td>4wd</td>\n",
              "      <td>sedan</td>\n",
              "      <td>12647.333333</td>\n",
              "    </tr>\n",
              "    <tr>\n",
              "      <th>2</th>\n",
              "      <td>4wd</td>\n",
              "      <td>wagon</td>\n",
              "      <td>9095.750000</td>\n",
              "    </tr>\n",
              "    <tr>\n",
              "      <th>3</th>\n",
              "      <td>fwd</td>\n",
              "      <td>convertible</td>\n",
              "      <td>11595.000000</td>\n",
              "    </tr>\n",
              "    <tr>\n",
              "      <th>4</th>\n",
              "      <td>fwd</td>\n",
              "      <td>hardtop</td>\n",
              "      <td>8249.000000</td>\n",
              "    </tr>\n",
              "    <tr>\n",
              "      <th>5</th>\n",
              "      <td>fwd</td>\n",
              "      <td>hatchback</td>\n",
              "      <td>8396.387755</td>\n",
              "    </tr>\n",
              "    <tr>\n",
              "      <th>6</th>\n",
              "      <td>fwd</td>\n",
              "      <td>sedan</td>\n",
              "      <td>9467.526316</td>\n",
              "    </tr>\n",
              "    <tr>\n",
              "      <th>7</th>\n",
              "      <td>fwd</td>\n",
              "      <td>wagon</td>\n",
              "      <td>9997.333333</td>\n",
              "    </tr>\n",
              "    <tr>\n",
              "      <th>8</th>\n",
              "      <td>rwd</td>\n",
              "      <td>convertible</td>\n",
              "      <td>23949.600000</td>\n",
              "    </tr>\n",
              "    <tr>\n",
              "      <th>9</th>\n",
              "      <td>rwd</td>\n",
              "      <td>hardtop</td>\n",
              "      <td>24202.714286</td>\n",
              "    </tr>\n",
              "    <tr>\n",
              "      <th>10</th>\n",
              "      <td>rwd</td>\n",
              "      <td>hatchback</td>\n",
              "      <td>13583.157895</td>\n",
              "    </tr>\n",
              "    <tr>\n",
              "      <th>11</th>\n",
              "      <td>rwd</td>\n",
              "      <td>sedan</td>\n",
              "      <td>21711.833333</td>\n",
              "    </tr>\n",
              "    <tr>\n",
              "      <th>12</th>\n",
              "      <td>rwd</td>\n",
              "      <td>wagon</td>\n",
              "      <td>16994.222222</td>\n",
              "    </tr>\n",
              "  </tbody>\n",
              "</table>\n",
              "</div>"
            ],
            "text/plain": [
              "   drive-wheels   body-style         price\n",
              "0           4wd    hatchback   3801.500000\n",
              "1           4wd        sedan  12647.333333\n",
              "2           4wd        wagon   9095.750000\n",
              "3           fwd  convertible  11595.000000\n",
              "4           fwd      hardtop   8249.000000\n",
              "5           fwd    hatchback   8396.387755\n",
              "6           fwd        sedan   9467.526316\n",
              "7           fwd        wagon   9997.333333\n",
              "8           rwd  convertible  23949.600000\n",
              "9           rwd      hardtop  24202.714286\n",
              "10          rwd    hatchback  13583.157895\n",
              "11          rwd        sedan  21711.833333\n",
              "12          rwd        wagon  16994.222222"
            ]
          },
          "metadata": {
            "tags": []
          },
          "execution_count": 26
        }
      ]
    },
    {
      "cell_type": "markdown",
      "metadata": {
        "id": "iLD5EWtfDzso"
      },
      "source": [
        "### 6.4.1 Transform the 'df.groupby()' to PIVOT\r\n",
        "* One variable displayed along the columns and the other variable displayed along rows.\r\n",
        "\r\n",
        "We use `df.pivot()` for this method."
      ]
    },
    {
      "cell_type": "code",
      "metadata": {
        "colab": {
          "base_uri": "https://localhost:8080/",
          "height": 204
        },
        "id": "j4YltIIB_US6",
        "outputId": "4098908f-71b1-44fd-b289-aa2184ad3ba5"
      },
      "source": [
        "df_pivot=df_group.pivot(index='drive-wheels',columns='body-style')\r\n",
        "df_pivot"
      ],
      "execution_count": 27,
      "outputs": [
        {
          "output_type": "execute_result",
          "data": {
            "text/html": [
              "<div>\n",
              "<style scoped>\n",
              "    .dataframe tbody tr th:only-of-type {\n",
              "        vertical-align: middle;\n",
              "    }\n",
              "\n",
              "    .dataframe tbody tr th {\n",
              "        vertical-align: top;\n",
              "    }\n",
              "\n",
              "    .dataframe thead tr th {\n",
              "        text-align: left;\n",
              "    }\n",
              "\n",
              "    .dataframe thead tr:last-of-type th {\n",
              "        text-align: right;\n",
              "    }\n",
              "</style>\n",
              "<table border=\"1\" class=\"dataframe\">\n",
              "  <thead>\n",
              "    <tr>\n",
              "      <th></th>\n",
              "      <th colspan=\"5\" halign=\"left\">price</th>\n",
              "    </tr>\n",
              "    <tr>\n",
              "      <th>body-style</th>\n",
              "      <th>convertible</th>\n",
              "      <th>hardtop</th>\n",
              "      <th>hatchback</th>\n",
              "      <th>sedan</th>\n",
              "      <th>wagon</th>\n",
              "    </tr>\n",
              "    <tr>\n",
              "      <th>drive-wheels</th>\n",
              "      <th></th>\n",
              "      <th></th>\n",
              "      <th></th>\n",
              "      <th></th>\n",
              "      <th></th>\n",
              "    </tr>\n",
              "  </thead>\n",
              "  <tbody>\n",
              "    <tr>\n",
              "      <th>4wd</th>\n",
              "      <td>NaN</td>\n",
              "      <td>NaN</td>\n",
              "      <td>3801.500000</td>\n",
              "      <td>12647.333333</td>\n",
              "      <td>9095.750000</td>\n",
              "    </tr>\n",
              "    <tr>\n",
              "      <th>fwd</th>\n",
              "      <td>11595.0</td>\n",
              "      <td>8249.000000</td>\n",
              "      <td>8396.387755</td>\n",
              "      <td>9467.526316</td>\n",
              "      <td>9997.333333</td>\n",
              "    </tr>\n",
              "    <tr>\n",
              "      <th>rwd</th>\n",
              "      <td>23949.6</td>\n",
              "      <td>24202.714286</td>\n",
              "      <td>13583.157895</td>\n",
              "      <td>21711.833333</td>\n",
              "      <td>16994.222222</td>\n",
              "    </tr>\n",
              "  </tbody>\n",
              "</table>\n",
              "</div>"
            ],
            "text/plain": [
              "                   price                ...                            \n",
              "body-style   convertible       hardtop  ...         sedan         wagon\n",
              "drive-wheels                            ...                            \n",
              "4wd                  NaN           NaN  ...  12647.333333   9095.750000\n",
              "fwd              11595.0   8249.000000  ...   9467.526316   9997.333333\n",
              "rwd              23949.6  24202.714286  ...  21711.833333  16994.222222\n",
              "\n",
              "[3 rows x 5 columns]"
            ]
          },
          "metadata": {
            "tags": []
          },
          "execution_count": 27
        }
      ]
    },
    {
      "cell_type": "markdown",
      "metadata": {
        "id": "ZCwYddb_GL5-"
      },
      "source": [
        "### 6.5 Heatmap\r\n",
        "* Plot target variable over multiple variables"
      ]
    },
    {
      "cell_type": "code",
      "metadata": {
        "colab": {
          "base_uri": "https://localhost:8080/",
          "height": 371
        },
        "id": "dKTWMIffE49v",
        "outputId": "9358575b-7892-4310-eb0c-4f0a5fec316c"
      },
      "source": [
        "sns.heatmap(df_pivot,cmap='RdYlGn')"
      ],
      "execution_count": 28,
      "outputs": [
        {
          "output_type": "execute_result",
          "data": {
            "text/plain": [
              "<matplotlib.axes._subplots.AxesSubplot at 0x7f272c17d860>"
            ]
          },
          "metadata": {
            "tags": []
          },
          "execution_count": 28
        },
        {
          "output_type": "display_data",
          "data": {
            "image/png": "[encoded data removed]",
            "text/plain": [
              "<Figure size 432x288 with 2 Axes>"
            ]
          },
          "metadata": {
            "tags": [],
            "needs_background": "light"
          }
        }
      ]
    },
    {
      "cell_type": "markdown",
      "metadata": {
        "id": "4CGLM__gHtu9"
      },
      "source": [
        "## 6.6. Correlation\r\n",
        "\r\n",
        "* Measure to waht extent different variables are interdependent.\r\n",
        "* for example:\r\n",
        "  * Lunge cancer \t$\\rightarrow$ Smoking\r\n",
        "  * Raing $\t\\rightarrow$ Umbrella\r\n",
        "* Correlation doesn't imply caisation.\r\n",
        "---\r\n",
        "\r\n",
        "Correlation is a statistical metric for\r\n",
        "measuring to what extent different variables are interdependent.\r\n",
        "In other words, when we look at two variables over time,\r\n",
        "if one variable changes how does this affect change in the other variable?\r\n",
        "\r\n",
        "---\r\n",
        "Example: Correlation between two features (engine-size and price).\r\n",
        "\r\n",
        "\r\n"
      ]
    },
    {
      "cell_type": "code",
      "metadata": {
        "colab": {
          "base_uri": "https://localhost:8080/",
          "height": 296
        },
        "id": "chYuS7pSGhCU",
        "outputId": "49bf0eed-2ef6-4480-96b9-0ebd017d7b87"
      },
      "source": [
        "'Positive Correaltion'\r\n",
        "sns.regplot(x='engine-size',y='price',data=df)\r\n",
        "plt.ylim(0,) # um von Null angefangen wird"
      ],
      "execution_count": 29,
      "outputs": [
        {
          "output_type": "execute_result",
          "data": {
            "text/plain": [
              "(0.0, 52415.8791323084)"
            ]
          },
          "metadata": {
            "tags": []
          },
          "execution_count": 29
        },
        {
          "output_type": "display_data",
          "data": {
            "image/png": "[encoded data removed]",
            "text/plain": [
              "<Figure size 432x288 with 1 Axes>"
            ]
          },
          "metadata": {
            "tags": [],
            "needs_background": "light"
          }
        }
      ]
    },
    {
      "cell_type": "code",
      "metadata": {
        "colab": {
          "base_uri": "https://localhost:8080/",
          "height": 296
        },
        "id": "ncTAqMKBOR1f",
        "outputId": "f2dfbaf0-971b-4908-c0ff-a1ff9683766c"
      },
      "source": [
        "'Negative Correaltion'\r\n",
        "sns.regplot(x='highway-mpg',y='price',data=df)\r\n",
        "plt.ylim(0,) # um von Null angefangen wird"
      ],
      "execution_count": 30,
      "outputs": [
        {
          "output_type": "execute_result",
          "data": {
            "text/plain": [
              "(0.0, 48185.94087837516)"
            ]
          },
          "metadata": {
            "tags": []
          },
          "execution_count": 30
        },
        {
          "output_type": "display_data",
          "data": {
            "image/png": "[encoded data removed]",
            "text/plain": [
              "<Figure size 432x288 with 1 Axes>"
            ]
          },
          "metadata": {
            "tags": [],
            "needs_background": "light"
          }
        }
      ]
    },
    {
      "cell_type": "code",
      "metadata": {
        "colab": {
          "base_uri": "https://localhost:8080/",
          "height": 296
        },
        "id": "qOp1SR4cOtic",
        "outputId": "f0db0393-3d9e-4337-c620-179444d29db7"
      },
      "source": [
        "'Weak Correaltion'\r\n",
        "sns.regplot(x=df['peak-rpm'].astype('int'),y='price',data=df[['peak-rpm','price']])\r\n",
        "plt.ylim(0,) # um von Null angefangen wird"
      ],
      "execution_count": 31,
      "outputs": [
        {
          "output_type": "execute_result",
          "data": {
            "text/plain": [
              "(0.0, 47670.0)"
            ]
          },
          "metadata": {
            "tags": []
          },
          "execution_count": 31
        },
        {
          "output_type": "display_data",
          "data": {
            "image/png": "[encoded data removed]",
            "text/plain": [
              "<Figure size 432x288 with 1 Axes>"
            ]
          },
          "metadata": {
            "tags": [],
            "needs_background": "light"
          }
        }
      ]
    },
    {
      "cell_type": "markdown",
      "metadata": {
        "id": "VmCOOrZ2QsWF"
      },
      "source": [
        "\r\n",
        "### 6.6.1.Pearson Corralation\r\n",
        "Pearson correlation coefficient or Pearson’s correlation coefficient or Pearson’s r is defined in statistics as the measurement of the strength of the relationship between two variables and their association with each other. \r\n",
        "\r\n",
        "In simple words, Pearson’s correlation coefficient calculates the effect of change in one variable when the other variable changes.\r\n",
        "\r\n",
        "\r\n",
        "---\r\n",
        "* Measure the strength of the correaltion between two features.\r\n",
        "  * Correlation coefficient\r\n",
        "  * P-value\r\n",
        "\r\n",
        "* Correlation ceofficient:\r\n",
        "  * Close to +1: Large Positive relationship\r\n",
        "  * Close to -1: Large Negative relationship\r\n",
        "  * Close to 0: No relationship\r\n",
        "\r\n",
        "P-value will tell us how certain we are about the correlation that we calculated.\r\n",
        "* P-value:\r\n",
        "  * 0 < P-value < 0.0001 $\\rightarrow$ **Strong** certainly in the result\r\n",
        "  * 0.0001< P-value < 0.05 $\\rightarrow$  **Moderate** certainly in the result\r\n",
        "  * 0.05  < P-value < 0.1  $\\rightarrow$  **Weak**  certainly in the result\r\n",
        "  * P-value > 0.1 $\\rightarrow$   **No** certainly in the result\r\n",
        "\r\n",
        "* **Strong Correlation:**\r\n",
        "  * Correlation coefficient close to 1 or -1\r\n",
        "  * P-value less than 0.001\r\n",
        "---\r\n",
        "\r\n",
        "![image.png](data:image/png;base64,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)\r\n",
        "\r\n",
        "---\r\n",
        "**Example:** In this example, we want to look at the correlation\r\n",
        "between the variable's horsepower and car price."
      ]
    },
    {
      "cell_type": "code",
      "metadata": {
        "colab": {
          "base_uri": "https://localhost:8080/"
        },
        "id": "iamlceg1PFhs",
        "outputId": "8d5c11d4-9bcd-4ac5-eeb5-07c50a05ab58"
      },
      "source": [
        "'With Scipy'\r\n",
        "import numpy as np\r\n",
        "from scipy import stats\r\n",
        "\r\n",
        "pearson_coef,p_value=stats.pearsonr(df['horsepower'].astype('float'),df['price'])\r\n",
        "print(pearson_coef)\r\n",
        "print(p_value)"
      ],
      "execution_count": 32,
      "outputs": [
        {
          "output_type": "stream",
          "text": [
            "0.6912878787942788\n",
            "1.8175735366187956e-30\n"
          ],
          "name": "stdout"
        }
      ]
    },
    {
      "cell_type": "code",
      "metadata": {
        "colab": {
          "base_uri": "https://localhost:8080/",
          "height": 366
        },
        "id": "1P60J25hnfNh",
        "outputId": "473be710-2ceb-469a-bb20-bbbe1eb9a9ff"
      },
      "source": [
        "sns.heatmap(df.corr(),cmap='RdYlGn_r')"
      ],
      "execution_count": 33,
      "outputs": [
        {
          "output_type": "execute_result",
          "data": {
            "text/plain": [
              "<matplotlib.axes._subplots.AxesSubplot at 0x7f27297e7b00>"
            ]
          },
          "metadata": {
            "tags": []
          },
          "execution_count": 33
        },
        {
          "output_type": "display_data",
          "data": {
            "image/png": "[encoded data removed]",
            "text/plain": [
              "<Figure size 432x288 with 2 Axes>"
            ]
          },
          "metadata": {
            "tags": [],
            "needs_background": "light"
          }
        }
      ]
    },
    {
      "cell_type": "code",
      "metadata": {
        "colab": {
          "base_uri": "https://localhost:8080/",
          "height": 390
        },
        "id": "oCcJ_AQRn62l",
        "outputId": "8a0543b7-49f4-4ce3-9cf5-2707222a3b9f"
      },
      "source": [
        "df.corr()"
      ],
      "execution_count": 34,
      "outputs": [
        {
          "output_type": "execute_result",
          "data": {
            "text/html": [
              "<div>\n",
              "<style scoped>\n",
              "    .dataframe tbody tr th:only-of-type {\n",
              "        vertical-align: middle;\n",
              "    }\n",
              "\n",
              "    .dataframe tbody tr th {\n",
              "        vertical-align: top;\n",
              "    }\n",
              "\n",
              "    .dataframe thead th {\n",
              "        text-align: right;\n",
              "    }\n",
              "</style>\n",
              "<table border=\"1\" class=\"dataframe\">\n",
              "  <thead>\n",
              "    <tr style=\"text-align: right;\">\n",
              "      <th></th>\n",
              "      <th>symboling</th>\n",
              "      <th>wheel-base</th>\n",
              "      <th>length</th>\n",
              "      <th>width</th>\n",
              "      <th>height</th>\n",
              "      <th>curb-weight</th>\n",
              "      <th>engine-size</th>\n",
              "      <th>compression-ratio</th>\n",
              "      <th>city-mpg</th>\n",
              "      <th>highway-mpg</th>\n",
              "      <th>price</th>\n",
              "    </tr>\n",
              "  </thead>\n",
              "  <tbody>\n",
              "    <tr>\n",
              "      <th>symboling</th>\n",
              "      <td>1.000000</td>\n",
              "      <td>-0.531954</td>\n",
              "      <td>-0.357612</td>\n",
              "      <td>-0.232919</td>\n",
              "      <td>-0.541038</td>\n",
              "      <td>-0.227691</td>\n",
              "      <td>-0.105790</td>\n",
              "      <td>-0.178515</td>\n",
              "      <td>-0.035823</td>\n",
              "      <td>0.034606</td>\n",
              "      <td>-0.071461</td>\n",
              "    </tr>\n",
              "    <tr>\n",
              "      <th>wheel-base</th>\n",
              "      <td>-0.531954</td>\n",
              "      <td>1.000000</td>\n",
              "      <td>0.874587</td>\n",
              "      <td>0.795144</td>\n",
              "      <td>0.589435</td>\n",
              "      <td>0.776386</td>\n",
              "      <td>0.569329</td>\n",
              "      <td>0.249786</td>\n",
              "      <td>-0.470414</td>\n",
              "      <td>-0.544082</td>\n",
              "      <td>0.578804</td>\n",
              "    </tr>\n",
              "    <tr>\n",
              "      <th>length</th>\n",
              "      <td>-0.357612</td>\n",
              "      <td>0.874587</td>\n",
              "      <td>1.000000</td>\n",
              "      <td>0.841118</td>\n",
              "      <td>0.491029</td>\n",
              "      <td>0.877728</td>\n",
              "      <td>0.683360</td>\n",
              "      <td>0.158414</td>\n",
              "      <td>-0.670909</td>\n",
              "      <td>-0.704662</td>\n",
              "      <td>0.685019</td>\n",
              "    </tr>\n",
              "    <tr>\n",
              "      <th>width</th>\n",
              "      <td>-0.232919</td>\n",
              "      <td>0.795144</td>\n",
              "      <td>0.841118</td>\n",
              "      <td>1.000000</td>\n",
              "      <td>0.279210</td>\n",
              "      <td>0.867032</td>\n",
              "      <td>0.735433</td>\n",
              "      <td>0.181129</td>\n",
              "      <td>-0.642704</td>\n",
              "      <td>-0.677218</td>\n",
              "      <td>0.695654</td>\n",
              "    </tr>\n",
              "    <tr>\n",
              "      <th>height</th>\n",
              "      <td>-0.541038</td>\n",
              "      <td>0.589435</td>\n",
              "      <td>0.491029</td>\n",
              "      <td>0.279210</td>\n",
              "      <td>1.000000</td>\n",
              "      <td>0.295572</td>\n",
              "      <td>0.067149</td>\n",
              "      <td>0.261214</td>\n",
              "      <td>-0.048640</td>\n",
              "      <td>-0.107358</td>\n",
              "      <td>0.158436</td>\n",
              "    </tr>\n",
              "    <tr>\n",
              "      <th>curb-weight</th>\n",
              "      <td>-0.227691</td>\n",
              "      <td>0.776386</td>\n",
              "      <td>0.877728</td>\n",
              "      <td>0.867032</td>\n",
              "      <td>0.295572</td>\n",
              "      <td>1.000000</td>\n",
              "      <td>0.850594</td>\n",
              "      <td>0.151362</td>\n",
              "      <td>-0.757414</td>\n",
              "      <td>-0.797465</td>\n",
              "      <td>0.799773</td>\n",
              "    </tr>\n",
              "    <tr>\n",
              "      <th>engine-size</th>\n",
              "      <td>-0.105790</td>\n",
              "      <td>0.569329</td>\n",
              "      <td>0.683360</td>\n",
              "      <td>0.735433</td>\n",
              "      <td>0.067149</td>\n",
              "      <td>0.850594</td>\n",
              "      <td>1.000000</td>\n",
              "      <td>0.028971</td>\n",
              "      <td>-0.653658</td>\n",
              "      <td>-0.677470</td>\n",
              "      <td>0.838097</td>\n",
              "    </tr>\n",
              "    <tr>\n",
              "      <th>compression-ratio</th>\n",
              "      <td>-0.178515</td>\n",
              "      <td>0.249786</td>\n",
              "      <td>0.158414</td>\n",
              "      <td>0.181129</td>\n",
              "      <td>0.261214</td>\n",
              "      <td>0.151362</td>\n",
              "      <td>0.028971</td>\n",
              "      <td>1.000000</td>\n",
              "      <td>0.324701</td>\n",
              "      <td>0.265201</td>\n",
              "      <td>0.077959</td>\n",
              "    </tr>\n",
              "    <tr>\n",
              "      <th>city-mpg</th>\n",
              "      <td>-0.035823</td>\n",
              "      <td>-0.470414</td>\n",
              "      <td>-0.670909</td>\n",
              "      <td>-0.642704</td>\n",
              "      <td>-0.048640</td>\n",
              "      <td>-0.757414</td>\n",
              "      <td>-0.653658</td>\n",
              "      <td>0.324701</td>\n",
              "      <td>1.000000</td>\n",
              "      <td>0.971337</td>\n",
              "      <td>-0.660026</td>\n",
              "    </tr>\n",
              "    <tr>\n",
              "      <th>highway-mpg</th>\n",
              "      <td>0.034606</td>\n",
              "      <td>-0.544082</td>\n",
              "      <td>-0.704662</td>\n",
              "      <td>-0.677218</td>\n",
              "      <td>-0.107358</td>\n",
              "      <td>-0.797465</td>\n",
              "      <td>-0.677470</td>\n",
              "      <td>0.265201</td>\n",
              "      <td>0.971337</td>\n",
              "      <td>1.000000</td>\n",
              "      <td>-0.687675</td>\n",
              "    </tr>\n",
              "    <tr>\n",
              "      <th>price</th>\n",
              "      <td>-0.071461</td>\n",
              "      <td>0.578804</td>\n",
              "      <td>0.685019</td>\n",
              "      <td>0.695654</td>\n",
              "      <td>0.158436</td>\n",
              "      <td>0.799773</td>\n",
              "      <td>0.838097</td>\n",
              "      <td>0.077959</td>\n",
              "      <td>-0.660026</td>\n",
              "      <td>-0.687675</td>\n",
              "      <td>1.000000</td>\n",
              "    </tr>\n",
              "  </tbody>\n",
              "</table>\n",
              "</div>"
            ],
            "text/plain": [
              "                   symboling  wheel-base  ...  highway-mpg     price\n",
              "symboling           1.000000   -0.531954  ...     0.034606 -0.071461\n",
              "wheel-base         -0.531954    1.000000  ...    -0.544082  0.578804\n",
              "length             -0.357612    0.874587  ...    -0.704662  0.685019\n",
              "width              -0.232919    0.795144  ...    -0.677218  0.695654\n",
              "height             -0.541038    0.589435  ...    -0.107358  0.158436\n",
              "curb-weight        -0.227691    0.776386  ...    -0.797465  0.799773\n",
              "engine-size        -0.105790    0.569329  ...    -0.677470  0.838097\n",
              "compression-ratio  -0.178515    0.249786  ...     0.265201  0.077959\n",
              "city-mpg           -0.035823   -0.470414  ...     0.971337 -0.660026\n",
              "highway-mpg         0.034606   -0.544082  ...     1.000000 -0.687675\n",
              "price              -0.071461    0.578804  ...    -0.687675  1.000000\n",
              "\n",
              "[11 rows x 11 columns]"
            ]
          },
          "metadata": {
            "tags": []
          },
          "execution_count": 34
        }
      ]
    },
    {
      "cell_type": "markdown",
      "metadata": {
        "id": "ZaagqSQBp9Ws"
      },
      "source": [
        "### 6.6.2 Analysis of Variance (ANOVA)\r\n",
        "* Why we perfrom ANOVA?\r\n",
        "  * Finding the corralation between different groups of a categorical variable.\r\n",
        "  * Statistical comparison of groups\r\n",
        "\r\n",
        "* What we obtain from ANOVA?\r\n",
        "  * F-test score: calculates the ratio\r\n",
        "of variation between groups mean,\r\n",
        "over the variation within each of the sample groups.\r\n",
        "  * p-value: shows whether\r\n",
        "the obtained result is statistically significant.\r\n",
        "\r\n",
        "\r\n",
        "---\r\n",
        "* Since the F-score is **small**, the correlation between price as\r\n",
        "the target variable and the groupings is **weak**.\r\n",
        "\r\n",
        "* Since the F-score is **large**,\r\n",
        "thus the correlation is **strong** in this case.\r\n",
        "---\r\n",
        "\r\n",
        "* **Example:** Avarage price of different vehicle makes.we can use ANOVA to see if there is any difference in\r\n",
        "mean price for the different car\r\n",
        "makes such a Subaru and Honda.\r\n"
      ]
    },
    {
      "cell_type": "code",
      "metadata": {
        "colab": {
          "base_uri": "https://localhost:8080/"
        },
        "id": "zTbuhJHJotS8",
        "outputId": "f2b05ebc-f972-4304-e006-ad78049c25da"
      },
      "source": [
        "'ANOVA between \"HONDA\" and \"SUBARU\"'\r\n",
        "df_anova=df[['make','price']]\r\n",
        "grouped_anova=df_anova.groupby(['make'])\r\n",
        "# Use Scipy\r\n",
        "\r\n",
        "anova_results_1=stats.f_oneway(grouped_anova.get_group('honda')['price'],grouped_anova.get_group('subaru')['price'])\r\n",
        "print(anova_results_1)\r\n",
        "print('The prices between Hondas and Subarus are not significantly differentas the F-test score is less than 1 and p-value is larger than 0.05.')"
      ],
      "execution_count": 35,
      "outputs": [
        {
          "output_type": "stream",
          "text": [
            "F_onewayResult(statistic=0.19744030127462606, pvalue=0.6609478240622193)\n",
            "The prices between Hondas and Subarus are not significantly differentas the F-test score is less than 1 and p-value is larger than 0.05.\n"
          ],
          "name": "stdout"
        }
      ]
    },
    {
      "cell_type": "code",
      "metadata": {
        "colab": {
          "base_uri": "https://localhost:8080/"
        },
        "id": "V1XVjhRR0NFQ",
        "outputId": "8db62fe0-9f7b-4163-b9f0-f600c4c79ad5"
      },
      "source": [
        "'ANOVA between \"HONDA\" and \"JAGUAR\"'\r\n",
        "anova_results_1=stats.f_oneway(grouped_anova.get_group('honda')['price'],grouped_anova.get_group('jaguar')['price'])\r\n",
        "print(anova_results_1)\r\n",
        "print('The prices between Hondas and Jaguars are significantly different since the F-score is very large. F equals 401 and the p-value is less than 0.05.')"
      ],
      "execution_count": 36,
      "outputs": [
        {
          "output_type": "stream",
          "text": [
            "F_onewayResult(statistic=400.925870564337, pvalue=1.0586193512077862e-11)\n",
            "The prices between Hondas and Jaguars are significantly different since the F-score is very large. F equals 401 and the p-value is less than 0.05.\n"
          ],
          "name": "stdout"
        }
      ]
    },
    {
      "cell_type": "markdown",
      "metadata": {
        "id": "LtYmQxh02N8j"
      },
      "source": [
        "**IMPORTANT**: All in all, we can say that there's\r\n",
        "a **strong correlation** between a categorical variable and\r\n",
        "other variables if the ANOVA test gives us\r\n",
        "a **large F-test** value and a **small p-value**."
      ]
    },
    {
      "cell_type": "markdown",
      "metadata": {
        "id": "eONMSJUsYQ2O"
      },
      "source": [
        "# 7. Model Development"
      ]
    },
    {
      "cell_type": "markdown",
      "metadata": {
        "id": "yVsOG7wYYh8T"
      },
      "source": [
        "* A model or estimator can be thought of as a mathematical equation used to predict the value given one or more other values.\r\n",
        "* Relating one or more independent variables or features to dependent variables.\r\n",
        "\r\n",
        "**Example:** you input a car model's\r\n",
        "highway miles per gallon _(mpg)_ as the independent variable or feature,\r\n",
        "the output of the model or dependent variable is the price.\r\n",
        "\r\n",
        "mpg  is feature or independent variable $\\rightarrow$ price is target oder dependent varuable"
      ]
    },
    {
      "cell_type": "markdown",
      "metadata": {
        "id": "JaRSrwXQa18A"
      },
      "source": [
        "## 7.1 Linear Regression and Multiple Linear Regression\r\n",
        "\r\n",
        "\r\n",
        "---\r\n",
        "* Linear regression will refer to one independent variable to make a prediction.\r\n",
        "\r\n",
        "* Multiple linear regression will refer to\r\n",
        "multiple independent variables to make a prediction.\r\n",
        "---\r\n",
        "\r\n",
        "Simple linear regression or SLR is\r\n",
        "a method to help us understand the relationship between two variables.\r\n",
        "* The **predictor** independent variable **x** \r\n",
        "* The **target** dependent variable **y**\r\n",
        "  * X: Predictor variable\r\n",
        "  * Y: Target variable\r\n",
        "\r\n"
      ]
    },
    {
      "cell_type": "markdown",
      "metadata": {
        "id": "5FbydqpxioyA"
      },
      "source": [
        "### 7.1.1 Linear regression"
      ]
    },
    {
      "cell_type": "code",
      "metadata": {
        "colab": {
          "base_uri": "https://localhost:8080/"
        },
        "id": "WkLEGgtsYC2R",
        "outputId": "bbd62c6a-707a-443f-9068-c638d493fc3d"
      },
      "source": [
        "# Model-1\r\n",
        "\r\n",
        "'Import Scikit-Learn Package'\r\n",
        "\r\n",
        "from sklearn.linear_model import LinearRegression\r\n",
        "LinReg=LinearRegression()\r\n",
        "\r\n",
        "'Define the predictor and target variable'\r\n",
        "X=df[['highway-mpg']]\r\n",
        "Y=df['price']\r\n",
        "\r\n",
        "'Fit the Model'\r\n",
        "LinReg.fit(X,Y)\r\n",
        "\r\n",
        "Yhat1=LinReg.predict(X)\r\n",
        "\r\n",
        "print('')\r\n",
        "print('Interceprt= ',LinReg.intercept_)\r\n",
        "print('')\r\n",
        "print('Slope= ',LinReg.coef_)\r\n",
        "print('')\r\n",
        "print('The rilationship between Prive and Highway-MPG is given by: \\n','price=',LinReg.intercept_,'-',LinReg.coef_,'*','highway-mpg')"
      ],
      "execution_count": 37,
      "outputs": [
        {
          "output_type": "stream",
          "text": [
            "\n",
            "Interceprt=  37758.50562969372\n",
            "\n",
            "Slope=  [-806.76723574]\n",
            "\n",
            "The rilationship between Prive and Highway-MPG is given by: \n",
            " price= 37758.50562969372 - [-806.76723574] * highway-mpg\n"
          ],
          "name": "stdout"
        }
      ]
    },
    {
      "cell_type": "markdown",
      "metadata": {
        "id": "_9TWk1ixizDW"
      },
      "source": [
        "### 7.2.2 Multiple linear regression"
      ]
    },
    {
      "cell_type": "code",
      "metadata": {
        "colab": {
          "base_uri": "https://localhost:8080/"
        },
        "id": "Mgncyv--hPVK",
        "outputId": "ffe2087f-445a-4cbf-e61d-baa698ab9032"
      },
      "source": [
        "#Model-2\r\n",
        "\r\n",
        "Z=df[['horsepower','curb-weight','engine-size','highway-mpg']]\r\n",
        "LinReg.fit(Z,Y)\r\n",
        "Yhat2=LinReg.predict(Z)\r\n",
        "print('')\r\n",
        "print('Interceprt= ',LinReg.intercept_)\r\n",
        "print('')\r\n",
        "print('Slope= ',LinReg.coef_)\r\n",
        "print('')"
      ],
      "execution_count": 38,
      "outputs": [
        {
          "output_type": "stream",
          "text": [
            "\n",
            "Interceprt=  -3558.1248837676358\n",
            "\n",
            "Slope=  [  -4.52518033    3.11063687  113.42306658 -174.59226569]\n",
            "\n"
          ],
          "name": "stdout"
        }
      ]
    },
    {
      "cell_type": "code",
      "metadata": {
        "colab": {
          "base_uri": "https://localhost:8080/"
        },
        "id": "DhLD0yPUkLrz",
        "outputId": "ba91630a-2d48-4ea8-b1cb-a16607d68fdc"
      },
      "source": [
        "df.columns"
      ],
      "execution_count": 39,
      "outputs": [
        {
          "output_type": "execute_result",
          "data": {
            "text/plain": [
              "Index(['symboling', 'normalized-losses', 'make', 'fuel-type', 'aspiration',\n",
              "       'num-of-doors', 'body-style', 'drive-wheels', 'engine-location',\n",
              "       'wheel-base', 'length', 'width', 'height', 'curb-weight', 'engine-type',\n",
              "       'num-of-cylinders', 'engine-size', 'fuel-system', 'bore', 'stroke',\n",
              "       'compression-ratio', 'horsepower', 'peak-rpm', 'city-mpg',\n",
              "       'highway-mpg', 'price', 'price-binned'],\n",
              "      dtype='object')"
            ]
          },
          "metadata": {
            "tags": []
          },
          "execution_count": 39
        }
      ]
    },
    {
      "cell_type": "markdown",
      "metadata": {
        "id": "_jp6M6DInBXZ"
      },
      "source": [
        "## 7.3 Model Evaluation using Visualisation\r\n",
        "Regression plots are a good estimate of:\r\n",
        "  *  The relationship between two variables\r\n",
        "  *  The strength of the correlation\r\n",
        "  *  The direction of the relationship (positive or negative).\r\n",
        "\r\n",
        "\r\n",
        "---\r\n",
        "\r\n",
        "\r\n",
        "* The horizontal axis is the independent variable.\r\n",
        "* The vertical axis is the dependent variable."
      ]
    },
    {
      "cell_type": "code",
      "metadata": {
        "colab": {
          "base_uri": "https://localhost:8080/",
          "height": 296
        },
        "id": "POJdBxN5kNfp",
        "outputId": "9c9c573d-e4d1-48ba-d5c8-ce693aa5f99b"
      },
      "source": [
        "sns.regplot(x='highway-mpg',y='price',data=df)\r\n",
        "plt.ylim(0,)"
      ],
      "execution_count": 40,
      "outputs": [
        {
          "output_type": "execute_result",
          "data": {
            "text/plain": [
              "(0.0, 48149.6840896341)"
            ]
          },
          "metadata": {
            "tags": []
          },
          "execution_count": 40
        },
        {
          "output_type": "display_data",
          "data": {
            "image/png": "[encoded data removed]",
            "text/plain": [
              "<Figure size 432x288 with 1 Axes>"
            ]
          },
          "metadata": {
            "tags": [],
            "needs_background": "light"
          }
        }
      ]
    },
    {
      "cell_type": "markdown",
      "metadata": {
        "id": "Uv9NwewsoYgF"
      },
      "source": [
        "### 7.3.1 **The Residual Plot**\r\n",
        "\r\n",
        "The residual plot represents the error between the actual value.\r\n",
        "Examining the predicted value and actual value we see a difference.\r\n",
        "We obtain that value by subtracting the predicted value,\r\n",
        "and the actual target value.\r\n",
        "We then plot that value on\r\n",
        "the vertical axis with the independent variable as the horizontal axis."
      ]
    },
    {
      "cell_type": "code",
      "metadata": {
        "colab": {
          "base_uri": "https://localhost:8080/",
          "height": 350
        },
        "id": "KES3APE2oPOm",
        "outputId": "930039c4-4183-4867-dfa7-f1126ac85744"
      },
      "source": [
        "sns.residplot(x='highway-mpg',y='price', lowess=True, color=\"g\",data=df)"
      ],
      "execution_count": 41,
      "outputs": [
        {
          "output_type": "stream",
          "text": [
            "/usr/local/lib/python3.6/dist-packages/statsmodels/tools/_testing.py:19: FutureWarning: pandas.util.testing is deprecated. Use the functions in the public API at pandas.testing instead.\n",
            "  import pandas.util.testing as tm\n"
          ],
          "name": "stderr"
        },
        {
          "output_type": "execute_result",
          "data": {
            "text/plain": [
              "<matplotlib.axes._subplots.AxesSubplot at 0x7f27262874e0>"
            ]
          },
          "metadata": {
            "tags": []
          },
          "execution_count": 41
        },
        {
          "output_type": "display_data",
          "data": {
            "image/png": "[encoded data removed]",
            "text/plain": [
              "<Figure size 432x288 with 1 Axes>"
            ]
          },
          "metadata": {
            "tags": [],
            "needs_background": "light"
          }
        }
      ]
    },
    {
      "cell_type": "markdown",
      "metadata": {
        "id": "KiaY7u_9u_v-"
      },
      "source": [
        "### 7.3.2 **Distribution Plot**\r\n",
        "A distribution plot counts the predicted value versus the actual value.\r\n",
        "These plots are extremely useful for visualizing models with more than one independent variable or feature."
      ]
    },
    {
      "cell_type": "code",
      "metadata": {
        "colab": {
          "base_uri": "https://localhost:8080/",
          "height": 395
        },
        "id": "sv0bBZu0r74h",
        "outputId": "89f793a4-8707-422c-da49-5ec8eeb8b693"
      },
      "source": [
        "ax1=sns.distplot(df['price'],hist=False,color='r',label='Catual Value')\r\n",
        "sns.distplot(Yhat2,hist=False,color='g',label='Fitted value', ax=ax1)"
      ],
      "execution_count": 42,
      "outputs": [
        {
          "output_type": "stream",
          "text": [
            "/usr/local/lib/python3.6/dist-packages/seaborn/distributions.py:2551: FutureWarning: `distplot` is a deprecated function and will be removed in a future version. Please adapt your code to use either `displot` (a figure-level function with similar flexibility) or `kdeplot` (an axes-level function for kernel density plots).\n",
            "  warnings.warn(msg, FutureWarning)\n",
            "/usr/local/lib/python3.6/dist-packages/seaborn/distributions.py:2551: FutureWarning: `distplot` is a deprecated function and will be removed in a future version. Please adapt your code to use either `displot` (a figure-level function with similar flexibility) or `kdeplot` (an axes-level function for kernel density plots).\n",
            "  warnings.warn(msg, FutureWarning)\n"
          ],
          "name": "stderr"
        },
        {
          "output_type": "execute_result",
          "data": {
            "text/plain": [
              "<matplotlib.axes._subplots.AxesSubplot at 0x7f272622cdd8>"
            ]
          },
          "metadata": {
            "tags": []
          },
          "execution_count": 42
        },
        {
          "output_type": "display_data",
          "data": {
            "image/png": "[encoded data removed]",
            "text/plain": [
              "<Figure size 432x288 with 1 Axes>"
            ]
          },
          "metadata": {
            "tags": [],
            "needs_background": "light"
          }
        }
      ]
    },
    {
      "cell_type": "markdown",
      "metadata": {
        "id": "J9wHBBGXOca7"
      },
      "source": [
        "## 7.4 Polynomial Regression and Pipelines\r\n",
        "\r\n",
        "* Pipelines are a way to simplify your code.\r\n",
        "\r\n",
        "* Polynomial regression is a special case of the general linear regression.\r\n",
        "This method is beneficial for describing curvilinear relationships.\r\n",
        "\r\n",
        "**What is a curvilinear relationship?**\r\n",
        "\r\n",
        "It's what you get by **squaring** or **setting higher order terms of\r\n",
        "the predictor variables** in the model transforming the data.\r\n",
        "The model can be quadratic, which means that the predictor variable in the model is squared.\r\n",
        "\r\n",
        "**NOTE**: In all cases, the relationship between the variable and the parameter is always linear.\r\n",
        "\r\n",
        "We use `preprocessing` library in Scikit-Learn."
      ]
    },
    {
      "cell_type": "code",
      "metadata": {
        "id": "8pcvoAI9uUfS"
      },
      "source": [
        "from sklearn.preprocessing import PolynomialFeatures\r\n",
        "PlyReg=PolynomialFeatures(degree=2, include_bias=False)"
      ],
      "execution_count": 43,
      "outputs": []
    },
    {
      "cell_type": "markdown",
      "metadata": {
        "id": "RELH7F2OQQDN"
      },
      "source": [
        "Then we transform the features into a polynomial feature with the `fit _transform` method."
      ]
    },
    {
      "cell_type": "code",
      "metadata": {
        "id": "vpqEnGyHQEiO"
      },
      "source": [
        "#x_polly= PlyReg.fit_transform(X[['horsepower','curb-weight']])"
      ],
      "execution_count": 44,
      "outputs": []
    },
    {
      "cell_type": "markdown",
      "metadata": {
        "id": "m1U-ielyRQDQ"
      },
      "source": [
        "## 7.5 **PIPELINE**\r\n",
        "There are many steps to getting a prediction.\r\n",
        "\r\n",
        "**Example:** 1.normalization $\\rightarrow$ 2.polynomial transform  $\\rightarrow$ 3.linear regression.\r\n",
        "\r\n",
        "**We simplify the process using a pipeline.**\r\n",
        "Pipeline sequentially perform a series of transformations.\r\n",
        "The last step carries out a prediction."
      ]
    },
    {
      "cell_type": "markdown",
      "metadata": {
        "id": "D1c2mT3kT7Sl"
      },
      "source": [
        "**Steps**\r\n",
        "\r\n",
        "1- We import all the modules we need"
      ]
    },
    {
      "cell_type": "code",
      "metadata": {
        "id": "QnE36s93Qm9a"
      },
      "source": [
        "'First we import all the modules we need'\r\n",
        "\r\n",
        "from sklearn.preprocessing import PolynomialFeatures\r\n",
        "from sklearn.linear_model import LinearRegression\r\n",
        "from sklearn.preprocessing import StandardScaler"
      ],
      "execution_count": 45,
      "outputs": []
    },
    {
      "cell_type": "markdown",
      "metadata": {
        "id": "3GDDd52OUEFu"
      },
      "source": [
        "2- Import pipeline from Scikit-Learn"
      ]
    },
    {
      "cell_type": "code",
      "metadata": {
        "id": "qxPYmJzjUKYo"
      },
      "source": [
        "from sklearn.pipeline import Pipeline"
      ],
      "execution_count": 46,
      "outputs": []
    },
    {
      "cell_type": "markdown",
      "metadata": {
        "id": "MV0gNDybTxcx"
      },
      "source": [
        "3- The first element in the tuple contains the name of the estimator model.\r\n",
        "The second element contains model constructor."
      ]
    },
    {
      "cell_type": "code",
      "metadata": {
        "id": "VNR1W0hMSId4"
      },
      "source": [
        "Input=[('Scale',StandardScaler()),('Polynomial',PolynomialFeatures(degree=2)),('Mode',LinearRegression())]"
      ],
      "execution_count": 47,
      "outputs": []
    },
    {
      "cell_type": "markdown",
      "metadata": {
        "id": "XS5e8p-XT5N2"
      },
      "source": [
        "4- We input the list in the **pipeline constructor**"
      ]
    },
    {
      "cell_type": "code",
      "metadata": {
        "id": "cH8qdevKTogU"
      },
      "source": [
        "pipe=Pipeline(Input)"
      ],
      "execution_count": 48,
      "outputs": []
    },
    {
      "cell_type": "markdown",
      "metadata": {
        "id": "S0WqVqaHU1Lm"
      },
      "source": [
        "5- Train the pipeline"
      ]
    },
    {
      "cell_type": "code",
      "metadata": {
        "id": "aUQ1eufOUiBr"
      },
      "source": [
        "pipe.fit(df[['horsepower','curb-weight','engine-size','highway-mpg']],Y)\r\n",
        "Yhat3=pipe.predict(df[['horsepower','curb-weight','engine-size','highway-mpg']])"
      ],
      "execution_count": 49,
      "outputs": []
    },
    {
      "cell_type": "code",
      "metadata": {
        "colab": {
          "base_uri": "https://localhost:8080/",
          "height": 395
        },
        "id": "m2_hR6M5VSGD",
        "outputId": "ab228f96-46c1-408f-b082-1d67cfc808db"
      },
      "source": [
        "ax1=sns.distplot(df['price'],hist=False,color='r',label='Catual Value')\r\n",
        "sns.distplot(Yhat3,hist=False,color='g',label='Fitted value', ax=ax1)"
      ],
      "execution_count": 50,
      "outputs": [
        {
          "output_type": "stream",
          "text": [
            "/usr/local/lib/python3.6/dist-packages/seaborn/distributions.py:2551: FutureWarning: `distplot` is a deprecated function and will be removed in a future version. Please adapt your code to use either `displot` (a figure-level function with similar flexibility) or `kdeplot` (an axes-level function for kernel density plots).\n",
            "  warnings.warn(msg, FutureWarning)\n",
            "/usr/local/lib/python3.6/dist-packages/seaborn/distributions.py:2551: FutureWarning: `distplot` is a deprecated function and will be removed in a future version. Please adapt your code to use either `displot` (a figure-level function with similar flexibility) or `kdeplot` (an axes-level function for kernel density plots).\n",
            "  warnings.warn(msg, FutureWarning)\n"
          ],
          "name": "stderr"
        },
        {
          "output_type": "execute_result",
          "data": {
            "text/plain": [
              "<matplotlib.axes._subplots.AxesSubplot at 0x7f2725f2d550>"
            ]
          },
          "metadata": {
            "tags": []
          },
          "execution_count": 50
        },
        {
          "output_type": "display_data",
          "data": {
            "image/png": "[encoded data removed]",
            "text/plain": [
              "<Figure size 432x288 with 1 Axes>"
            ]
          },
          "metadata": {
            "tags": [],
            "needs_background": "light"
          }
        }
      ]
    },
    {
      "cell_type": "markdown",
      "metadata": {
        "id": "I8T1CiHJZNOv"
      },
      "source": [
        "# 7.6 Measures for In-Sample Evaluation (Numerical Evaluation of Model)\r\n",
        "\r\n",
        "* A way to numerically determine how good the model fits on dataset.\r\n",
        "* Two important measures to detrmine the fit of model:\r\n",
        "  * **Mean Squared Error (MSE)**\r\n",
        "  * **R^2**\r\n",
        "\r\n"
      ]
    },
    {
      "cell_type": "markdown",
      "metadata": {
        "id": "SKYBzagnbDwL"
      },
      "source": [
        "**MSE**\r\n",
        "\r\n",
        "We use `sklearn.mertics import mean_squared_error` from Scikit-Learn libraries"
      ]
    },
    {
      "cell_type": "code",
      "metadata": {
        "colab": {
          "base_uri": "https://localhost:8080/"
        },
        "id": "CUhAvp2lWhuR",
        "outputId": "c3742516-e0c5-4d7e-e233-4024041150fe"
      },
      "source": [
        "from sklearn.metrics import mean_squared_error\r\n",
        "mean_squared_error(df['price'],Yhat3)"
      ],
      "execution_count": 51,
      "outputs": [
        {
          "output_type": "execute_result",
          "data": {
            "text/plain": [
              "11899579.688985594"
            ]
          },
          "metadata": {
            "tags": []
          },
          "execution_count": 51
        }
      ]
    },
    {
      "cell_type": "markdown",
      "metadata": {
        "id": "55Huhz7Ddp7m"
      },
      "source": [
        "**R^2**\r\n",
        "\r\n",
        "* The Coefficient of Determination or R^2\r\n",
        "* Is a measure to determine how close the data is to the fitted regression line.\r\n",
        "* R^2: The precentage of variation of the target variable (Y) that is explained by the linear model.\r\n",
        "* Think about as comparing a regression model to a simple model i.e. the mean of the data points\r\n",
        "\r\n",
        "_ If the variable x is a good predictor our model should perform much better than [with] just the mean_\r\n",
        "\r\n",
        "---\r\n",
        "$R^2=(1-\\frac{MSE  of  regression line}{MSE of the average of the data points})$\r\n",
        "\r\n",
        "**NOTE:**Your R^2 value is usually between 0 and 1. _If your R^2 is negative, it can be due to over fitting_\r\n"
      ]
    },
    {
      "cell_type": "code",
      "metadata": {
        "colab": {
          "base_uri": "https://localhost:8080/"
        },
        "id": "-2fQNGOyandQ",
        "outputId": "710962e0-8724-4ad1-82fb-992404ddb4b6"
      },
      "source": [
        "LinReg.score(df[['horsepower','curb-weight','engine-size','highway-mpg']],Yhat3)"
      ],
      "execution_count": 52,
      "outputs": [
        {
          "output_type": "execute_result",
          "data": {
            "text/plain": [
              "0.9021099355293363"
            ]
          },
          "metadata": {
            "tags": []
          },
          "execution_count": 52
        }
      ]
    },
    {
      "cell_type": "markdown",
      "metadata": {
        "id": "Sn3EKEjyhFPI"
      },
      "source": [
        "# **7.7 Prediction and Decision Making**\r\n",
        " To determine final best fit, we look at a combination of:\r\n",
        " * Do the prediction values make sense \r\n",
        " * Visualisation\r\n",
        " * Numerical measures for evaluation\r\n",
        " * Comparing between different Models"
      ]
    },
    {
      "cell_type": "code",
      "metadata": {
        "id": "HBScitwQf8Ue"
      },
      "source": [
        "\r\n",
        "#LinReg.predict(np.array(30.0).reshape(-1,1)) "
      ],
      "execution_count": 53,
      "outputs": []
    },
    {
      "cell_type": "markdown",
      "metadata": {
        "id": "11AMz1tln4Wk"
      },
      "source": [
        "### 7.7.1 Do the predicted values make sense\r\n",
        "To generate a sequence of values in a specified range,\r\n",
        "import numpy, then use the numpy arrange function to generate the sequence.\r\n",
        "\r\n",
        "The sequence starts at one and increments by one till we reach 100.\r\n",
        "\r\n",
        "The first parameter is the starting point of the sequence.\r\n",
        "\r\n",
        "The second parameter is the endpoint plus one of the sequence.\r\n",
        "\r\n",
        "The final parameter is the step size between elements in the sequence."
      ]
    },
    {
      "cell_type": "code",
      "metadata": {
        "colab": {
          "base_uri": "https://localhost:8080/",
          "height": 323
        },
        "id": "CtupB-G_nbvp",
        "outputId": "0074afbe-c8aa-423c-b3db-bc8f640f65ba"
      },
      "source": [
        "new_input=np.arange(0,101,1).reshape(-1,1)\r\n",
        "LinReg.predict(new_input)"
      ],
      "execution_count": 54,
      "outputs": [
        {
          "output_type": "error",
          "ename": "ValueError",
          "evalue": "ignored",
          "traceback": [
            "\u001b[0;31m---------------------------------------------------------------------------\u001b[0m",
            "\u001b[0;31mValueError\u001b[0m                                Traceback (most recent call last)",
            "\u001b[0;32m<ipython-input-54-8f46880338cd>\u001b[0m in \u001b[0;36m<module>\u001b[0;34m()\u001b[0m\n\u001b[1;32m      1\u001b[0m \u001b[0mnew_input\u001b[0m\u001b[0;34m=\u001b[0m\u001b[0mnp\u001b[0m\u001b[0;34m.\u001b[0m\u001b[0marange\u001b[0m\u001b[0;34m(\u001b[0m\u001b[0;36m0\u001b[0m\u001b[0;34m,\u001b[0m\u001b[0;36m101\u001b[0m\u001b[0;34m,\u001b[0m\u001b[0;36m1\u001b[0m\u001b[0;34m)\u001b[0m\u001b[0;34m.\u001b[0m\u001b[0mreshape\u001b[0m\u001b[0;34m(\u001b[0m\u001b[0;34m-\u001b[0m\u001b[0;36m1\u001b[0m\u001b[0;34m,\u001b[0m\u001b[0;36m1\u001b[0m\u001b[0;34m)\u001b[0m\u001b[0;34m\u001b[0m\u001b[0;34m\u001b[0m\u001b[0m\n\u001b[0;32m----> 2\u001b[0;31m \u001b[0mLinReg\u001b[0m\u001b[0;34m.\u001b[0m\u001b[0mpredict\u001b[0m\u001b[0;34m(\u001b[0m\u001b[0mnew_input\u001b[0m\u001b[0;34m)\u001b[0m\u001b[0;34m\u001b[0m\u001b[0;34m\u001b[0m\u001b[0m\n\u001b[0m",
            "\u001b[0;32m/usr/local/lib/python3.6/dist-packages/sklearn/linear_model/_base.py\u001b[0m in \u001b[0;36mpredict\u001b[0;34m(self, X)\u001b[0m\n\u001b[1;32m    223\u001b[0m             \u001b[0mReturns\u001b[0m \u001b[0mpredicted\u001b[0m \u001b[0mvalues\u001b[0m\u001b[0;34m.\u001b[0m\u001b[0;34m\u001b[0m\u001b[0;34m\u001b[0m\u001b[0m\n\u001b[1;32m    224\u001b[0m         \"\"\"\n\u001b[0;32m--> 225\u001b[0;31m         \u001b[0;32mreturn\u001b[0m \u001b[0mself\u001b[0m\u001b[0;34m.\u001b[0m\u001b[0m_decision_function\u001b[0m\u001b[0;34m(\u001b[0m\u001b[0mX\u001b[0m\u001b[0;34m)\u001b[0m\u001b[0;34m\u001b[0m\u001b[0;34m\u001b[0m\u001b[0m\n\u001b[0m\u001b[1;32m    226\u001b[0m \u001b[0;34m\u001b[0m\u001b[0m\n\u001b[1;32m    227\u001b[0m     \u001b[0m_preprocess_data\u001b[0m \u001b[0;34m=\u001b[0m \u001b[0mstaticmethod\u001b[0m\u001b[0;34m(\u001b[0m\u001b[0m_preprocess_data\u001b[0m\u001b[0;34m)\u001b[0m\u001b[0;34m\u001b[0m\u001b[0;34m\u001b[0m\u001b[0m\n",
            "\u001b[0;32m/usr/local/lib/python3.6/dist-packages/sklearn/linear_model/_base.py\u001b[0m in \u001b[0;36m_decision_function\u001b[0;34m(self, X)\u001b[0m\n\u001b[1;32m    207\u001b[0m         \u001b[0mX\u001b[0m \u001b[0;34m=\u001b[0m \u001b[0mcheck_array\u001b[0m\u001b[0;34m(\u001b[0m\u001b[0mX\u001b[0m\u001b[0;34m,\u001b[0m \u001b[0maccept_sparse\u001b[0m\u001b[0;34m=\u001b[0m\u001b[0;34m[\u001b[0m\u001b[0;34m'csr'\u001b[0m\u001b[0;34m,\u001b[0m \u001b[0;34m'csc'\u001b[0m\u001b[0;34m,\u001b[0m \u001b[0;34m'coo'\u001b[0m\u001b[0;34m]\u001b[0m\u001b[0;34m)\u001b[0m\u001b[0;34m\u001b[0m\u001b[0;34m\u001b[0m\u001b[0m\n\u001b[1;32m    208\u001b[0m         return safe_sparse_dot(X, self.coef_.T,\n\u001b[0;32m--> 209\u001b[0;31m                                dense_output=True) + self.intercept_\n\u001b[0m\u001b[1;32m    210\u001b[0m \u001b[0;34m\u001b[0m\u001b[0m\n\u001b[1;32m    211\u001b[0m     \u001b[0;32mdef\u001b[0m \u001b[0mpredict\u001b[0m\u001b[0;34m(\u001b[0m\u001b[0mself\u001b[0m\u001b[0;34m,\u001b[0m \u001b[0mX\u001b[0m\u001b[0;34m)\u001b[0m\u001b[0;34m:\u001b[0m\u001b[0;34m\u001b[0m\u001b[0;34m\u001b[0m\u001b[0m\n",
            "\u001b[0;32m/usr/local/lib/python3.6/dist-packages/sklearn/utils/extmath.py\u001b[0m in \u001b[0;36msafe_sparse_dot\u001b[0;34m(a, b, dense_output)\u001b[0m\n\u001b[1;32m    149\u001b[0m             \u001b[0mret\u001b[0m \u001b[0;34m=\u001b[0m \u001b[0mnp\u001b[0m\u001b[0;34m.\u001b[0m\u001b[0mdot\u001b[0m\u001b[0;34m(\u001b[0m\u001b[0ma\u001b[0m\u001b[0;34m,\u001b[0m \u001b[0mb\u001b[0m\u001b[0;34m)\u001b[0m\u001b[0;34m\u001b[0m\u001b[0;34m\u001b[0m\u001b[0m\n\u001b[1;32m    150\u001b[0m     \u001b[0;32melse\u001b[0m\u001b[0;34m:\u001b[0m\u001b[0;34m\u001b[0m\u001b[0;34m\u001b[0m\u001b[0m\n\u001b[0;32m--> 151\u001b[0;31m         \u001b[0mret\u001b[0m \u001b[0;34m=\u001b[0m \u001b[0ma\u001b[0m \u001b[0;34m@\u001b[0m \u001b[0mb\u001b[0m\u001b[0;34m\u001b[0m\u001b[0;34m\u001b[0m\u001b[0m\n\u001b[0m\u001b[1;32m    152\u001b[0m \u001b[0;34m\u001b[0m\u001b[0m\n\u001b[1;32m    153\u001b[0m     if (sparse.issparse(a) and sparse.issparse(b)\n",
            "\u001b[0;31mValueError\u001b[0m: matmul: Input operand 1 has a mismatch in its core dimension 0, with gufunc signature (n?,k),(k,m?)->(n?,m?) (size 4 is different from 1)"
          ]
        }
      ]
    },
    {
      "cell_type": "code",
      "metadata": {
        "id": "lMwA6AJqr6ff"
      },
      "source": [
        "sns.regplot(df['highway-mpg'],df['price'],color='b')\r\n",
        "plt.ylim(0,)"
      ],
      "execution_count": null,
      "outputs": []
    },
    {
      "cell_type": "code",
      "metadata": {
        "id": "v6dM72a7sUef"
      },
      "source": [
        "sns.residplot(x='highway-mpg',y='price', lowess=True, color=\"b\",data=df)"
      ],
      "execution_count": null,
      "outputs": []
    },
    {
      "cell_type": "code",
      "metadata": {
        "id": "1YHgabMFsfVH"
      },
      "source": [
        "ax1=sns.distplot(df['price'],hist=False,color='r',label='Catual Value')\r\n",
        "sns.distplot(Yhat1,hist=False,color='g',label='Fitted value', ax=ax1)"
      ],
      "execution_count": null,
      "outputs": []
    },
    {
      "cell_type": "code",
      "metadata": {
        "id": "WltwOOeotHpu"
      },
      "source": [
        "LinReg1=LinearRegression()\r\n",
        "LinReg1.fit(df[['highway-mpg']],Y)\r\n",
        "LinReg1.score(df[['highway-mpg']],Yhat1)"
      ],
      "execution_count": null,
      "outputs": []
    },
    {
      "cell_type": "code",
      "metadata": {
        "id": "-BRutIkXwNWK"
      },
      "source": [
        "#Score1=LinReg.score(X,Yhat1)\r\n",
        "Score2=LinReg.score(df[['horsepower','curb-weight','engine-size','highway-mpg']],Yhat2)\r\n",
        "Score3=LinReg.score(df[['horsepower','curb-weight','engine-size','highway-mpg']],Yhat3)"
      ],
      "execution_count": null,
      "outputs": []
    },
    {
      "cell_type": "code",
      "metadata": {
        "id": "1eo6v0ICtkgN"
      },
      "source": [
        "#print('R^2 of Model-1:',Score1)\r\n",
        "print('R^2 of Model-2:',Score2)\r\n",
        "print('R^2 of Model-3:',Score3)"
      ],
      "execution_count": null,
      "outputs": []
    },
    {
      "cell_type": "markdown",
      "metadata": {
        "id": "94AVFAFDxPsa"
      },
      "source": [
        "### 7.7.2 Comparing MLR ans SLR\r\n",
        "1. Is a lower MSE always implying a better fit?\r\n",
        "  * not necessarily.\r\n",
        "2. MSE for an MLR model will be smaller than the MSE for an SLR model, since the errors of the data will decrease when more variables are includes in the model"
      ]
    },
    {
      "cell_type": "markdown",
      "metadata": {
        "id": "ReZiPJwMAR7M"
      },
      "source": [
        "# 8.  Model Evaluation\r\n"
      ]
    },
    {
      "cell_type": "markdown",
      "metadata": {
        "id": "wHp7spmRBRUq"
      },
      "source": [
        "**In-sample evaluation**\r\n",
        "\r\n",
        "* In-sample evaluation tells us how well our model fits the data already given to train it.\r\n",
        "\r\n",
        "**Problem?**\r\n",
        "* It does not give us an estimate of how well the train model can predict new data.\r\n",
        "\r\n",
        "**Solution?**\r\n",
        "* use the **in-sample data** or **training data** to train the model.\r\n",
        "The rest of the data, called **Test Data**,\r\n",
        "is used as **out-of-sample data**.\r\n",
        "\r\n",
        "We use `train_test_split` in Scikit-Learn\r\n",
        "\r\n",
        "- **x_data:** features \r\n",
        "\r\n",
        "- **y_data:** dataset taregt: df['price']\r\n",
        "\r\n",
        "- **x_train,y_train:** parts of available data as training set\r\n",
        "\r\n",
        "- **x_test,y_test:** parts of available data as testing set\r\n",
        "\r\n",
        "**Random_state:**\r\n",
        "* The random state is a random seed for random data set splitting.\r\n",
        "\r\n",
        "**Generalization Performance**\r\n",
        "* Generalization error is a measure of how well our data does at predicting previously unseen data.\r\n",
        "*The error we obtain using our testing data is an approximation of this error.\r\n",
        "\r\n",
        "**Cross Validataion**\r\n",
        "\r\n",
        "In this method, the dataset is split into K equal groups.\r\n",
        "Each group is referred to as a fold.\r\n",
        "\r\n",
        "* Most common out-of-sample evaluation metrics\r\n",
        "* More effective use of data (each observation is used for moth training and testing)\r\n",
        "\r\n",
        "We use `cross_val_score()` from Scikit-Learn `model_selection` package\r\n",
        "\r\n",
        "**cross_val_predict()**\r\n",
        "\r\n",
        "What if we want to know the actual predicted values?\r\n",
        "\r\n",
        "We use `cross_val_predict()` from Scikit-Learn \r\n",
        "\r\n",
        "It returnes the prediction that was obtained for each elemnt when it was in the test set.\r\n"
      ]
    },
    {
      "cell_type": "code",
      "metadata": {
        "id": "GEMptdGzvdDK"
      },
      "source": [
        "X=df[['horsepower','curb-weight','engine-size','highway-mpg']]\r\n",
        "y=df.price\r\n",
        "\r\n",
        "from sklearn.model_selection import train_test_split,cross_val_score,cross_val_predict\r\n",
        "from sklearn.linear_model import LinearRegression\r\n",
        "from sklearn.preprocessing import StandardScaler\r\n",
        "\r\n",
        "x_train,x_test,y_train,y_test=train_test_split(X,y,test_size=0.7,random_state=20)\r\n",
        "Scaler=StandardScaler()\r\n",
        "Scaler.fit(x_train,y_train)\r\n",
        "score=cross_val_score(LinearRegression(),x_train,y_train,cv=9)\r\n",
        "y_pre_pred=cross_val_predict(LinearRegression(),x_train,y_train,cv=9)\r\n"
      ],
      "execution_count": null,
      "outputs": []
    },
    {
      "cell_type": "code",
      "metadata": {
        "id": "T6cKXEAZOE4j"
      },
      "source": [
        "ax1=sns.distplot(y,hist=False,color='r',label='Catual Value')\r\n",
        "sns.distplot(y_pre_pred,hist=False,color='g',label='Fitted value', ax=ax1)\r\n",
        "plt.ylim(0,)"
      ],
      "execution_count": null,
      "outputs": []
    },
    {
      "cell_type": "code",
      "metadata": {
        "id": "BRvWcZb5QP4e"
      },
      "source": [
        "sns.residplot(x=df['highway-mpg'],y=df['price'], lowess=True, color=\"b\",data=df[['horsepower','curb-weight','engine-size','highway-mpg']])"
      ],
      "execution_count": null,
      "outputs": []
    },
    {
      "cell_type": "code",
      "metadata": {
        "id": "lq49DTDGQeY6"
      },
      "source": [
        "from sklearn.metrics import r2_score\r\n",
        "r2_score(y_train,y_pre_pred)"
      ],
      "execution_count": null,
      "outputs": []
    },
    {
      "cell_type": "markdown",
      "metadata": {
        "id": "Q5jlffRZWLAy"
      },
      "source": [
        "## 8.1 Ridge Regression\r\n",
        "\r\n",
        "`from sklearn.linear_model import Ridge`\r\n"
      ]
    },
    {
      "cell_type": "code",
      "metadata": {
        "id": "-FNErfzYRAXL"
      },
      "source": [
        "from sklearn.linear_model import Ridge\r\n",
        "RidgeModel=Ridge(alpha=0.28817604)\r\n",
        "RidgeModel.fit(x_train,y_train)\r\n",
        "Y_Ridge_Pred=RidgeModel.predict(x_train)\r\n",
        "r2_score(y_train,Y_Ridge_Pred)"
      ],
      "execution_count": null,
      "outputs": []
    },
    {
      "cell_type": "code",
      "metadata": {
        "id": "BSk4QCZkYK3V"
      },
      "source": [
        "ax1=sns.distplot(y,hist=False,color='r',label='Catual Value')\r\n",
        "sns.distplot(Y_Ridge_Pred,hist=False,color='g',label='Fitted value', ax=ax1)\r\n",
        "plt.ylim(0,)"
      ],
      "execution_count": null,
      "outputs": []
    },
    {
      "cell_type": "markdown",
      "metadata": {
        "id": "FztbpS68f0mk"
      },
      "source": [
        "##8.2 Grid Search\r\n",
        "\r\n",
        "Grid Search allows us to scan through multiple free parameters with few lines of code.\r\n",
        "\r\n",
        "Scikit-learn has a means of automatically\r\n",
        "iterating over these hyperparameters using cross-validation.\r\n",
        "This method is called Grid Search."
      ]
    },
    {
      "cell_type": "code",
      "metadata": {
        "id": "7f2JBvYHYhkV"
      },
      "source": [
        "from sklearn.model_selection import  GridSearchCV\r\n",
        "\r\n",
        "parameters1=[{'alpha':[0.001,0.1,1,10,100,1000,10000]}]\r\n",
        "\r\n",
        "Grid1=GridSearchCV(RidgeModel,parameters1,cv=15)\r\n",
        "\r\n",
        "Grid1.fit(x_train,y_train)\r\n",
        "\r\n",
        "Grid1.best_estimator_\r\n",
        "\r\n",
        "scores=Grid1.cv_results_\r\n",
        "scores['mean_test_score']\r\n"
      ],
      "execution_count": null,
      "outputs": []
    },
    {
      "cell_type": "code",
      "metadata": {
        "id": "Qg7aRoNmh5Qk"
      },
      "source": [
        ""
      ],
      "execution_count": null,
      "outputs": []
    }
  ]
}