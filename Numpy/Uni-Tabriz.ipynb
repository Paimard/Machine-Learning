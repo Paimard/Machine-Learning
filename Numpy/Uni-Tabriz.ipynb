{
 "cells": [
  {
   "cell_type": "code",
   "execution_count": 624,
   "metadata": {},
   "outputs": [],
   "source": [
    "import numpy as np\n",
    "import matplotlib.pyplot as plt\n",
    "%matplotlib inline\n",
    "np.set_printoptions(formatter= {'all': lambda x: '%.1f'%x})"
   ]
  },
  {
   "cell_type": "markdown",
   "metadata": {},
   "source": [
    "# <span style=\"color:green\">• Intro in Numpy</span>"
   ]
  },
  {
   "cell_type": "code",
   "execution_count": 625,
   "metadata": {},
   "outputs": [
    {
     "name": "stdout",
     "output_type": "stream",
     "text": [
      "Python 3.8.5\n"
     ]
    }
   ],
   "source": [
    "!python --version"
   ]
  },
  {
   "cell_type": "code",
   "execution_count": 626,
   "metadata": {},
   "outputs": [
    {
     "name": "stdout",
     "output_type": "stream",
     "text": [
      "1.19.2\n"
     ]
    }
   ],
   "source": [
    "print(np.__version__)"
   ]
  },
  {
   "cell_type": "code",
   "execution_count": 627,
   "metadata": {},
   "outputs": [
    {
     "data": {
      "text/plain": [
       "array([1.0, 2.0, 3.0, 3.0, 5.0, 4.0, 5.0, 4.0, 8.0, 7.0, 4.0, 5.0, 1.0,\n",
       "       5.0, 4.0, 1.0, 4.0, 5.0, 1.0, 1.0, 4.0, 5.0, 1.0, 4.0])"
      ]
     },
     "execution_count": 627,
     "metadata": {},
     "output_type": "execute_result"
    }
   ],
   "source": [
    "x=np.array([1,2,3,3,5,4,5,4,8,7,4,5,1,5,4,1,4,5,1,1,4,5,1,4])\n",
    "x"
   ]
  },
  {
   "cell_type": "code",
   "execution_count": 628,
   "metadata": {},
   "outputs": [
    {
     "data": {
      "text/plain": [
       "numpy.ndarray"
      ]
     },
     "execution_count": 628,
     "metadata": {},
     "output_type": "execute_result"
    }
   ],
   "source": [
    "type(x)"
   ]
  },
  {
   "cell_type": "code",
   "execution_count": 629,
   "metadata": {},
   "outputs": [
    {
     "data": {
      "text/plain": [
       "(24,)"
      ]
     },
     "execution_count": 629,
     "metadata": {},
     "output_type": "execute_result"
    }
   ],
   "source": [
    "x.shape"
   ]
  },
  {
   "cell_type": "markdown",
   "metadata": {},
   "source": [
    "## Reshaping of array"
   ]
  },
  {
   "cell_type": "code",
   "execution_count": 630,
   "metadata": {},
   "outputs": [
    {
     "data": {
      "text/plain": [
       "array([[1.0, 2.0, 3.0, 3.0],\n",
       "       [5.0, 4.0, 5.0, 4.0],\n",
       "       [8.0, 7.0, 4.0, 5.0],\n",
       "       [1.0, 5.0, 4.0, 1.0],\n",
       "       [4.0, 5.0, 1.0, 1.0],\n",
       "       [4.0, 5.0, 1.0, 4.0]])"
      ]
     },
     "execution_count": 630,
     "metadata": {},
     "output_type": "execute_result"
    }
   ],
   "source": [
    "x.reshape(6,-1)"
   ]
  },
  {
   "cell_type": "code",
   "execution_count": 631,
   "metadata": {},
   "outputs": [
    {
     "data": {
      "text/plain": [
       "array([[1.0, 2.0, 3.0, 3.0, 5.0, 4.0],\n",
       "       [5.0, 4.0, 8.0, 7.0, 4.0, 5.0],\n",
       "       [1.0, 5.0, 4.0, 1.0, 4.0, 5.0],\n",
       "       [1.0, 1.0, 4.0, 5.0, 1.0, 4.0]])"
      ]
     },
     "execution_count": 631,
     "metadata": {},
     "output_type": "execute_result"
    }
   ],
   "source": [
    "np.reshape(x,(4,-1))"
   ]
  },
  {
   "cell_type": "code",
   "execution_count": 632,
   "metadata": {},
   "outputs": [
    {
     "data": {
      "text/plain": [
       "2"
      ]
     },
     "execution_count": 632,
     "metadata": {},
     "output_type": "execute_result"
    }
   ],
   "source": [
    "np.ndim(np.reshape(x,(1,-1)))"
   ]
  },
  {
   "cell_type": "markdown",
   "metadata": {},
   "source": [
    "### Reshape fron 1D $\\longmapsto$ 2D"
   ]
  },
  {
   "cell_type": "code",
   "execution_count": 633,
   "metadata": {},
   "outputs": [
    {
     "data": {
      "text/plain": [
       "1"
      ]
     },
     "execution_count": 633,
     "metadata": {},
     "output_type": "execute_result"
    }
   ],
   "source": [
    "x=np.array([1,2,3])\n",
    "x.ndim"
   ]
  },
  {
   "cell_type": "code",
   "execution_count": 634,
   "metadata": {},
   "outputs": [
    {
     "data": {
      "text/plain": [
       "2"
      ]
     },
     "execution_count": 634,
     "metadata": {},
     "output_type": "execute_result"
    }
   ],
   "source": [
    "np.ndim(x[:,None])"
   ]
  },
  {
   "cell_type": "code",
   "execution_count": 635,
   "metadata": {},
   "outputs": [
    {
     "data": {
      "text/plain": [
       "2"
      ]
     },
     "execution_count": 635,
     "metadata": {},
     "output_type": "execute_result"
    }
   ],
   "source": [
    "np.ndim(x[:,np.newaxis])"
   ]
  },
  {
   "cell_type": "markdown",
   "metadata": {},
   "source": [
    "### Datatype $\\longmapsto$ Change of Datatype ( _Float $\\leftrightarrow$ Integer_)"
   ]
  },
  {
   "cell_type": "code",
   "execution_count": 636,
   "metadata": {},
   "outputs": [
    {
     "data": {
      "text/plain": [
       "dtype('int32')"
      ]
     },
     "execution_count": 636,
     "metadata": {},
     "output_type": "execute_result"
    }
   ],
   "source": [
    "x.dtype"
   ]
  },
  {
   "cell_type": "code",
   "execution_count": 637,
   "metadata": {},
   "outputs": [],
   "source": [
    "'1- First Methode -> dtype=XXX'\n",
    "#Int32 --> float32\n",
    "A=np.array(x, dtype=np.float32)"
   ]
  },
  {
   "cell_type": "code",
   "execution_count": 638,
   "metadata": {},
   "outputs": [
    {
     "data": {
      "text/plain": [
       "array([1.0, 2.0, 3.0], dtype=float32)"
      ]
     },
     "execution_count": 638,
     "metadata": {},
     "output_type": "execute_result"
    }
   ],
   "source": [
    "A"
   ]
  },
  {
   "cell_type": "code",
   "execution_count": 639,
   "metadata": {},
   "outputs": [
    {
     "data": {
      "text/plain": [
       "dtype('float32')"
      ]
     },
     "execution_count": 639,
     "metadata": {},
     "output_type": "execute_result"
    }
   ],
   "source": [
    "A.dtype"
   ]
  },
  {
   "cell_type": "code",
   "execution_count": 640,
   "metadata": {},
   "outputs": [
    {
     "data": {
      "text/plain": [
       "array([1.0, 2.0, 3.0])"
      ]
     },
     "execution_count": 640,
     "metadata": {},
     "output_type": "execute_result"
    }
   ],
   "source": [
    "'2- Second Methode -> .astype(np.XXX)'\n",
    "A=np.array(x.astype(np.float64))\n",
    "A"
   ]
  },
  {
   "cell_type": "code",
   "execution_count": 641,
   "metadata": {},
   "outputs": [
    {
     "data": {
      "text/plain": [
       "array([[1.0, 1.1],\n",
       "       [1.2, 1.3],\n",
       "       [1.5, 1.6],\n",
       "       [1.7, 1.8],\n",
       "       [1.9, 2.0],\n",
       "       [2.1, 2.3],\n",
       "       [2.4, 2.5],\n",
       "       [2.6, 2.7],\n",
       "       [2.8, 2.9],\n",
       "       [3.1, 3.2],\n",
       "       [3.3, 3.4],\n",
       "       [3.5, 3.6],\n",
       "       [3.7, 3.8],\n",
       "       [4.0, 4.1],\n",
       "       [4.2, 4.3],\n",
       "       [4.4, 4.5],\n",
       "       [4.6, 4.8],\n",
       "       [4.9, 5.0],\n",
       "       [5.1, 5.2],\n",
       "       [5.3, 5.4],\n",
       "       [5.6, 5.7],\n",
       "       [5.8, 5.9],\n",
       "       [6.0, 6.1],\n",
       "       [6.2, 6.4],\n",
       "       [6.5, 6.6],\n",
       "       [6.7, 6.8],\n",
       "       [6.9, 7.0],\n",
       "       [7.2, 7.3],\n",
       "       [7.4, 7.5],\n",
       "       [7.6, 7.7],\n",
       "       [7.8, 7.9],\n",
       "       [8.1, 8.2],\n",
       "       [8.3, 8.4],\n",
       "       [8.5, 8.6],\n",
       "       [8.7, 8.9],\n",
       "       [9.0, 9.1],\n",
       "       [9.2, 9.3],\n",
       "       [9.4, 9.5],\n",
       "       [9.7, 9.8],\n",
       "       [9.9, 10.0]])"
      ]
     },
     "execution_count": 641,
     "metadata": {},
     "output_type": "execute_result"
    }
   ],
   "source": [
    "np.reshape(np.linspace(1,10,num=80),(40,-1))"
   ]
  },
  {
   "cell_type": "code",
   "execution_count": 642,
   "metadata": {},
   "outputs": [
    {
     "data": {
      "text/plain": [
       "array([1.0, 1.0, 1.1, 1.2, 1.2, 1.3, 1.3, 1.4, 1.5, 1.5, 1.6, 1.7, 1.8,\n",
       "       1.8, 1.9, 2.0, 2.1, 2.2, 2.3, 2.4, 2.6, 2.7, 2.8, 2.9, 3.1, 3.2,\n",
       "       3.4, 3.6, 3.7, 3.9, 4.1, 4.3, 4.5, 4.7, 4.9, 5.2, 5.4, 5.7, 6.0,\n",
       "       6.3, 6.6, 6.9, 7.2, 7.5, 7.9, 8.3, 8.7, 9.1, 9.5, 10.0])"
      ]
     },
     "execution_count": 642,
     "metadata": {},
     "output_type": "execute_result"
    }
   ],
   "source": [
    "np.logspace(0,1,num=50)"
   ]
  },
  {
   "cell_type": "markdown",
   "metadata": {},
   "source": [
    "### Normal distribution & RANDOM "
   ]
  },
  {
   "cell_type": "code",
   "execution_count": 643,
   "metadata": {},
   "outputs": [],
   "source": [
    "x=np.random.randn(1000000) #Normal RANDOM VALUES"
   ]
  },
  {
   "cell_type": "code",
   "execution_count": 644,
   "metadata": {},
   "outputs": [
    {
     "data": {
      "text/plain": [
       "(array([2.0, 3.0, 5.0, 14.0, 29.0, 65.0, 105.0, 210.0, 477.0, 771.0,\n",
       "        1423.0, 2392.0, 3971.0, 6240.0, 9321.0, 13925.0, 19476.0, 26070.0,\n",
       "        34365.0, 43081.0, 52378.0, 61052.0, 68595.0, 73970.0, 76254.0,\n",
       "        77168.0, 74164.0, 69132.0, 62127.0, 53830.0, 44502.0, 35775.0,\n",
       "        27247.0, 20247.0, 14608.0, 10096.0, 6537.0, 4266.0, 2660.0, 1570.0,\n",
       "        854.0, 533.0, 252.0, 129.0, 55.0, 28.0, 17.0, 7.0, 1.0, 1.0]),\n",
       " array([-4.9, -4.7, -4.5, -4.3, -4.1, -3.9, -3.7, -3.5, -3.3, -3.1, -2.9,\n",
       "        -2.7, -2.5, -2.3, -2.2, -2.0, -1.8, -1.6, -1.4, -1.2, -1.0, -0.8,\n",
       "        -0.6, -0.4, -0.2, -0.0, 0.2, 0.4, 0.6, 0.8, 1.0, 1.1, 1.3, 1.5,\n",
       "        1.7, 1.9, 2.1, 2.3, 2.5, 2.7, 2.9, 3.1, 3.3, 3.5, 3.7, 3.9, 4.1,\n",
       "        4.3, 4.4, 4.6, 4.8]),\n",
       " <BarContainer object of 50 artists>)"
      ]
     },
     "execution_count": 644,
     "metadata": {},
     "output_type": "execute_result"
    },
    {
     "data": {
      "image/png": "[encoded data removed]",
      "text/plain": [
       "<Figure size 432x288 with 1 Axes>"
      ]
     },
     "metadata": {
      "needs_background": "light"
     },
     "output_type": "display_data"
    }
   ],
   "source": [
    "plt.hist(x,bins=50)"
   ]
  },
  {
   "cell_type": "markdown",
   "metadata": {},
   "source": [
    "### Some other useful of _Random function_"
   ]
  },
  {
   "cell_type": "code",
   "execution_count": 645,
   "metadata": {},
   "outputs": [],
   "source": [
    "# Generate the same random values\n",
    "a=np.random.seed(100)\n",
    "a"
   ]
  },
  {
   "cell_type": "code",
   "execution_count": 646,
   "metadata": {},
   "outputs": [
    {
     "data": {
      "text/plain": [
       "array([0.0, 0.0, 3.0])"
      ]
     },
     "execution_count": 646,
     "metadata": {},
     "output_type": "execute_result"
    }
   ],
   "source": [
    "# Choose 3 random numbers in [0,5) with the given probabilities.\n",
    "np.random.choice(4,3)"
   ]
  },
  {
   "cell_type": "code",
   "execution_count": 647,
   "metadata": {},
   "outputs": [
    {
     "data": {
      "text/plain": [
       "array([1.0, 2.0, 0.0])"
      ]
     },
     "execution_count": 647,
     "metadata": {},
     "output_type": "execute_result"
    }
   ],
   "source": [
    "# Choose 3 random numbers in [0,5) with the given probabilities without repeating\n",
    "np.random.choice(4,3, replace=False)"
   ]
  },
  {
   "cell_type": "code",
   "execution_count": 648,
   "metadata": {},
   "outputs": [],
   "source": [
    "# Choose 3 random numbers in [0,5) without replacement \n",
    "np.random.shuffle([1,2,3,5,4,5,5])"
   ]
  },
  {
   "cell_type": "markdown",
   "metadata": {},
   "source": [
    "### Accessing element (Slicing)"
   ]
  },
  {
   "cell_type": "code",
   "execution_count": 649,
   "metadata": {},
   "outputs": [
    {
     "data": {
      "text/plain": [
       "array([[1.0, 2.0, 3.0, 4.0],\n",
       "       [5.0, 6.0, 7.0, 8.0],\n",
       "       [9.0, 10.0, 11.0, 12.0]])"
      ]
     },
     "execution_count": 649,
     "metadata": {},
     "output_type": "execute_result"
    }
   ],
   "source": [
    "x=np.arange(1,13)\n",
    "X=np.array(x[:,None])\n",
    "X=np.reshape(X,(3,4))\n",
    "X"
   ]
  },
  {
   "cell_type": "code",
   "execution_count": 650,
   "metadata": {},
   "outputs": [
    {
     "name": "stdout",
     "output_type": "stream",
     "text": [
      "X[1,2] \t= 7\n"
     ]
    }
   ],
   "source": [
    "print('X[1,2] \\t= %s' % X[1,2])"
   ]
  },
  {
   "cell_type": "markdown",
   "metadata": {},
   "source": [
    "### Operation with Arrays"
   ]
  },
  {
   "cell_type": "code",
   "execution_count": 651,
   "metadata": {},
   "outputs": [],
   "source": [
    "x=np.array([[1,2],[3,4]], dtype=np.float64)\n",
    "y=np.array([[5,6],[7,8]], dtype=np.float64)"
   ]
  },
  {
   "cell_type": "code",
   "execution_count": 652,
   "metadata": {},
   "outputs": [
    {
     "name": "stdout",
     "output_type": "stream",
     "text": [
      "[[1.0 2.0]\n",
      " [3.0 4.0]]\n",
      "\n",
      "[[5.0 6.0]\n",
      " [7.0 8.0]]\n"
     ]
    }
   ],
   "source": [
    "print(x)\n",
    "print()\n",
    "print(y)"
   ]
  },
  {
   "cell_type": "code",
   "execution_count": 653,
   "metadata": {},
   "outputs": [
    {
     "name": "stdout",
     "output_type": "stream",
     "text": [
      "[[6.0 8.0]\n",
      " [10.0 12.0]]\n",
      "\n",
      "[[6.0 8.0]\n",
      " [10.0 12.0]]\n"
     ]
    }
   ],
   "source": [
    "# Elementweise sum; both produce the array\n",
    "print(x+y)\n",
    "print()\n",
    "print(np.add(x,y))"
   ]
  },
  {
   "cell_type": "code",
   "execution_count": 654,
   "metadata": {},
   "outputs": [
    {
     "name": "stdout",
     "output_type": "stream",
     "text": [
      "[[-4.0 -4.0]\n",
      " [-4.0 -4.0]]\n",
      "\n",
      "[[-4.0 -4.0]\n",
      " [-4.0 -4.0]]\n"
     ]
    }
   ],
   "source": [
    "# Elementweise diffrenece; both produce the array\n",
    "print(x-y)\n",
    "print()\n",
    "print(np.subtract(x,y))"
   ]
  },
  {
   "cell_type": "code",
   "execution_count": 655,
   "metadata": {},
   "outputs": [
    {
     "name": "stdout",
     "output_type": "stream",
     "text": [
      "[[5.0 12.0]\n",
      " [21.0 32.0]]\n",
      "\n",
      "[[5.0 12.0]\n",
      " [21.0 32.0]]\n"
     ]
    }
   ],
   "source": [
    "# Elementweise ptoduct; both produce the array\n",
    "print(x*y)\n",
    "print()\n",
    "print(np.multiply(x,y))"
   ]
  },
  {
   "cell_type": "code",
   "execution_count": 656,
   "metadata": {},
   "outputs": [
    {
     "name": "stdout",
     "output_type": "stream",
     "text": [
      "[[19.0 22.0]\n",
      " [43.0 50.0]]\n",
      "\n",
      "[[19.0 22.0]\n",
      " [43.0 50.0]]\n"
     ]
    }
   ],
   "source": [
    "# Multiplication of two matrices; both produce the array\n",
    "print(x@y)\n",
    "print()\n",
    "print(np.dot(x,y))"
   ]
  },
  {
   "cell_type": "code",
   "execution_count": 657,
   "metadata": {},
   "outputs": [
    {
     "name": "stdout",
     "output_type": "stream",
     "text": [
      "[[0.2 0.3]\n",
      " [0.4 0.5]]\n",
      "\n",
      "[[0.2 0.3]\n",
      " [0.4 0.5]]\n"
     ]
    }
   ],
   "source": [
    "# Elementweise devide; both produce the array\n",
    "print(x/y)\n",
    "print()\n",
    "print(np.divide(x,y))"
   ]
  },
  {
   "cell_type": "code",
   "execution_count": 658,
   "metadata": {},
   "outputs": [
    {
     "name": "stdout",
     "output_type": "stream",
     "text": [
      "[[1.0 2.0]\n",
      " [3.0 4.0]]\n",
      "\n",
      "[[1.0 1.4]\n",
      " [1.7 2.0]]\n"
     ]
    }
   ],
   "source": [
    "# Elementweise square root x²\n",
    "print(x)\n",
    "print()\n",
    "print(np.sqrt(x))"
   ]
  },
  {
   "cell_type": "markdown",
   "metadata": {},
   "source": [
    "## <span style=\"color:green\">• Marix multiplication in Numpy</span>\n",
    "- We instead use the <span style=\"color:red\">dot function</span> to compute:\n",
    "    \n",
    "    - inner products of vectors\n",
    "    \n",
    "    - multiply a vector by a matrix, and\n",
    "    \n",
    "    - multiply matrices\n",
    "    \n",
    "dot is available both as a function in the numpy module asn as an  instance method of array objects:"
   ]
  },
  {
   "cell_type": "code",
   "execution_count": 659,
   "metadata": {},
   "outputs": [],
   "source": [
    "v=np.array([9,10])\n",
    "w=np.array([11,12])"
   ]
  },
  {
   "cell_type": "code",
   "execution_count": 660,
   "metadata": {},
   "outputs": [
    {
     "name": "stdout",
     "output_type": "stream",
     "text": [
      "219\n",
      "\n",
      "219\n"
     ]
    }
   ],
   "source": [
    "# Inner porduct of vector\n",
    "print(v.dot(w))\n",
    "print()\n",
    "print(np.dot(v,w))"
   ]
  },
  {
   "cell_type": "code",
   "execution_count": 661,
   "metadata": {},
   "outputs": [
    {
     "name": "stdout",
     "output_type": "stream",
     "text": [
      "[35.0 81.0]\n",
      "\n",
      "[35.0 81.0]\n"
     ]
    }
   ],
   "source": [
    "# Matrix | Vector product\n",
    "print(x.dot(w))\n",
    "print()\n",
    "print(np.dot(x,w))"
   ]
  },
  {
   "cell_type": "code",
   "execution_count": 662,
   "metadata": {},
   "outputs": [
    {
     "name": "stdout",
     "output_type": "stream",
     "text": [
      "[[19.0 22.0]\n",
      " [43.0 50.0]]\n",
      "\n",
      "[[19.0 22.0]\n",
      " [43.0 50.0]]\n",
      "\n",
      "[[19.0 22.0]\n",
      " [43.0 50.0]]\n"
     ]
    }
   ],
   "source": [
    "# Multiplication of two matrices; both produce the array\n",
    "print(x@y)\n",
    "print()\n",
    "print(x.dot(y))\n",
    "print()\n",
    "print(np.dot(x,y))"
   ]
  },
  {
   "cell_type": "markdown",
   "metadata": {},
   "source": [
    "#### Transpose  for 1D/2D Matrices"
   ]
  },
  {
   "cell_type": "code",
   "execution_count": 663,
   "metadata": {},
   "outputs": [
    {
     "name": "stdout",
     "output_type": "stream",
     "text": [
      "[[1.0 2.0]\n",
      " [3.0 4.0]]\n",
      "\n",
      "2\n",
      "\n",
      "[[1.0 3.0]\n",
      " [2.0 4.0]]\n"
     ]
    }
   ],
   "source": [
    "print(x)\n",
    "print()\n",
    "print(x.ndim)\n",
    "print()\n",
    "print(x.T) #'T=Transpose'"
   ]
  },
  {
   "cell_type": "markdown",
   "metadata": {},
   "source": [
    "#### Transpose  for 3D oder more Matrices"
   ]
  },
  {
   "cell_type": "code",
   "execution_count": 664,
   "metadata": {},
   "outputs": [
    {
     "name": "stdout",
     "output_type": "stream",
     "text": [
      "3 D\n"
     ]
    },
    {
     "data": {
      "text/plain": [
       "array([[[0.0, 1.0, 2.0, 3.0],\n",
       "        [4.0, 5.0, 6.0, 7.0],\n",
       "        [8.0, 9.0, 10.0, 11.0]]])"
      ]
     },
     "execution_count": 664,
     "metadata": {},
     "output_type": "execute_result"
    }
   ],
   "source": [
    "s=np.arange(12).reshape(1,3,4)\n",
    "print(s.ndim,\"D\")\n",
    "s"
   ]
  },
  {
   "cell_type": "code",
   "execution_count": 665,
   "metadata": {},
   "outputs": [
    {
     "data": {
      "text/plain": [
       "array([[[0.0],\n",
       "        [4.0],\n",
       "        [8.0]],\n",
       "\n",
       "       [[1.0],\n",
       "        [5.0],\n",
       "        [9.0]],\n",
       "\n",
       "       [[2.0],\n",
       "        [6.0],\n",
       "        [10.0]],\n",
       "\n",
       "       [[3.0],\n",
       "        [7.0],\n",
       "        [11.0]]])"
      ]
     },
     "execution_count": 665,
     "metadata": {},
     "output_type": "execute_result"
    }
   ],
   "source": [
    "'Transpoe of 3D matrix'\n",
    "st=np.transpose(s)\n",
    "st"
   ]
  },
  {
   "cell_type": "markdown",
   "metadata": {},
   "source": [
    "#### Some useful functions (mathemaical and statistical)"
   ]
  },
  {
   "cell_type": "code",
   "execution_count": 666,
   "metadata": {},
   "outputs": [
    {
     "name": "stdout",
     "output_type": "stream",
     "text": [
      "min = 1.0\n",
      "max = 4.0\n",
      "sum = 10.0\n",
      "prod = 24.0\n",
      "mean = 2.5\n",
      "std = 1.118033988749895\n",
      "var = 1.25\n"
     ]
    }
   ],
   "source": [
    "for func in [x.min, x.max, x.sum, x.prod, x.mean, x.std, x.var]:\n",
    "    print(func.__name__ ,\"=\" , func())"
   ]
  },
  {
   "cell_type": "markdown",
   "metadata": {},
   "source": [
    "#### SUM-Function ($\\Sigma$)"
   ]
  },
  {
   "cell_type": "code",
   "execution_count": 667,
   "metadata": {},
   "outputs": [
    {
     "name": "stdout",
     "output_type": "stream",
     "text": [
      "[[1.0 2.0]\n",
      " [3.0 4.0]]\n",
      "\n",
      "10.0\n",
      "[4.0 6.0]\n",
      "[3.0 7.0]\n"
     ]
    }
   ],
   "source": [
    "print(x)\n",
    "print()\n",
    "print(np.sum(x))        # Comute sum of all elements\n",
    "print(np.sum(x,axis=0)) # Compute sum of axis 0\n",
    "print(np.sum(x,axis=1)) # Compute sum of axis 1"
   ]
  },
  {
   "cell_type": "code",
   "execution_count": 668,
   "metadata": {},
   "outputs": [
    {
     "name": "stdout",
     "output_type": "stream",
     "text": [
      "[[1.0 2.0]\n",
      " [3.0 4.0]]\n",
      "\n",
      "10.0\n"
     ]
    }
   ],
   "source": [
    "print(x)\n",
    "print()\n",
    "print(np.sum(x,axis=(0,1)))"
   ]
  },
  {
   "cell_type": "markdown",
   "metadata": {},
   "source": [
    "#### Mean-Function ($\\mu$)"
   ]
  },
  {
   "cell_type": "code",
   "execution_count": 669,
   "metadata": {},
   "outputs": [
    {
     "name": "stdout",
     "output_type": "stream",
     "text": [
      "[[1.0 2.0]\n",
      " [3.0 4.0]]\n",
      "\n",
      "2.5\n",
      "[2.0 3.0]\n",
      "[1.5 3.5]\n"
     ]
    }
   ],
   "source": [
    "print(x)\n",
    "print()\n",
    "print(np.mean(x))        # Comute mean (𝜇) of all elements\n",
    "print(np.mean(x,axis=0)) # Compute mean (𝜇) of axis 0\n",
    "print(np.mean(x,axis=1)) # Compute mean (𝜇) of axis 1"
   ]
  },
  {
   "cell_type": "markdown",
   "metadata": {},
   "source": [
    "#### Standard deviation ($\\sigma$)"
   ]
  },
  {
   "cell_type": "code",
   "execution_count": 670,
   "metadata": {},
   "outputs": [
    {
     "name": "stdout",
     "output_type": "stream",
     "text": [
      "[[1.0 2.0]\n",
      " [3.0 4.0]]\n",
      "\n",
      "1.118033988749895\n",
      "[1.0 1.0]\n",
      "[0.5 0.5]\n"
     ]
    }
   ],
   "source": [
    "print(x)\n",
    "print()\n",
    "print(np.std(x))        # Comute standard (𝜎) of all elements\n",
    "print(np.std(x,axis=0)) # Compute standard (𝜎) of axis 0\n",
    "print(np.std(x,axis=1)) # Compute standard (𝜎) of axis 1"
   ]
  },
  {
   "cell_type": "code",
   "execution_count": 671,
   "metadata": {},
   "outputs": [
    {
     "name": "stdout",
     "output_type": "stream",
     "text": [
      "_______________________________________________________________________________________________________________________________\n"
     ]
    }
   ],
   "source": [
    "print('_'*127)"
   ]
  },
  {
   "cell_type": "markdown",
   "metadata": {},
   "source": [
    "## <span style=\"color:green\">• Broadcasting</span> (Importnat)\n",
    "- In general, when Numpy expects arrays of the same shape but finds that this is not the case, it applies the so-calles broadcasting rules: "
   ]
  },
  {
   "cell_type": "markdown",
   "metadata": {},
   "source": [
    "### 1-First rules: Dimension\n",
    "یکی‌ از ابعاد باید برابر باشند\n",
    "\n",
    "if the arrays do not have the same rank, then a 1 will be prepended to the smaller ranking arrays until their ranks match."
   ]
  },
  {
   "cell_type": "code",
   "execution_count": 672,
   "metadata": {},
   "outputs": [
    {
     "data": {
      "text/plain": [
       "array([[[0.0, 1.0, 2.0, 3.0, 4.0]]])"
      ]
     },
     "execution_count": 672,
     "metadata": {},
     "output_type": "execute_result"
    }
   ],
   "source": [
    "x=np.arange(5).reshape(1,1,5) # A 3D array (tensor) \n",
    "x"
   ]
  },
  {
   "cell_type": "code",
   "execution_count": 673,
   "metadata": {},
   "outputs": [
    {
     "data": {
      "text/plain": [
       "array([10.0, 20.0, 30.0, 40.0, 50.0])"
      ]
     },
     "execution_count": 673,
     "metadata": {},
     "output_type": "execute_result"
    }
   ],
   "source": [
    "y=np.array([10,20,30,40,50])\n",
    "y"
   ]
  },
  {
   "cell_type": "code",
   "execution_count": 674,
   "metadata": {},
   "outputs": [
    {
     "name": "stdout",
     "output_type": "stream",
     "text": [
      "Dimnsion of x:  3 D\n",
      "Dimension of y:  1 D\n"
     ]
    }
   ],
   "source": [
    "print(\"Dimnsion of x: \",x.ndim,\"D\")\n",
    "print(\"Dimension of y: \", y.ndim,\"D\")"
   ]
  },
  {
   "cell_type": "code",
   "execution_count": 675,
   "metadata": {},
   "outputs": [
    {
     "name": "stdout",
     "output_type": "stream",
     "text": [
      "[[[10.0 21.0 32.0 43.0 54.0]]]\n",
      "\n",
      "3 D\n"
     ]
    }
   ],
   "source": [
    "# Adding x and y\n",
    "print(x+y)\n",
    "print()\n",
    "print(np.ndim(x+y),\"D\")"
   ]
  },
  {
   "cell_type": "markdown",
   "metadata": {},
   "source": [
    "### 2- Second rule:\n",
    "- Arrays with 1 along a particular dimension act as if they had the size of the array with largest shape along that dimention.\n",
    "- The value of the array element is repeated along that dimension"
   ]
  },
  {
   "cell_type": "code",
   "execution_count": 676,
   "metadata": {},
   "outputs": [
    {
     "name": "stdout",
     "output_type": "stream",
     "text": [
      "[[0.0 1.0 2.0]\n",
      " [3.0 4.0 5.0]]\n"
     ]
    }
   ],
   "source": [
    "x=np.arange(6).reshape(2,3) # A 2-by-3 array\n",
    "print(x)\n"
   ]
  },
  {
   "cell_type": "code",
   "execution_count": 677,
   "metadata": {},
   "outputs": [
    {
     "name": "stdout",
     "output_type": "stream",
     "text": [
      "[[100.0]\n",
      " [200.0]]\n"
     ]
    }
   ],
   "source": [
    "y=np.array([[100],[200]]) # a 2-by-1 array\n",
    "print(y)"
   ]
  },
  {
   "cell_type": "code",
   "execution_count": 678,
   "metadata": {},
   "outputs": [
    {
     "name": "stdout",
     "output_type": "stream",
     "text": [
      "[[100.0 101.0 102.0]\n",
      " [203.0 204.0 205.0]]\n"
     ]
    }
   ],
   "source": [
    "print(x+y) # smae as : x + [[100,100,100],[200,200,200]]"
   ]
  },
  {
   "cell_type": "markdown",
   "metadata": {},
   "source": [
    "#### combining rules 1&2:"
   ]
  },
  {
   "cell_type": "code",
   "execution_count": 679,
   "metadata": {},
   "outputs": [
    {
     "data": {
      "text/plain": [
       "array([[0.0, 1.0, 2.0],\n",
       "       [3.0, 4.0, 5.0]])"
      ]
     },
     "execution_count": 679,
     "metadata": {},
     "output_type": "execute_result"
    }
   ],
   "source": [
    "x=np.arange(6).reshape(2,3) # shape of x is (2,3)\n",
    "x"
   ]
  },
  {
   "cell_type": "code",
   "execution_count": 680,
   "metadata": {},
   "outputs": [
    {
     "data": {
      "text/plain": [
       "array([100.0, 200.0, 300.0])"
      ]
     },
     "execution_count": 680,
     "metadata": {},
     "output_type": "execute_result"
    }
   ],
   "source": [
    "y=np.array([100,200,300]) # shape of y is (3,)\n",
    "y"
   ]
  },
  {
   "cell_type": "code",
   "execution_count": 681,
   "metadata": {},
   "outputs": [
    {
     "name": "stdout",
     "output_type": "stream",
     "text": [
      "[[0.0 1.0 2.0]\n",
      " [3.0 4.0 5.0]]\n",
      "\n",
      "[100.0 200.0 300.0]\n",
      "\n",
      "[[100.0 201.0 302.0]\n",
      " [103.0 204.0 305.0]]\n"
     ]
    }
   ],
   "source": [
    "print(x)\n",
    "print()\n",
    "print(y)\n",
    "print()\n",
    "print(x+y)"
   ]
  },
  {
   "cell_type": "code",
   "execution_count": 682,
   "metadata": {},
   "outputs": [
    {
     "data": {
      "text/plain": [
       "array([1000.0])"
      ]
     },
     "execution_count": 682,
     "metadata": {},
     "output_type": "execute_result"
    }
   ],
   "source": [
    "z=np.array([1000]) # shape of z is (1,)\n",
    "z"
   ]
  },
  {
   "cell_type": "code",
   "execution_count": 683,
   "metadata": {},
   "outputs": [
    {
     "name": "stdout",
     "output_type": "stream",
     "text": [
      "[[1000.0 1001.0 1002.0]\n",
      " [1003.0 1004.0 1005.0]]\n",
      "\n",
      "[[1000.0 1001.0 1002.0]\n",
      " [1003.0 1004.0 1005.0]]\n"
     ]
    }
   ],
   "source": [
    "print(x+z) # A is same to B\n",
    "print()\n",
    "print(x+1000) # B is same ro A"
   ]
  },
  {
   "cell_type": "markdown",
   "metadata": {},
   "source": [
    "### 3- Third rule:\n",
    "- After rules 1 & 2 , the sizes of all arrays must match."
   ]
  },
  {
   "cell_type": "code",
   "execution_count": 684,
   "metadata": {},
   "outputs": [
    {
     "name": "stdout",
     "output_type": "stream",
     "text": [
      "[[2.0 2.0 4.0]\n",
      " [5.0 5.0 7.0]\n",
      " [8.0 8.0 10.0]\n",
      " [11.0 11.0 13.0]]\n"
     ]
    }
   ],
   "source": [
    "# We will add the vector v to each row of the matrix x,\n",
    "#storing the result in the matrix y\n",
    "\n",
    "x=np.array([[ 1, 2, 3],\n",
    "            [ 4, 5, 6],\n",
    "            [ 7, 8, 9],\n",
    "            [10,11,12]])\n",
    "\n",
    "v=np.array([1,0,1])\n",
    "y=np.empty_like(x) # Create an empty matirx with thesame shape as x\n",
    "\n",
    "# Add the vector v to each row of the matrix x with an explicit Loop\n",
    "for i in range(4):\n",
    "    y[i,:] =x[i,:] + v\n",
    "print(y)"
   ]
  },
  {
   "cell_type": "code",
   "execution_count": 685,
   "metadata": {},
   "outputs": [
    {
     "data": {
      "text/plain": [
       "array([[2.0, 2.0, 4.0],\n",
       "       [5.0, 5.0, 7.0],\n",
       "       [8.0, 8.0, 10.0],\n",
       "       [11.0, 11.0, 13.0]])"
      ]
     },
     "execution_count": 685,
     "metadata": {},
     "output_type": "execute_result"
    }
   ],
   "source": [
    "# Amuch more samle and more effivintly way\n",
    "y= x+v\n",
    "y"
   ]
  },
  {
   "cell_type": "code",
   "execution_count": 686,
   "metadata": {},
   "outputs": [
    {
     "name": "stdout",
     "output_type": "stream",
     "text": [
      "_______________________________________________________________________________________________________________________________\n"
     ]
    }
   ],
   "source": [
    "print('_'*127)"
   ]
  },
  {
   "cell_type": "markdown",
   "metadata": {},
   "source": [
    "## <span style=\"color:green\">Conditional Operatrs</span>\n",
    "- The conditional operators also apply elemnetwise:"
   ]
  },
  {
   "cell_type": "code",
   "execution_count": 687,
   "metadata": {},
   "outputs": [
    {
     "name": "stdout",
     "output_type": "stream",
     "text": [
      "[1.0 1.0 1.0 0.0]\n"
     ]
    }
   ],
   "source": [
    "x=np.array([2,-5,30, 40])\n",
    "print(x<[15,16,36,30])"
   ]
  },
  {
   "cell_type": "code",
   "execution_count": 688,
   "metadata": {},
   "outputs": [
    {
     "name": "stdout",
     "output_type": "stream",
     "text": [
      "[1.0 1.0 0.0 0.0]\n"
     ]
    }
   ],
   "source": [
    "print(x<25) #using Broadcasting"
   ]
  },
  {
   "cell_type": "code",
   "execution_count": 689,
   "metadata": {},
   "outputs": [
    {
     "name": "stdout",
     "output_type": "stream",
     "text": [
      "[2.0 -5.0]\n"
     ]
    }
   ],
   "source": [
    "#Select x-values < 25\n",
    "print(x[x<25])"
   ]
  },
  {
   "cell_type": "code",
   "execution_count": 690,
   "metadata": {},
   "outputs": [
    {
     "name": "stdout",
     "output_type": "stream",
     "text": [
      "_______________________________________________________________________________________________________________________________\n"
     ]
    }
   ],
   "source": [
    "print('_'*127)"
   ]
  },
  {
   "cell_type": "markdown",
   "metadata": {},
   "source": [
    "## <span style=\"color:green\">Stacking arrays</span>"
   ]
  },
  {
   "cell_type": "code",
   "execution_count": 691,
   "metadata": {},
   "outputs": [
    {
     "data": {
      "text/plain": [
       "array([[1.0, 1.0, 1.0, 1.0],\n",
       "       [1.0, 1.0, 1.0, 1.0],\n",
       "       [1.0, 1.0, 1.0, 1.0]])"
      ]
     },
     "execution_count": 691,
     "metadata": {},
     "output_type": "execute_result"
    }
   ],
   "source": [
    "A=np.full((3,4),1.0)\n",
    "A"
   ]
  },
  {
   "cell_type": "code",
   "execution_count": 692,
   "metadata": {},
   "outputs": [
    {
     "data": {
      "text/plain": [
       "array([[2.0, 2.0, 2.0, 2.0],\n",
       "       [2.0, 2.0, 2.0, 2.0],\n",
       "       [2.0, 2.0, 2.0, 2.0]])"
      ]
     },
     "execution_count": 692,
     "metadata": {},
     "output_type": "execute_result"
    }
   ],
   "source": [
    "B=np.full((3,4),2.0)\n",
    "B"
   ]
  },
  {
   "cell_type": "code",
   "execution_count": 693,
   "metadata": {},
   "outputs": [
    {
     "data": {
      "text/plain": [
       "array([[5.0, 5.0, 5.0, 5.0],\n",
       "       [5.0, 5.0, 5.0, 5.0],\n",
       "       [5.0, 5.0, 5.0, 5.0]])"
      ]
     },
     "execution_count": 693,
     "metadata": {},
     "output_type": "execute_result"
    }
   ],
   "source": [
    "C=np.full((3,4),5.0)\n",
    "C"
   ]
  },
  {
   "cell_type": "markdown",
   "metadata": {},
   "source": [
    "### np.vstack \n",
    "- icluding the matrices to eachother\n",
    "- they must have the same dimension"
   ]
  },
  {
   "cell_type": "code",
   "execution_count": 694,
   "metadata": {
    "scrolled": true
   },
   "outputs": [
    {
     "data": {
      "text/plain": [
       "array([[1.0, 1.0, 1.0, 1.0],\n",
       "       [1.0, 1.0, 1.0, 1.0],\n",
       "       [1.0, 1.0, 1.0, 1.0],\n",
       "       [2.0, 2.0, 2.0, 2.0],\n",
       "       [2.0, 2.0, 2.0, 2.0],\n",
       "       [2.0, 2.0, 2.0, 2.0],\n",
       "       [5.0, 5.0, 5.0, 5.0],\n",
       "       [5.0, 5.0, 5.0, 5.0],\n",
       "       [5.0, 5.0, 5.0, 5.0]])"
      ]
     },
     "execution_count": 694,
     "metadata": {},
     "output_type": "execute_result"
    }
   ],
   "source": [
    "x=np.vstack((A,B,C)) # V=VerticalStack\n",
    "x"
   ]
  },
  {
   "cell_type": "markdown",
   "metadata": {},
   "source": [
    "### np.hstack \n",
    "- icluding the matrices to eachother"
   ]
  },
  {
   "cell_type": "code",
   "execution_count": 695,
   "metadata": {},
   "outputs": [
    {
     "data": {
      "text/plain": [
       "array([[1.0, 1.0, 1.0, 1.0, 2.0, 2.0, 2.0, 2.0, 5.0, 5.0, 5.0, 5.0],\n",
       "       [1.0, 1.0, 1.0, 1.0, 2.0, 2.0, 2.0, 2.0, 5.0, 5.0, 5.0, 5.0],\n",
       "       [1.0, 1.0, 1.0, 1.0, 2.0, 2.0, 2.0, 2.0, 5.0, 5.0, 5.0, 5.0]])"
      ]
     },
     "execution_count": 695,
     "metadata": {},
     "output_type": "execute_result"
    }
   ],
   "source": [
    "y=np.hstack((A,B,C)) # H=HorizentalStack\n",
    "y"
   ]
  },
  {
   "cell_type": "markdown",
   "metadata": {},
   "source": [
    "### Concatenate\n",
    "- the concatenate function tacks arrays along **any given existing axis**"
   ]
  },
  {
   "cell_type": "code",
   "execution_count": 696,
   "metadata": {},
   "outputs": [
    {
     "data": {
      "text/plain": [
       "array([[1.0, 1.0, 1.0, 1.0, 2.0, 2.0, 2.0, 2.0, 5.0, 5.0, 5.0, 5.0],\n",
       "       [1.0, 1.0, 1.0, 1.0, 2.0, 2.0, 2.0, 2.0, 5.0, 5.0, 5.0, 5.0],\n",
       "       [1.0, 1.0, 1.0, 1.0, 2.0, 2.0, 2.0, 2.0, 5.0, 5.0, 5.0, 5.0]])"
      ]
     },
     "execution_count": 696,
     "metadata": {},
     "output_type": "execute_result"
    }
   ],
   "source": [
    "x=np.concatenate((A,B,C),axis=1) #same as 'np.vstack'\n",
    "x"
   ]
  },
  {
   "cell_type": "markdown",
   "metadata": {},
   "source": [
    "### Stack\n",
    "- The _\"satck-function\"_ stacks arrays along **a new axis**\n",
    "- All arrays have to have the **same shape**\n",
    "- _\"stack\"_ increases the dimension of array (1D $\\rightarrow$ 2D | 2D $\\rightarrow$ 3D )"
   ]
  },
  {
   "cell_type": "code",
   "execution_count": 697,
   "metadata": {},
   "outputs": [
    {
     "name": "stdout",
     "output_type": "stream",
     "text": [
      "3\n"
     ]
    },
    {
     "data": {
      "text/plain": [
       "array([[[1.0, 1.0, 1.0, 1.0],\n",
       "        [5.0, 5.0, 5.0, 5.0]],\n",
       "\n",
       "       [[1.0, 1.0, 1.0, 1.0],\n",
       "        [5.0, 5.0, 5.0, 5.0]],\n",
       "\n",
       "       [[1.0, 1.0, 1.0, 1.0],\n",
       "        [5.0, 5.0, 5.0, 5.0]]])"
      ]
     },
     "execution_count": 697,
     "metadata": {},
     "output_type": "execute_result"
    }
   ],
   "source": [
    "x=np.stack((A,C),axis=1)\n",
    "print(x.ndim)\n",
    "x"
   ]
  },
  {
   "cell_type": "markdown",
   "metadata": {},
   "source": [
    "## <span style=\"color:green\">• Saving and Loading</span>"
   ]
  },
  {
   "cell_type": "markdown",
   "metadata": {},
   "source": [
    "### • Binary format"
   ]
  },
  {
   "cell_type": "code",
   "execution_count": 698,
   "metadata": {},
   "outputs": [
    {
     "name": "stdout",
     "output_type": "stream",
     "text": [
      "[[0.8 0.1 0.6]\n",
      " [0.9 0.2 0.2]]\n"
     ]
    }
   ],
   "source": [
    "A=np.random.rand(2,3)\n",
    "print(A)\n",
    "\n",
    "# Save in binary format (.npy)\n",
    "np.save('my_array',A)"
   ]
  },
  {
   "cell_type": "code",
   "execution_count": 699,
   "metadata": {},
   "outputs": [
    {
     "name": "stdout",
     "output_type": "stream",
     "text": [
      "[[0.8 0.1 0.6]\n",
      " [0.9 0.2 0.2]]\n"
     ]
    }
   ],
   "source": [
    "# Load\n",
    "B=np.load('my_array.npy')\n",
    "print(B)"
   ]
  },
  {
   "cell_type": "markdown",
   "metadata": {},
   "source": [
    "### • TXT format"
   ]
  },
  {
   "cell_type": "code",
   "execution_count": 700,
   "metadata": {},
   "outputs": [],
   "source": [
    "np.savetxt('my_array.csv',A)"
   ]
  },
  {
   "cell_type": "code",
   "execution_count": 701,
   "metadata": {},
   "outputs": [
    {
     "data": {
      "text/plain": [
       "array([[0.8, 0.1, 0.6],\n",
       "       [0.9, 0.2, 0.2]])"
      ]
     },
     "execution_count": 701,
     "metadata": {},
     "output_type": "execute_result"
    }
   ],
   "source": [
    "B=np.loadtxt('my_array.csv')\n",
    "B"
   ]
  },
  {
   "cell_type": "code",
   "execution_count": 702,
   "metadata": {},
   "outputs": [],
   "source": [
    "np.savetxt('my_array.csv',A, delimiter=',')"
   ]
  },
  {
   "cell_type": "code",
   "execution_count": 703,
   "metadata": {},
   "outputs": [
    {
     "name": "stdout",
     "output_type": "stream",
     "text": [
      "_______________________________________________________________________________________________________________________________\n"
     ]
    }
   ],
   "source": [
    "print('_'*127)"
   ]
  },
  {
   "cell_type": "markdown",
   "metadata": {},
   "source": [
    "## <span style=\"color:green\">• Plotting</span>\n",
    "- The most important function in matplotlib is **plot**, wicht allows you to plot 2D / 3D visualisation"
   ]
  },
  {
   "cell_type": "code",
   "execution_count": 705,
   "metadata": {},
   "outputs": [
    {
     "data": {
      "image/png": "[encoded data removed]",
      "text/plain": [
       "<Figure size 432x288 with 1 Axes>"
      ]
     },
     "metadata": {
      "needs_background": "light"
     },
     "output_type": "display_data"
    }
   ],
   "source": [
    "# Compute the x and y coordinates for points am a sine curve\n",
    "x = np.arange(0 , 3*np.pi , 0.1)\n",
    "y1=np.sin(x)\n",
    "\n",
    "plt.plot(y1);"
   ]
  },
  {
   "cell_type": "code",
   "execution_count": 706,
   "metadata": {},
   "outputs": [
    {
     "data": {
      "image/png": "[encoded data removed]",
      "text/plain": [
       "<Figure size 432x288 with 1 Axes>"
      ]
     },
     "metadata": {
      "needs_background": "light"
     },
     "output_type": "display_data"
    }
   ],
   "source": [
    "y2=np.cos(x)\n",
    "\n",
    "plt.plot(y2);"
   ]
  },
  {
   "cell_type": "code",
   "execution_count": 710,
   "metadata": {},
   "outputs": [
    {
     "data": {
      "image/png": "[encoded data removed]",
      "text/plain": [
       "<Figure size 432x288 with 1 Axes>"
      ]
     },
     "metadata": {
      "needs_background": "light"
     },
     "output_type": "display_data"
    }
   ],
   "source": [
    "# Stay plot near eachother\n",
    "plt.plot(x,y1)\n",
    "plt.plot(x,y2)\n",
    "plt.xlabel('x')\n",
    "plt.ylabel('y')\n",
    "plt.title('Sine and Cosine')\n",
    "plt.legend(['Sinus','Cosinus']);\n"
   ]
  },
  {
   "cell_type": "code",
   "execution_count": 718,
   "metadata": {},
   "outputs": [
    {
     "data": {
      "image/png": "[encoded data removed]",
      "text/plain": [
       "<Figure size 432x288 with 1 Axes>"
      ]
     },
     "metadata": {
      "needs_background": "light"
     },
     "output_type": "display_data"
    }
   ],
   "source": [
    "# Other options to visualisation\n",
    "plt.plot(x,y1,'r--',x,y2,'b:')\n",
    "plt.legend(['Sinus','Cosinus']);"
   ]
  },
  {
   "cell_type": "markdown",
   "metadata": {},
   "source": [
    "## • Subplots\n",
    "- You can plot different things in the same figure using the subplot function.\n",
    "- These subplots are organized in a grid\n",
    "- To create a subplot, just call the subplot function, and specify the number of rows and columns in the figure, and the index of the subplot you want to draw on (_starting from 1, then left to right, and top to down_)\n",
    "- Note that pyplot keeps track of the currently active subplot (_wich you can get a reference to by calling <plt.gca()>, so when you call the plot-function, it draws on the **active** subplot_)"
   ]
  },
  {
   "cell_type": "code",
   "execution_count": 719,
   "metadata": {},
   "outputs": [
    {
     "data": {
      "image/png": "[encoded data removed]",
      "text/plain": [
       "<Figure size 432x288 with 2 Axes>"
      ]
     },
     "metadata": {
      "needs_background": "light"
     },
     "output_type": "display_data"
    }
   ],
   "source": [
    "x=np.arange(1,3*np.pi,0.1)\n",
    "y1=np.tan(x)\n",
    "y2=np.cos(x)\n",
    "\n",
    "#اول باید مشخص کرد که گرید ما چند در چند هست.\n",
    "#Set up a subplot grid that has 1 row and 2 columns\n",
    "#Set the first such subplot as active\n",
    "plt.subplot(1,2,1)\n",
    "plt.plot(x,y1)\n",
    "plt.title('Tangent')\n",
    "\n",
    "\n",
    "# Set the second subplot as active, and make the second plot\n",
    "plt.subplot(1,2,2)\n",
    "plt.plot(x,y2)\n",
    "plt.title('Cosine')\n",
    "\n",
    "# Show the figure\n",
    "plt.show()\n"
   ]
  },
  {
   "cell_type": "code",
   "execution_count": 720,
   "metadata": {},
   "outputs": [
    {
     "data": {
      "image/png": "[encoded data removed]",
      "text/plain": [
       "<Figure size 432x288 with 2 Axes>"
      ]
     },
     "metadata": {
      "needs_background": "light"
     },
     "output_type": "display_data"
    }
   ],
   "source": [
    "#Set up a subplot grid that has 2 row and 1 columns\n",
    "#Set the first such subplot as active\n",
    "plt.subplot(2,1,1)\n",
    "plt.plot(x,y1)\n",
    "plt.title('Tangent')\n",
    "\n",
    "\n",
    "# Set the second subplot as active, and make the second plot\n",
    "plt.subplot(2,1,2)\n",
    "plt.plot(x,y2)\n",
    "plt.title('Cosine')\n",
    "\n",
    "# Show the figure\n",
    "plt.show()"
   ]
  },
  {
   "cell_type": "code",
   "execution_count": 737,
   "metadata": {},
   "outputs": [
    {
     "data": {
      "image/png": "[encoded data removed]",
      "text/plain": [
       "<Figure size 432x288 with 4 Axes>"
      ]
     },
     "metadata": {
      "needs_background": "light"
     },
     "output_type": "display_data"
    }
   ],
   "source": [
    "x=np.linspace(-1.4,5,50)\n",
    "\n",
    "# Subplot with 4 rows and 4 columns\n",
    "\n",
    "plt.subplot(2,2,1) # 1st subplot = top left\n",
    "plt.plot(x,x**1/2) \n",
    "\n",
    "plt.subplot(2,2,2) # 2nd subplot = top right\n",
    "plt.plot(x,x**2-x)\n",
    "\n",
    "plt.subplot(2,2,3) # 2nd subplot = down left\n",
    "plt.plot(x,x**3+np.tan(x))\n",
    "\n",
    "\n",
    "plt.subplot(2,2,4) # 2nd subplot = down right\n",
    "plt.plot(x,x**4)\n",
    "\n",
    "# Plot show\n",
    "plt.show()"
   ]
  },
  {
   "cell_type": "markdown",
   "metadata": {},
   "source": [
    "### Usnig $LaTeX$ for formuls"
   ]
  },
  {
   "cell_type": "code",
   "execution_count": 756,
   "metadata": {},
   "outputs": [
    {
     "data": {
      "image/png": "[encoded data removed]",
      "text/plain": [
       "<Figure size 432x288 with 1 Axes>"
      ]
     },
     "metadata": {
      "needs_background": "light"
     },
     "output_type": "display_data"
    }
   ],
   "source": [
    "x=np.linspace(0,2,50)\n",
    "y=x**2-np.sqrt(x**5)/2\n",
    "\n",
    "plt.plot(x,y,'r-')\n",
    "plt.xlabel(\"$x$\")\n",
    "plt.ylabel(\"$x^2-\\sqrt{x^25}$\") #LaTeX writing format'\n",
    "plt.title('Function')\n",
    "plt.show()"
   ]
  },
  {
   "cell_type": "code",
   "execution_count": null,
   "metadata": {},
   "outputs": [],
   "source": []
  }
 ],
 "metadata": {
  "kernelspec": {
   "display_name": "Python 3",
   "language": "python",
   "name": "python3"
  },
  "language_info": {
   "codemirror_mode": {
    "name": "ipython",
    "version": 3
   },
   "file_extension": ".py",
   "mimetype": "text/x-python",
   "name": "python",
   "nbconvert_exporter": "python",
   "pygments_lexer": "ipython3",
   "version": "3.8.5"
  }
 },
 "nbformat": 4,
 "nbformat_minor": 4
}
